{
 "cells": [
  {
   "cell_type": "markdown",
   "metadata": {},
   "source": [
    "# LangChain"
   ]
  },
  {
   "cell_type": "markdown",
   "metadata": {},
   "source": [
    "* DocumentLoader\n",
    "* text-splitter -> chunks(max_tokens)\n",
    "* FAISS (Embeddings + Vector Database) (similarity-search)\n"
   ]
  },
  {
   "cell_type": "code",
   "execution_count": 1,
   "metadata": {},
   "outputs": [],
   "source": [
    "from dotenv import load_dotenv\n",
    "import os\n",
    "from openai import OpenAI\n",
    "\n",
    "load_dotenv()\n",
    "\n",
    "client = OpenAI(\n",
    "    api_key=os.getenv(\"OPENAI_API_KEY\"),\n",
    ")"
   ]
  },
  {
   "cell_type": "markdown",
   "metadata": {},
   "source": []
  },
  {
   "cell_type": "code",
   "execution_count": 4,
   "metadata": {},
   "outputs": [
    {
     "name": "stdout",
     "output_type": "stream",
     "text": [
      "ChatCompletionMessage(content='In the realm where logic flows and circuits intertwine,\\nA concept deep, recursion blooms—a method so divine.\\nBehold the call that echoes forth, within itself it lies,\\nA loop of thought, a mirrored path, where code in fractals flies.\\n\\nImagine tasks, both great and small, in steps that seem to meld,\\nBy breaking down complexity, simplicity is held.\\nA function calls itself to dance, till base case halts its flight,\\nEach layer peels, the task revealed, in twilight meets the light.\\n\\nJust as a Russian nesting doll contains a smaller kin,\\nRecursion digs into its heart, to solve from deep within.\\nAn infinite yet bounded loop, with grace and measured pace,\\nEach instance births another one, till end meets start, face-to-face.\\n\\nA problem thus dissolved in steps, like waves upon a shore,\\nRecursion sweeps complexity, unveiling core and more.\\nFor in each call, a world complete, yet part of something vast,\\nInfinity in finite terms, a future from the past.\\n\\nSo when you write a recursive code, let art and logic blend,\\nWith elegance, the self unfolds, and sees the task to end.\\nIn echoing depths where logic wakes, a song of math and verse—\\nRecursion weaves its endless tale, the universe, immersed.', role='assistant', function_call=None, tool_calls=None)\n"
     ]
    }
   ],
   "source": [
    "response = client.chat.completions.create(\n",
    "  model=\"gpt-4o\",\n",
    "  messages=[\n",
    "    {\"role\": \"system\", \"content\": \"You are a poetic assistant, skilled in explaining complex programming concepts with creative flair.\"},\n",
    "    {\"role\": \"user\", \"content\": \"Compose a poem that explains the concept of recursion in programming.\"}\n",
    "  ]\n",
    ")\n",
    "\n",
    "print(response.choices[0].message)"
   ]
  }
 ],
 "metadata": {
  "kernelspec": {
   "display_name": "masterarbeit_stage_1",
   "language": "python",
   "name": "python3"
  },
  "language_info": {
   "codemirror_mode": {
    "name": "ipython",
    "version": 3
   },
   "file_extension": ".py",
   "mimetype": "text/x-python",
   "name": "python",
   "nbconvert_exporter": "python",
   "pygments_lexer": "ipython3",
   "version": "3.11.8"
  }
 },
 "nbformat": 4,
 "nbformat_minor": 2
}
