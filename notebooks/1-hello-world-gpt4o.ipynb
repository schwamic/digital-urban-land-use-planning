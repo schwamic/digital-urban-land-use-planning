{
 "cells": [
  {
   "cell_type": "markdown",
   "metadata": {},
   "source": [
    "# 1 Zeichnerischer Teil Bebauungsplan – OCR (GPT-4o)\n",
    "\n",
    "* Zero-Shot\n",
    "* Chain-Of-Thought"
   ]
  },
  {
   "cell_type": "code",
   "execution_count": 3,
   "metadata": {},
   "outputs": [],
   "source": [
    "\n",
    "from utils.openai import OpenAI\n",
    "from utils.pprint import pprint\n",
    "\n",
    "# Initialisierung\n",
    "instructions = \"Du bist ein Assistent zur getreuen Wiedergabe von Informationen aus einem Bebauungsplan. Achte auf Vollständigkeit.\"\n",
    "chatGPT = OpenAI(instructions)"
   ]
  },
  {
   "cell_type": "code",
   "execution_count": 4,
   "metadata": {},
   "outputs": [
    {
     "name": "stdout",
     "output_type": "stream",
     "text": [
      "```json\n",
      "{\"Gültig seit\": 1979}\n",
      "```\n",
      "#############################################\n",
      "```json\n",
      "{\"Gültig seit\": 2000}\n",
      "```\n",
      "#############################################\n",
      "Stored 'msg1_l04_year' (str)\n",
      "Stored 'msg1_f11_year' (str)\n"
     ]
    }
   ],
   "source": [
    "# Source\n",
    "img_path = \"../data/processed/bpläne/1_alles_in_einem_dokument/L04-ZE-TT-crop.png\"\n",
    "pdf_path = \"../data/raw/bpläne/2_zeichnung_textteil_getrennt/F11-PZ-ZE.pdf\"\n",
    "\n",
    "# Task\n",
    "instruction = 'In welchem Jahr ist der vorliegende Bebauungsplan in Kraft getreten? Ausgabe im JSON-Format: {\"Gültig seit\": <YYYY>}'\n",
    "msg1_l04_year = await chatGPT.extractTextFromImage(instruction, img_path)\n",
    "msg1_f11_year = await chatGPT.extractTextFromImage(instruction, pdf_path, \"pdf\")\n",
    "\n",
    "# Output\n",
    "pprint([msg1_l04_year, msg1_f11_year])\n",
    "%store msg1_l04_year msg1_f11_year"
   ]
  }
 ],
 "metadata": {
  "kernelspec": {
   "display_name": "masterarbeit_stage_1",
   "language": "python",
   "name": "python3"
  },
  "language_info": {
   "codemirror_mode": {
    "name": "ipython",
    "version": 3
   },
   "file_extension": ".py",
   "mimetype": "text/x-python",
   "name": "python",
   "nbconvert_exporter": "python",
   "pygments_lexer": "ipython3",
   "version": "3.11.8"
  }
 },
 "nbformat": 4,
 "nbformat_minor": 2
}
