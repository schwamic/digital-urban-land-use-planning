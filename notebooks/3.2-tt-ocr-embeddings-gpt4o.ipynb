{
 "cells": [
  {
   "cell_type": "markdown",
   "metadata": {},
   "source": [
    "# 3.1 Textlicher Teil Bebauungsplan – OCR+Embeddings (GPT-4o)\n",
    "\n",
    "* Zero-Shot\n",
    "* Chain-Of-Thought\n",
    "* [LangChain Document Loader](https://python.langchain.com/v0.2/docs/how_to/document_loader_pdf/)"
   ]
  },
  {
   "cell_type": "code",
   "execution_count": 1,
   "metadata": {},
   "outputs": [],
   "source": [
    "from utils.pdf2prompts import pdf2prompts\n",
    "import asyncio\n",
    "import os\n",
    "from dotenv import load_dotenv, find_dotenv\n",
    "from langchain_openai import ChatOpenAI\n",
    "from langchain.schema.messages import AIMessage, HumanMessage\n",
    "from langchain_community.document_loaders import PyMuPDFLoader\n",
    "from langchain_community.vectorstores import FAISS\n",
    "from langchain_openai import OpenAIEmbeddings\n",
    "\n",
    "load_dotenv(find_dotenv())\n",
    "\n",
    "model = ChatOpenAI(\n",
    "    openai_api_key=os.getenv(\"OPENAI_API_KEY\"),\n",
    "    model_name=\"gpt-4o\",\n",
    "    model_kwargs={\"top_p\": 0, \"seed\": 42},\n",
    "    temperature=0,\n",
    ")"
   ]
  },
  {
   "cell_type": "code",
   "execution_count": 77,
   "metadata": {},
   "outputs": [
    {
     "data": {
      "text/plain": [
       "Document(page_content='19.06.2000\\nOviS\\nG\\n9833\\nSCHRIFTLICHER TEIL (Teil B)\\nBEBAUUNGSPLAN \"GEWERBEGEBIET HIMMELREICH\"\\nStadt LaIChInGen, GemarKUNG FeldSTeTfen, AlB-DoNaU-KreiS\\nLageplan M 1: 500\\nFur die planungsrechtlichen bzw. bauordnungsrechtlichen Festsetzungen gelten:\\nBaugesetzbuch (BauGB)\\nin der Fassung der Bekanntmachung vom 27.08.1997 (BGBl. I. S. 2141).\\nBaunutzungsverordnung (BauNvo)\\n g   5        \\nam 22.04.1993 (BGBl. 1. S. 466).\\nPianzeichenverordnung 1990 (PlanzV 90)\\nin der Fassung der Bekanntmachung vom 18.12.1990 (BGBl. I. S. 58).\\nLandesbauordnung (LBO)\\nin der Fassung der Bekanntmachung vom 08.08.1995 (GB1. S. 617).\\nBisherige Festsetzungen:\\nMit in Kraft treten dieses Bebauungsplanes treten im Geltungsbereich alle bisherigen\\ngemeindlichen bauplanungsrechtlichen und bauordnungsrechtichen Festsetzungen auBer Kraft.', metadata={'source': '../data/raw/bpläne/2_zeichnung_textteil_getrennt/F 11- 02 Gewerbegebiet Himmelreich - schriftlicher Teil.pdf', 'file_path': '../data/raw/bpläne/2_zeichnung_textteil_getrennt/F 11- 02 Gewerbegebiet Himmelreich - schriftlicher Teil.pdf', 'page': 0, 'total_pages': 10, 'format': 'PDF 1.3', 'title': '', 'author': '', 'subject': '', 'keywords': '', 'creator': '', 'producer': '', 'creationDate': \"D:20101028132301+02'00'\", 'modDate': \"D:20240203122236+01'00'\", 'trapped': ''})"
      ]
     },
     "execution_count": 77,
     "metadata": {},
     "output_type": "execute_result"
    }
   ],
   "source": [
    "# A) OCR via RapidOCR --> CNN/RNN != Transformer (LLM)\n",
    "pdf_path = \"../data/raw/bpläne/2_zeichnung_textteil_getrennt/F 11- 02 Gewerbegebiet Himmelreich - schriftlicher Teil.pdf\"\n",
    "loader = PyMuPDFLoader(pdf_path, extract_images=True)\n",
    "data = loader.load()\n",
    "print(data[0])"
   ]
  },
  {
   "cell_type": "code",
   "execution_count": 8,
   "metadata": {},
   "outputs": [],
   "source": [
    "# B) OCR via GPT-4o\n",
    "pdf_path = \"../data/raw/bpläne/2_zeichnung_textteil_getrennt/F 11- 02 Gewerbegebiet Himmelreich - schriftlicher Teil.pdf\"\n",
    "\n",
    "async def page2text(page_prompt):\n",
    "    msg = model.invoke([\n",
    "        AIMessage(\n",
    "            content=[\n",
    "                {\n",
    "                    \"type\": \"text\",\n",
    "                    \"text\": \"Du bist ein Assistent um Textinformationen aus dem schriftlichen Teil eines Bebauungsplans zu extrahieren.\"\n",
    "                },\n",
    "            ]\n",
    "        ),\n",
    "        HumanMessage(\n",
    "            content=[\n",
    "            {\n",
    "                \"type\": \"text\",\n",
    "                \"text\": 'Extrahiere den kompletten Textinhalt. Ausgabe im XML-Format'\n",
    "            },\n",
    "            page_prompt\n",
    "            ]\n",
    "        ),\n",
    "    ])\n",
    "    return msg.content\n",
    "\n",
    "prompts = pdf2prompts(pdf_path)\n",
    "data_loaders = list(map(lambda prompt: page2text(prompt), prompts))\n",
    "data = await asyncio.gather(*data_loaders)\n",
    "print(data[0])"
   ]
  }
 ],
 "metadata": {
  "kernelspec": {
   "display_name": "masterarbeit_stage_1",
   "language": "python",
   "name": "python3"
  },
  "language_info": {
   "codemirror_mode": {
    "name": "ipython",
    "version": 3
   },
   "file_extension": ".py",
   "mimetype": "text/x-python",
   "name": "python",
   "nbconvert_exporter": "python",
   "pygments_lexer": "ipython3",
   "version": "3.11.8"
  }
 },
 "nbformat": 4,
 "nbformat_minor": 2
}
