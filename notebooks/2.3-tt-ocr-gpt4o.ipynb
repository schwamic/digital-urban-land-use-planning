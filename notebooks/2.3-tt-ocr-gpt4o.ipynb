{
 "cells": [
  {
   "cell_type": "markdown",
   "metadata": {},
   "source": [
    "# 2.3 Textlicher Teil Bebauungsplan – OCR (GPT-4o)\n",
    "\n",
    "* Zero-Shot\n",
    "* Chain-Of-Thought"
   ]
  },
  {
   "cell_type": "code",
   "execution_count": 2,
   "metadata": {},
   "outputs": [],
   "source": [
    "from utils.pdf2prompts import pdf2prompts\n",
    "import os\n",
    "from dotenv import load_dotenv, find_dotenv\n",
    "from langchain_openai import ChatOpenAI\n",
    "from langchain.schema.messages import AIMessage, HumanMessage\n",
    "\n",
    "load_dotenv(find_dotenv())\n",
    "\n",
    "model = ChatOpenAI(\n",
    "    openai_api_key=os.getenv(\"OPENAI_API_KEY\"),\n",
    "    model_name=\"gpt-4o\",\n",
    "    model_kwargs={\"top_p\": 0, \"seed\": 42},\n",
    "    temperature=0,\n",
    ")"
   ]
  },
  {
   "cell_type": "code",
   "execution_count": 3,
   "metadata": {},
   "outputs": [],
   "source": [
    "pdf_path = \"../data/raw/bpläne/2_zeichnung_textteil_getrennt/F 11- 02 Gewerbegebiet Himmelreich - schriftlicher Teil.pdf\"\n",
    "pdf_prompts = pdf2prompts(pdf_path)"
   ]
  },
  {
   "cell_type": "code",
   "execution_count": 22,
   "metadata": {},
   "outputs": [
    {
     "name": "stdout",
     "output_type": "stream",
     "text": [
      "Hier sind die relevanten Informationen aus dem Bebauungsplan \"Gewerbegebiet Himmelreich\" zusammengefasst:\n",
      "\n",
      "### Art der baulichen Nutzung\n",
      "- **Eingeschränktes Gewerbegebiet (GEE)** gemäß § 8 BauNVO i.V.m. § 1 (4) BauNVO:\n",
      "  - Zulässig sind Gewerbebetriebe, die das Wohnen nicht wesentlich stören, einschließlich Einzelhandelsbetriebe mit bestimmten Sortimentsbeschränkungen (z.B. Kfz, Motorräder, Fahrräder, Brennstoffe).\n",
      "  - Nicht zulässig sind Vergnügungsstätten und Einzelhandelsbetriebe mit nicht innenstadtrelevanten Sortimenten.\n",
      "- **Gewerbegebiet (GE)** gemäß § 8 BauNVO:\n",
      "  - Zulässig sind Gewerbebetriebe aller Art, einschließlich Einzelhandelsbetriebe mit bestimmten Sortimentsbeschränkungen.\n",
      "  - Nicht zulässig sind Vergnügungsstätten und Einzelhandelsbetriebe mit nicht innenstadtrelevanten Sortimenten.\n",
      "\n",
      "### Maß der baulichen Nutzung\n",
      "- **Grundflächenzahl (GRZ)** gemäß § 19 BauNVO: Siehe Einträge im Lageplan.\n",
      "- **Geschossflächenzahl (GFZ)** gemäß § 20 BauNVO: Siehe Einträge im Lageplan.\n",
      "- **Höhe der baulichen Anlagen** gemäß § 18 BauNVO: Siehe Einträge im Lageplan. Die Gebäudehöhe wird gemessen von der Erdgeschossfußbodenhöhe (EFH) bis zur Schnittkante zwischen Außenwand und Dachhaut bzw. bis zur Oberkante Firstziegel.\n",
      "\n",
      "### Bauweise\n",
      "- **Abweichende Bauweise** gemäß § 22 BauNVO: Es gilt die offene Bauweise, jedoch sind die Gebäudelängen nicht begrenzt.\n",
      "\n",
      "### Dachform und Dachneigung\n",
      "- **Dachdeckung** gemäß § 74 (1) 1 LBO: Die Dachflächen sind mit roten bis rotbraunen, nicht glänzenden Materialien einzudecken.\n",
      "\n",
      "Diese Informationen geben einen Überblick über die wesentlichen baulichen Festsetzungen im Bebauungsplan \"Gewerbegebiet Himmelreich\".\n"
     ]
    }
   ],
   "source": [
    "msg = model.invoke([\n",
    "        AIMessage(\n",
    "            content=[\n",
    "                {\n",
    "                    \"type\": \"text\",\n",
    "                    \"text\": \"Du bist ein Assistent um Informationen aus einem Bebauungsplan zu extrahieren.\"\n",
    "                },\n",
    "            ]\n",
    "        ),\n",
    "        HumanMessage(\n",
    "            content=[\n",
    "                {\n",
    "                    \"type\": \"text\",\n",
    "                    \"text\": 'Fasse relevante Informationen zu den folgenden Themen zusammen: Art der baulichen Nutzung, Maß der baulichen Nutzung, Bauweise, Dachform und Dachneigung.'\n",
    "                },\n",
    "                *pdf_prompts,\n",
    "            ]\n",
    "        ),\n",
    "    ])\n",
    "print(msg.content)"
   ]
  }
 ],
 "metadata": {
  "kernelspec": {
   "display_name": "masterarbeit_stage_1",
   "language": "python",
   "name": "python3"
  },
  "language_info": {
   "codemirror_mode": {
    "name": "ipython",
    "version": 3
   },
   "file_extension": ".py",
   "mimetype": "text/x-python",
   "name": "python",
   "nbconvert_exporter": "python",
   "pygments_lexer": "ipython3",
   "version": "3.11.8"
  }
 },
 "nbformat": 4,
 "nbformat_minor": 2
}
