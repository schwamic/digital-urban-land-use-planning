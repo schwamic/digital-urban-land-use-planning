{
 "cells": [
  {
   "cell_type": "markdown",
   "metadata": {},
   "source": [
    "# 2.3.2 Textlicher Teil Bebauungsplan – OCR (GPT-4o)\n",
    "\n",
    "* Zero-Shot\n",
    "* Chain-Of-Thought\n",
    "* Best result: A2"
   ]
  },
  {
   "cell_type": "code",
   "execution_count": 13,
   "metadata": {},
   "outputs": [],
   "source": [
    "from utils.parser import Parser\n",
    "from utils.openai import OpenAI\n",
    "\n",
    "instructions = \"Du bist ein Assistent zur getreuen Wiedergabe von Informationen aus einem Bebauungsplan. Achte auf Vollständigkeit.\"\n",
    "ava = OpenAI(instructions)\n",
    "parser = Parser()"
   ]
  },
  {
   "cell_type": "code",
   "execution_count": 14,
   "metadata": {},
   "outputs": [
    {
     "name": "stdout",
     "output_type": "stream",
     "text": [
      "10\n"
     ]
    }
   ],
   "source": [
    "pdf_path = \"../data/raw/bpläne/2_zeichnung_textteil_getrennt/F11-01-TT.pdf\"\n",
    "pdf_prompts = parser.pdf2prompts(pdf_path)\n",
    "print(len(pdf_prompts))"
   ]
  },
  {
   "cell_type": "code",
   "execution_count": 15,
   "metadata": {},
   "outputs": [
    {
     "name": "stdout",
     "output_type": "stream",
     "text": [
      "### Art der baulichen Nutzung:\n",
      "1.1 Art der baulichen Nutzung (§§ 1 - 15 BauNVO)\n",
      "1.1.1 Eingeschränktes Gewerbegebiet (GEE) (§ 8 BauNVO i.V.m. § 1 (4) BauNVO)\n",
      "1.1.1.1 Zulässig sind / zulässig ist:\n",
      "1.1.1.1.1 Gewerbebetriebe, die das Wohnen nicht wesentlich stören, wobei bei Einzelhandelsbetrieben (gem. § 1 (5) BauNVO i.V.m. § 1 (9) BauNVO) nur die nicht innenstadtrelevanten Sortimente Kfz, Motorräder, Mopeds, Fahrräder, Kfz-Zubehör, Rasenmäher, Landmaschinen, Fahrrad- und Motorradzubehör, Brennstoffe und Mineralölerzeugnisse zulässig sind.\n",
      "1.1.1.1.2 Der Verkauf von auf dem Grundstück produzierten Waren auf einer untergeordneten Fläche ist zulässig.\n",
      "1.1.1.2 Nicht zulässig sind / nicht zulässig ist:\n",
      "1.1.1.2.1 Nutzungen gemäß § 8 (3) Nr.3 BauNVO (Vergnügungsstätten) sind gemäß § 1 (6) BauNVO nicht Bestandteil des Bebauungsplans und damit nicht zulässig.\n",
      "1.1.1.2.2 Einzelhandelsbetriebe mit innenstadtrelevanten und bestimmten nicht innenstadtrelevanten Sortimenten sind gemäß § 1 (5) BauNVO i.V.m. § 1 (9) BauNVO nicht zulässig.\n",
      "1.1.2 Gewerbegebiet (GE) (§ 8 BauNVO)\n",
      "1.1.2.1 Zulässig sind / zulässig ist:\n",
      "1.1.2.1.1 Gewerbebetriebe aller Art, wobei bei Einzelhandelsbetrieben (gem. § 1 (5) BauNVO i.V.m. § 1 (9) BauNVO) nur die nicht innenstadtrelevanten Sortimente Kfz, Motorräder, Mopeds, Fahrräder, Kfz-Zubehör, Rasenmäher, Landmaschinen, Fahrrad- und Motorradzubehör, Brennstoffe und Mineralölerzeugnisse zulässig sind.\n",
      "1.1.2.1.2 Der Verkauf von auf dem Grundstück produzierten Waren auf einer untergeordneten Fläche ist zulässig.\n",
      "1.1.2.2 Nicht zulässig sind / nicht zulässig ist:\n",
      "1.1.2.2.1 Nutzungen gemäß § 8 (3) Nr.3 BauNVO (Vergnügungsstätten) sind gemäß § 1 (6) BauNVO nicht Bestandteil des Bebauungsplans und damit nicht zulässig.\n",
      "1.1.2.2.2 Einzelhandelsbetriebe mit innenstadtrelevanten und bestimmten nicht innenstadtrelevanten Sortimenten sind gemäß § 1 (5) BauNVO i.V.m. § 1 (9) BauNVO nicht zulässig.\n",
      "\n",
      "### Maß der baulichen Nutzung:\n",
      "1.2 Maß der baulichen Nutzung (§§ 16 - 21 BauNVO)\n",
      "1.2.1 Grundflächenzahl (§ 19 BauNVO) - siehe Einschreibung im Lageplan\n",
      "1.2.2 Geschossflächenzahl (§ 20 BauNVO) - siehe Einschreibung im Lageplan\n",
      "1.2.3 Höhe der baulichen Anlagen (§ 18 BauNVO) - siehe Einschreibung im Lageplan\n",
      "Die Gebäudehöhe wird gemessen von der Erdgeschossfußbodenhöhe (EFH) bis zur Schnittkante zwischen Außenwand und Dachhaut bzw. bis zur Oberkante Firstziegel.\n",
      "\n",
      "### Bauweise:\n",
      "1.3 Bauweise (§ 22 BauNVO) - siehe Einschreibung im Lageplan\n",
      "a) abweichende Bauweise. Es gilt die offene Bauweise, jedoch sind die Gebäudelängen nicht begrenzt.\n",
      "\n",
      "### Überbaubare Grundstücksfläche:\n",
      "1.4 Überbaubare Grundstücksfläche (§ 9 (1) 2 BauGB)\n",
      "Die überbaubare Grundstücksfläche wird durch die Festsetzung von Baugrenzen in der Planzeichnung bestimmt.\n",
      "Garagen im Sinne von § 12 BauNVO und Nebenanlagen im Sinne des § 14 BauNVO sowie Anlagen der Fremdwerbung und bauliche Anlagen, die nach Landesrecht in den Abstandsflächen zulässig sind oder zugelassen werden können, sind nur innerhalb der überbaubaren Grundstücksflächen zulässig.\n",
      "\n",
      "### Referenzen:\n",
      "Seitenzahlen: 2, 3, 4\n"
     ]
    }
   ],
   "source": [
    "# A.1) Ein Thread – Analyse und Extraktion in einem Schritt\n",
    "# Problem: Kontext ist sehr groß, sodass GPT den Überblick verliert und Informationen verliert. \n",
    "msg = ava.request([\n",
    "    *pdf_prompts,\n",
    "    {\n",
    "        \"type\": \"text\",\n",
    "        \"text\": 'Extrahiere alle Informationen zu den folgenden Themen: Art der baulichen Nutzung, Maß der baulichen Nutzung, Bauweise, überbaubare Grundstücksfläche. Liste am Ende die jeweiligen Seitenzahlen als Referenz auf. Output-Format: ###<Thema>: <Informationen> ### Referenzen: <Seitenzahlen>)'\n",
    "        # Optional: Zusätzlich Dach, Garage, Stelltung und Stellplatz\n",
    "    }\n",
    "])\n",
    "\n",
    "print(msg)"
   ]
  }
 ],
 "metadata": {
  "kernelspec": {
   "display_name": "masterarbeit_stage_1",
   "language": "python",
   "name": "python3"
  },
  "language_info": {
   "codemirror_mode": {
    "name": "ipython",
    "version": 3
   },
   "file_extension": ".py",
   "mimetype": "text/x-python",
   "name": "python",
   "nbconvert_exporter": "python",
   "pygments_lexer": "ipython3",
   "version": "3.11.8"
  }
 },
 "nbformat": 4,
 "nbformat_minor": 2
}
