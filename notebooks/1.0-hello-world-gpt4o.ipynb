{
 "cells": [
  {
   "cell_type": "markdown",
   "metadata": {},
   "source": [
    "# 1.0 Zeichnerischer Teil Bebauungsplan – OCR (GPT-4o)\n",
    "\n",
    "* Zero-Shot\n",
    "* Chain-Of-Thought"
   ]
  },
  {
   "cell_type": "code",
   "execution_count": 1,
   "metadata": {},
   "outputs": [],
   "source": [
    "from utils.pdf2base64 import pdf2base64\n",
    "from dotenv import load_dotenv, find_dotenv\n",
    "import os\n",
    "\n",
    "from langchain_openai import ChatOpenAI\n",
    "from langchain.schema.messages import AIMessage, HumanMessage\n",
    "\n",
    "load_dotenv(find_dotenv())\n",
    "\n",
    "model = ChatOpenAI(\n",
    "    openai_api_key=os.getenv(\"OPENAI_API_KEY\"),\n",
    "    model_name=\"gpt-4o\",\n",
    "    model_kwargs={\"top_p\": 0, \"seed\": 42},\n",
    "    temperature=0,\n",
    ")"
   ]
  },
  {
   "cell_type": "code",
   "execution_count": 2,
   "metadata": {},
   "outputs": [
    {
     "name": "stdout",
     "output_type": "stream",
     "text": [
      "[3771, 1970]\n"
     ]
    }
   ],
   "source": [
    "pdf_path = \"../data/raw/bpläne/2_zeichnung_textteil_getrennt/F 11- 01 Gewerbegebiet Himmelreich - zeichnerischer Teil.pdf\"\n",
    "base64_image = pdf2base64(pdf_path)\n",
    "\n",
    "print(base64_image[1])"
   ]
  },
  {
   "cell_type": "code",
   "execution_count": 13,
   "metadata": {},
   "outputs": [
    {
     "name": "stdout",
     "output_type": "stream",
     "text": [
      "```json\n",
      "{\"Gültig seit\": 2000}\n",
      "```\n"
     ]
    }
   ],
   "source": [
    "msg1 = model.invoke([\n",
    "    AIMessage(\n",
    "        content=[{\n",
    "            \"type\": \"text\",\n",
    "            \"text\": \"Du bist ein Assistent um Textinformationen aus einer Planzeichnung eines Bebauungsplans zu extrahieren.\"\n",
    "        }]\n",
    "    ),\n",
    "    HumanMessage(\n",
    "        content=[\n",
    "        {\n",
    "            \"type\": \"text\",\n",
    "            \"text\": 'In welchem Jahr ist der vorliegende Bebauungsplan in Kraft getreten? Ausgabe im JSON-Format: {\"Gültig seit\": <YYYY>}'\n",
    "        },\n",
    "        {\n",
    "            \"type\": \"image_url\",\n",
    "            \"image_url\": {\n",
    "                \"url\": f\"data:image/jpeg;base64,{base64_image[0]}\",\n",
    "                \"detail\": \"high\"\n",
    "            }\n",
    "        }\n",
    "        ]\n",
    "    ),\n",
    "])\n",
    "\n",
    "print(msg1.content)"
   ]
  }
 ],
 "metadata": {
  "kernelspec": {
   "display_name": "masterarbeit_stage_1",
   "language": "python",
   "name": "python3"
  },
  "language_info": {
   "codemirror_mode": {
    "name": "ipython",
    "version": 3
   },
   "file_extension": ".py",
   "mimetype": "text/x-python",
   "name": "python",
   "nbconvert_exporter": "python",
   "pygments_lexer": "ipython3",
   "version": "3.1.-1"
  }
 },
 "nbformat": 4,
 "nbformat_minor": 2
}
