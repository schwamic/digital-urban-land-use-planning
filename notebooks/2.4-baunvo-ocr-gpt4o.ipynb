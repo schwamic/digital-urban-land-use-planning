{
 "cells": [
  {
   "cell_type": "markdown",
   "metadata": {},
   "source": [
    "# 2.4 BauNVO – OCR (GPT-4o)\n",
    "\n",
    "* Zero-Shot\n",
    "* Chain-Of-Thought"
   ]
  },
  {
   "cell_type": "code",
   "execution_count": 1,
   "metadata": {},
   "outputs": [],
   "source": [
    "from utils.parser import Parser\n",
    "from utils.runner import Runner\n",
    "from utils.openai import OpenAI\n",
    "from utils.pprint import pprint\n",
    "\n",
    "instructions = \"Du bist ein Assistent zur getreuen Wiedergabe von Informationen aus einem Gesetzbuch. Achte auf Vollständigkeit.\"\n",
    "gerty = OpenAI(instructions)\n",
    "parser = Parser()\n",
    "runner = Runner()"
   ]
  },
  {
   "cell_type": "code",
   "execution_count": 2,
   "metadata": {},
   "outputs": [
    {
     "name": "stdout",
     "output_type": "stream",
     "text": [
      "16\n"
     ]
    }
   ],
   "source": [
    "pdf_path = \"../data/raw/gesetze/BauNVO.pdf\"\n",
    "pdf_prompts = parser.pdf2prompts(pdf_path)\n",
    "pprint(len(pdf_prompts))"
   ]
  },
  {
   "cell_type": "markdown",
   "metadata": {},
   "source": [
    "### B1) Paragraphs – Table of contents "
   ]
  },
  {
   "cell_type": "code",
   "execution_count": 3,
   "metadata": {},
   "outputs": [
    {
     "name": "stdout",
     "output_type": "stream",
     "text": [
      "### Abschnitt \"Art der baulichen Nutzung\"\n",
      "\n",
      "- § 1 Allgemeine Vorschriften für Bauflächen und Baugebiete\n",
      "- § 2 Kleinsiedlungsgebiete\n",
      "- § 3 Reine Wohngebiete\n",
      "- § 4 Allgemeine Wohngebiete\n",
      "- § 4a Gebiete zur Erhaltung und Entwicklung der Wohnnutzung (besondere Wohngebiete)\n",
      "- § 5 Dorfgebiete\n",
      "- § 5a Dörfliche Wohngebiete\n",
      "- § 6 Mischgebiete\n",
      "- § 6a Urbane Gebiete\n",
      "- § 7 Kerngebiete\n",
      "- § 8 Gewerbegebiete\n",
      "- § 9 Industriegebiete\n",
      "- § 10 Sondergebiete, die der Erholung dienen\n",
      "- § 11 Sonstige Sondergebiete\n",
      "- § 12 Stellplätze und Garagen\n",
      "- § 13 Gebäude und Räume für freie Berufe\n",
      "- § 13a Ferienwohnungen\n",
      "- § 14 Nebenanlagen; Anlagen zur Nutzung solarer Strahlungsenergie und Kraft-Wärme-Kopplungsanlagen\n",
      "- § 15 Allgemeine Voraussetzungen für die Zulässigkeit baulicher und sonstiger Anlagen\n",
      "\n",
      "### Abschnitt \"Maß der baulichen Nutzung\"\n",
      "\n",
      "- § 16 Bestimmung des Maßes der baulichen Nutzung\n",
      "- § 17 Orientierungswerte für die Bestimmung des Maßes der baulichen Nutzung\n",
      "- § 18 Höhe baulicher Anlagen\n",
      "- § 19 Grundflächenzahl, zulässige Grundfläche\n",
      "- § 20 Vollgeschosse, Geschossflächenzahl, Geschossfläche\n",
      "- § 21 Baumassenzahl, Baumasse\n",
      "- § 21a Stellplätze, Garagen und Gemeinschaftsanlagen\n",
      "\n",
      "### Abschnitt \"Bauweise, überbaubare Grundstücksfläche\"\n",
      "\n",
      "- § 22 Bauweise\n",
      "- § 23 Überbaubare Grundstücksfläche\n",
      "#############################################\n",
      "### Abschnitt \"Art der baulichen Nutzung\"\n",
      "\n",
      "- § 1 Allgemeine Vorschriften für Bauflächen und Baugebiete\n",
      "- § 2 Kleinsiedlungsgebiete\n",
      "- § 3 Reine Wohngebiete\n",
      "- § 4 Allgemeine Wohngebiete\n",
      "- § 4a Gebiete zur Erhaltung und Entwicklung der Wohnnutzung (besondere Wohngebiete)\n",
      "- § 5 Dorfgebiete\n",
      "- § 5a Dörfliche Wohngebiete\n",
      "- § 6 Mischgebiete\n",
      "- § 6a Urbane Gebiete\n",
      "- § 7 Kerngebiete\n",
      "- § 8 Gewerbegebiete\n",
      "- § 9 Industriegebiete\n",
      "- § 10 Sondergebiete, die der Erholung dienen\n",
      "- § 11 Sonstige Sondergebiete\n",
      "- § 12 Stellplätze und Garagen\n",
      "- § 13 Gebäude und Räume für freie Berufe\n",
      "- § 13a Ferienwohnungen\n",
      "- § 14 Nebenanlagen; Anlagen zur Nutzung solarer Strahlungsenergie und Kraft-Wärme-Kopplungsanlagen\n",
      "- § 15 Allgemeine Voraussetzungen für die Zulässigkeit baulicher und sonstiger Anlagen\n",
      "\n",
      "### Abschnitt \"Maß der baulichen Nutzung\"\n",
      "\n",
      "- § 16 Bestimmung des Maßes der baulichen Nutzung\n",
      "- § 17 Orientierungswerte für die Bestimmung des Maßes der baulichen Nutzung\n",
      "- § 18 Höhe baulicher Anlagen\n",
      "- § 19 Grundflächenzahl, zulässige Grundfläche\n",
      "- § 20 Vollgeschosse, Geschossflächenzahl, Geschossfläche\n",
      "- § 21 Baumassenzahl, Baumasse\n",
      "- § 21a Stellplätze, Garagen und Gemeinschaftsanlagen\n",
      "\n",
      "### Abschnitt \"Bauweise, überbaubare Grundstücksfläche\"\n",
      "\n",
      "- § 22 Bauweise\n",
      "- § 23 Überbaubare Grundstücksfläche\n",
      "#############################################\n",
      "### Erster Abschnitt: Art der baulichen Nutzung\n",
      "\n",
      "- **§ 1 Allgemeine Vorschriften für Bauflächen und Baugebiete**\n",
      "- **§ 2 Kleinsiedlungsgebiete**\n",
      "- **§ 3 Reine Wohngebiete**\n",
      "- **§ 4 Allgemeine Wohngebiete**\n",
      "- **§ 4a Gebiete zur Erhaltung und Entwicklung der Wohnnutzung (besondere Wohngebiete)**\n",
      "- **§ 5 Dorfgebiete**\n",
      "- **§ 5a Dörfliche Wohngebiete**\n",
      "- **§ 6 Mischgebiete**\n",
      "- **§ 6a Urbane Gebiete**\n",
      "- **§ 7 Kerngebiete**\n",
      "- **§ 8 Gewerbegebiete**\n",
      "- **§ 9 Industriegebiete**\n",
      "- **§ 10 Sondergebiete, die der Erholung dienen**\n",
      "- **§ 11 Sonstige Sondergebiete**\n",
      "- **§ 12 Stellplätze und Garagen**\n",
      "- **§ 13 Gebäude und Räume für freie Berufe**\n",
      "- **§ 13a Ferienwohnungen**\n",
      "- **§ 14 Nebenanlagen; Anlagen zur Nutzung solarer Strahlungsenergie und Kraft-Wärme-Kopplungsanlagen**\n",
      "- **§ 15 Allgemeine Voraussetzungen für die Zulässigkeit baulicher und sonstiger Anlagen**\n",
      "\n",
      "### Zweiter Abschnitt: Maß der baulichen Nutzung\n",
      "\n",
      "- **§ 16 Bestimmung des Maßes der baulichen Nutzung**\n",
      "- **§ 17 Orientierungswerte für die Bestimmung des Maßes der baulichen Nutzung**\n",
      "- **§ 18 Höhe baulicher Anlagen**\n",
      "- **§ 19 Grundflächenzahl, zulässige Grundfläche**\n",
      "- **§ 20 Vollgeschosse, Geschossflächenzahl, Geschossfläche**\n",
      "- **§ 21 Baumassenzahl, Baumasse**\n",
      "- **§ 21a Stellplätze, Garagen und Gemeinschaftsanlagen**\n",
      "\n",
      "### Dritter Abschnitt: Bauweise, überbaubare Grundstücksfläche\n",
      "\n",
      "- **§ 22 Bauweise**\n",
      "- **§ 23 Überbaubare Grundstücksfläche**\n",
      "#############################################\n",
      "Stored 'msgbaunvo' (str)\n"
     ]
    }
   ],
   "source": [
    "# B1.1) Extract relevant paragraphs\n",
    "def run():\n",
    "    return gerty.request([\n",
    "            *pdf_prompts,\n",
    "            {\n",
    "                \"type\": \"text\",\n",
    "                \"text\": 'Extrahiere alle Paragraphen zum Abschnitt \"Art der baulichen Nutzung\".'\n",
    "            },\n",
    "            {\n",
    "                \"type\": \"text\",\n",
    "                \"text\": 'Extrahiere alle Paragraphen zum Abschnitt \"Maß der baulichen Nutzung\".'\n",
    "            },\n",
    "            {\n",
    "                \"type\": \"text\",\n",
    "                \"text\": 'Extrahiere alle Paragraphen zum Abschnitt \"Bauweise, überbaubare Grundstücksfläche\".'\n",
    "            }\n",
    "        ])\n",
    "results = runner.consistency_check(run)\n",
    "msgbaunvo = results[0]\n",
    "%store msgbaunvo"
   ]
  },
  {
   "cell_type": "code",
   "execution_count": 20,
   "metadata": {},
   "outputs": [
    {
     "name": "stdout",
     "output_type": "stream",
     "text": [
      "Der Abschnitt \"Art der baulichen Nutzung\" umfasst die Paragraphen § 1 bis § 15. Hier sind die Paragraphen im Detail:\n",
      "\n",
      "1. **§ 1 Allgemeine Vorschriften für Bauflächen und Baugebiete**\n",
      "2. **§ 2 Kleinsiedlungsgebiete**\n",
      "3. **§ 3 Reine Wohngebiete**\n",
      "4. **§ 4 Allgemeine Wohngebiete**\n",
      "5. **§ 4a Gebiete zur Erhaltung und Entwicklung der Wohnnutzung (besondere Wohngebiete)**\n",
      "6. **§ 5 Dorfgebiete**\n",
      "7. **§ 5a Dörfliche Wohngebiete**\n",
      "8. **§ 6 Mischgebiete**\n",
      "9. **§ 6a Urbane Gebiete**\n",
      "10. **§ 7 Kerngebiete**\n",
      "11. **§ 8 Gewerbegebiete**\n",
      "12. **§ 9 Industriegebiete**\n",
      "13. **§ 10 Sondergebiete, die der Erholung dienen**\n",
      "14. **§ 11 Sonstige Sondergebiete**\n",
      "15. **§ 12 Stellplätze und Garagen**\n",
      "16. **§ 13 Gebäude und Räume für freie Berufe**\n",
      "17. **§ 13a Ferienwohnungen**\n",
      "18. **§ 14 Nebenanlagen; Anlagen zur Nutzung solarer Strahlungsenergie und Kraft-Wärme-Kopplungsanlagen**\n",
      "19. **§ 15 Allgemeine Voraussetzungen für die Zulässigkeit baulicher und sonstiger Anlagen**\n",
      "\n",
      "Diese Paragraphen regeln die verschiedenen Arten der baulichen Nutzung von Grundstücken und die damit verbundenen Vorschriften und Bestimmungen.\n",
      "Stored 'msgbaunvo_art' (str)\n"
     ]
    }
   ],
   "source": [
    "# B1.2) Definition \"Art der baulichen Nutzung\"\n",
    "msgbaunvo_art = gerty.request([\n",
    "        *pdf_prompts,\n",
    "        {\n",
    "            \"type\": \"text\",\n",
    "            \"text\": 'Extrahiere alle Paragraphen zum Abschnitt \"Art der baulichen Nutzung\".'\n",
    "        },\n",
    "        # {\n",
    "        #     \"type\": \"text\",\n",
    "        #     \"text\": 'Fasse die Paragraphen 1 bis 15 im Abschnitt \"Art der baulichen Nutzung\" jeweils in maximal drei Sätze zusammen.'\n",
    "        # },\n",
    "    ])\n",
    "\n",
    "pprint(msgbaunvo_art)\n",
    "%store msgbaunvo_art\n"
   ]
  },
  {
   "cell_type": "code",
   "execution_count": 21,
   "metadata": {},
   "outputs": [
    {
     "name": "stdout",
     "output_type": "stream",
     "text": [
      "Der Abschnitt \"Maß der baulichen Nutzung\" umfasst die Paragraphen § 16 bis § 21a. Hier sind die Paragraphen im Detail:\n",
      "\n",
      "**Zweiter Abschnitt: Maß der baulichen Nutzung**\n",
      "\n",
      "- **§ 16 Bestimmung des Maßes der baulichen Nutzung**\n",
      "- **§ 17 Orientierungswerte für die Bestimmung des Maßes der baulichen Nutzung**\n",
      "- **§ 18 Höhe baulicher Anlagen**\n",
      "- **§ 19 Grundflächenzahl, zulässige Grundfläche**\n",
      "- **§ 20 Vollgeschosse, Geschossflächenzahl, Geschossfläche**\n",
      "- **§ 21 Baumassenzahl, Baumasse**\n",
      "- **§ 21a Stellplätze, Garagen und Gemeinschaftsanlagen**\n",
      "Stored 'msgbaunvo_maß' (str)\n"
     ]
    }
   ],
   "source": [
    "# B1.3) Definition \"Maß der baulichen Nutzung\"\n",
    "msgbaunvo_maß = gerty.request([\n",
    "        *pdf_prompts,\n",
    "        {\n",
    "            \"type\": \"text\",\n",
    "            \"text\": 'Extrahiere alle Paragraphen zum Abschnitt \"Maß der baulichen Nutzung\".'\n",
    "        },\n",
    "        # {\n",
    "        #     \"type\": \"text\",\n",
    "        #     \"text\": 'Fasse die Paragraphen 16 bis 21a im Abschnitt \"Maß der baulichen Nutzung\" jeweils in maximal drei Sätze zusammen.'\n",
    "        # },\n",
    "    ])\n",
    "\n",
    "pprint(msgbaunvo_maß)\n",
    "%store msgbaunvo_maß"
   ]
  },
  {
   "cell_type": "code",
   "execution_count": 26,
   "metadata": {},
   "outputs": [
    {
     "name": "stdout",
     "output_type": "stream",
     "text": [
      "### Abschnitt \"Bauweise, überbaubare Grundstücksfläche\"\n",
      "\n",
      "#### § 22 Bauweise\n",
      "(1) Im Bebauungsplan kann die Bauweise als offene oder geschlossene Bauweise festgesetzt werden.  \n",
      "(2) In der offenen Bauweise werden die Gebäude mit seitlichem Grenzabstand als Einzelhäuser, Doppelhäuser oder Hausgruppen errichtet.  \n",
      "(3) In der geschlossenen Bauweise werden die Gebäude ohne seitlichen Grenzabstand errichtet.\n",
      "\n",
      "#### § 23 Überbaubare Grundstücksfläche\n",
      "(1) Die überbaubaren Grundstücksflächen können durch die Festsetzung von Baugrenzen, Baulinien oder Bebauungstiefen bestimmt werden.  \n",
      "(2) Ist eine Baulinie festgesetzt, so muss auf dieser Linie gebaut werden.  \n",
      "(3) Ist eine Baugrenze festgesetzt, so dürfen Gebäude und Gebäudeteile diese nicht überschreiten.\n",
      "Stored 'msgbaunvo_bg' (str)\n"
     ]
    }
   ],
   "source": [
    "# B1.4) Definition \"Bauweise, überbaubare Grundstücksfläche\"\n",
    "msgbaunvo_bg = gerty.request([\n",
    "        *pdf_prompts,\n",
    "        {\n",
    "            \"type\": \"text\",\n",
    "            \"text\": 'Extrahiere alle Paragraphen zum Abschnitt \"Bauweise, überbaubare Grundstücksfläche\".'\n",
    "        },\n",
    "        {\n",
    "            \"type\": \"text\",\n",
    "            \"text\": 'Fasse die Paragraphen 22 und 23 im Abschnitt \"Bauweise, überbaubare Grundstücksfläche\" jeweils in maximal drei Sätze zusammen.'\n",
    "        },\n",
    "    ])\n",
    "\n",
    "pprint(msgbaunvo_bg)\n",
    "%store msgbaunvo_bg"
   ]
  }
 ],
 "metadata": {
  "kernelspec": {
   "display_name": "masterarbeit_stage_1",
   "language": "python",
   "name": "python3"
  },
  "language_info": {
   "codemirror_mode": {
    "name": "ipython",
    "version": 3
   },
   "file_extension": ".py",
   "mimetype": "text/x-python",
   "name": "python",
   "nbconvert_exporter": "python",
   "pygments_lexer": "ipython3",
   "version": "3.11.8"
  }
 },
 "nbformat": 4,
 "nbformat_minor": 2
}
