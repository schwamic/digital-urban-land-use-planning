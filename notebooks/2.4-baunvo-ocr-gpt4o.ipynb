{
 "cells": [
  {
   "cell_type": "markdown",
   "metadata": {},
   "source": [
    "# 2.4 BauNVO – OCR (GPT-4o)\n",
    "\n",
    "* Zero-Shot\n",
    "* Chain-Of-Thought"
   ]
  },
  {
   "cell_type": "code",
   "execution_count": 2,
   "metadata": {},
   "outputs": [],
   "source": [
    "from utils.parser import Parser\n",
    "from utils.openai import OpenAI\n",
    "from utils.pprint import pprint\n",
    "\n",
    "instructions = \"Du bist ein Assistent zur getreuen Wiedergabe von Informationen aus einem Gesetzbuch. Achte auf Vollständigkeit.\"\n",
    "gerty = OpenAI(instructions)\n",
    "parser = Parser()"
   ]
  },
  {
   "cell_type": "code",
   "execution_count": 3,
   "metadata": {},
   "outputs": [
    {
     "name": "stdout",
     "output_type": "stream",
     "text": [
      "16\n"
     ]
    }
   ],
   "source": [
    "# BauNVO\n",
    "pdf_path = \"../data/raw/gesetze/BauNVO.pdf\"\n",
    "pdf_prompts = parser.pdf2prompts(pdf_path)\n",
    "pprint(len(pdf_prompts))"
   ]
  },
  {
   "cell_type": "code",
   "execution_count": 5,
   "metadata": {},
   "outputs": [
    {
     "name": "stdout",
     "output_type": "stream",
     "text": [
      "### Abschnitt \"Art der baulichen Nutzung\"\n",
      "\n",
      "- **§ 1 Allgemeine Vorschriften für Bauflächen und Baugebiete**\n",
      "- **§ 2 Kleinsiedlungsgebiete**\n",
      "- **§ 3 Reine Wohngebiete**\n",
      "- **§ 4 Allgemeine Wohngebiete**\n",
      "- **§ 4a Gebiete zur Erhaltung und Entwicklung der Wohnnutzung (besondere Wohngebiete)**\n",
      "- **§ 5 Dorfgebiete**\n",
      "- **§ 5a Dörfliche Wohngebiete**\n",
      "- **§ 6 Mischgebiete**\n",
      "- **§ 6a Urbane Gebiete**\n",
      "- **§ 7 Kerngebiete**\n",
      "- **§ 8 Gewerbegebiete**\n",
      "- **§ 9 Industriegebiete**\n",
      "- **§ 10 Sondergebiete, die der Erholung dienen**\n",
      "- **§ 11 Sonstige Sondergebiete**\n",
      "- **§ 12 Stellplätze und Garagen**\n",
      "- **§ 13 Gebäude und Räume für freie Berufe**\n",
      "- **§ 13a Ferienwohnungen**\n",
      "- **§ 14 Nebenanlagen; Anlagen zur Nutzung solarer Strahlungsenergie und Kraft-Wärme-Kopplungsanlagen**\n",
      "- **§ 15 Allgemeine Voraussetzungen für die Zulässigkeit baulicher und sonstiger Anlagen**\n",
      "\n",
      "### Abschnitt \"Maß der baulichen Nutzung\"\n",
      "\n",
      "- **§ 16 Bestimmung des Maßes der baulichen Nutzung**\n",
      "- **§ 17 Orientierungswerte für die Bestimmung des Maßes der baulichen Nutzung**\n",
      "- **§ 18 Höhe baulicher Anlagen**\n",
      "- **§ 19 Grundflächenzahl, zulässige Grundfläche**\n",
      "- **§ 20 Vollgeschosse, Geschossflächenzahl, Geschossfläche**\n",
      "- **§ 21 Baumassenzahl, Baumasse**\n",
      "- **§ 21a Stellplätze, Garagen und Gemeinschaftsanlagen**\n",
      "\n",
      "### Abschnitt \"Bauweise, überbaubare Grundstücksfläche\"\n",
      "\n",
      "- **§ 22 Bauweise**\n",
      "- **§ 23 Überbaubare Grundstücksfläche**\n",
      "Stored 'msgbaunvo' (str)\n"
     ]
    }
   ],
   "source": [
    "# Extract relevant paragraphs\n",
    "msgbaunvo = gerty.request([\n",
    "        *pdf_prompts,\n",
    "        {\n",
    "            \"type\": \"text\",\n",
    "            \"text\": 'Extrahiere alle Paragraphen zum Abschnitt \"Art der baulichen Nutzung\".'\n",
    "        },\n",
    "        {\n",
    "            \"type\": \"text\",\n",
    "            \"text\": 'Extrahiere alle Paragraphen zum Abschnitt \"Maß der baulichen Nutzung\".'\n",
    "        },\n",
    "        {\n",
    "            \"type\": \"text\",\n",
    "            \"text\": 'Extrahiere alle Paragraphen zum Abschnitt \"Bauweise, überbaubare Grundstücksfläche\".'\n",
    "        }\n",
    "    ])\n",
    "\n",
    "pprint(msgbaunvo)\n",
    "%store msgbaunvo"
   ]
  },
  {
   "cell_type": "code",
   "execution_count": 11,
   "metadata": {},
   "outputs": [
    {
     "name": "stdout",
     "output_type": "stream",
     "text": [
      "Hier sind die Zusammenfassungen der Paragraphen 1 bis 15 im Abschnitt \"Art der baulichen Nutzung\" der BauNVO:\n",
      "\n",
      "**§ 1 Allgemeine Vorschriften für Bauflächen und Baugebiete**\n",
      "Bauflächen und Baugebiete werden nach ihrer baulichen Nutzung in Wohnbauflächen, gemischte Bauflächen, gewerbliche Bauflächen und Sonderbauflächen unterteilt. Die Baugebiete können weiter in Kleinsiedlungsgebiete, reine Wohngebiete, allgemeine Wohngebiete, besondere Wohngebiete, Dorfgebiete, dörfliche Wohngebiete, Mischgebiete, urbane Gebiete, Kerngebiete, Gewerbegebiete, Industriegebiete und Sondergebiete unterteilt werden. Besondere Festsetzungen können im Bebauungsplan getroffen werden.\n",
      "\n",
      "**§ 2 Kleinsiedlungsgebiete**\n",
      "Kleinsiedlungsgebiete dienen der Unterbringung von Kleinsiedlungen mit Wohngebäuden und landwirtschaftlichen Nebenerwerbsstellen. Zulässig sind Kleinsiedlungen, die der Versorgung des Gebiets dienenden Läden und nicht störende Handwerksbetriebe. Ausnahmsweise können sonstige Wohngebäude, Anlagen für kirchliche, kulturelle, soziale, gesundheitliche und sportliche Zwecke sowie nicht störende Gewerbebetriebe zugelassen werden.\n",
      "\n",
      "**§ 3 Reine Wohngebiete**\n",
      "Reine Wohngebiete dienen dem Wohnen. Zulässig sind Wohngebäude und Anlagen zur Kinderbetreuung. Ausnahmsweise können Läden, nicht störende Handwerksbetriebe, Anlagen für kirchliche, kulturelle, soziale, gesundheitliche und sportliche Zwecke sowie kleine Betriebe des Beherbergungsgewerbes zugelassen werden.\n",
      "\n",
      "**§ 4 Allgemeine Wohngebiete**\n",
      "Allgemeine Wohngebiete dienen vorwiegend dem Wohnen. Zulässig sind Wohngebäude, die der Versorgung des Gebiets dienenden Läden und nicht störende Handwerksbetriebe sowie Anlagen für kirchliche, kulturelle, soziale, gesundheitliche und sportliche Zwecke. Ausnahmsweise können Betriebe des Beherbergungsgewerbes, sonstige nicht störende Gewerbebetriebe, Anlagen für Verwaltungen, Gartenbaubetriebe und Tankstellen zugelassen werden.\n",
      "\n",
      "**§ 4a Gebiete zur Erhaltung und Entwicklung der Wohnnutzung (besondere Wohngebiete)**\n",
      "Besondere Wohngebiete sind überwiegend bebaute Gebiete, die aufgrund ihrer Wohnnutzung und vorhandener sonstiger Anlagen eine besondere Eigenart aufweisen. Zulässig sind Wohngebäude, Läden, Betriebe des Beherbergungsgewerbes, Schank- und Speisewirtschaften, sonstige Gewerbebetriebe, Geschäfts- und Bürogebäude sowie Anlagen für kirchliche, kulturelle, soziale, gesundheitliche und sportliche Zwecke. Ausnahmsweise können Anlagen für zentrale Einrichtungen der Verwaltung, Vergnügungsstätten und Tankstellen zugelassen werden.\n",
      "\n",
      "**§ 5 Dorfgebiete**\n",
      "Dorfgebiete dienen der Unterbringung von Wirtschaftsstellen land- und forstwirtschaftlicher Betriebe, dem Wohnen und nicht wesentlich störenden Gewerbebetrieben. Zulässig sind Wirtschaftsstellen, Wohngebäude, Kleinsiedlungen, sonstige Wohngebäude, Betriebe zur Be- und Verarbeitung land- und forstwirtschaftlicher Erzeugnisse, Einzelhandelsbetriebe, Schank- und Speisewirtschaften, sonstige Gewerbebetriebe, Anlagen für kirchliche, kulturelle, soziale, gesundheitliche und sportliche Zwecke, Gartenbaubetriebe und Tankstellen. Ausnahmsweise können Vergnügungsstätten zugelassen werden.\n",
      "\n",
      "**§ 5a Dörfliche Wohngebiete**\n",
      "Dörfliche Wohngebiete dienen dem Wohnen sowie der Unterbringung von land- und forstwirtschaftlichen Nebenerwerbsstellen und nicht wesentlich störenden Gewerbebetrieben. Zulässig sind Wohngebäude, Wirtschaftsstellen, Kleinsiedlungen, nicht gewerbliche Einrichtungen und Anlagen für die Tierhaltung, Betriebe des Beherbergungsgewerbes, sonstige Gewerbebetriebe, die der Versorgung des Gebiets dienenden Läden, Schank- und Speisewirtschaften, Anlagen für örtliche Verwaltungen sowie für kirchliche, kulturelle, soziale, gesundheitliche und sportliche Zwecke. Ausnahmsweise können Wirtschaftsstellen und land- und forstwirtschaftliche Betriebe zugelassen werden.\n",
      "\n",
      "**§ 6 Mischgebiete**\n",
      "Mischgebiete dienen dem Wohnen und der Unterbringung von Gewerbebetrieben, die das Wohnen nicht wesentlich stören. Zulässig sind Wohngebäude, Geschäfts- und Bürogebäude, Einzelhandelsbetriebe, Schank- und Speisewirtschaften, sonstige Gewerbebetriebe, Anlagen für Verwaltungen, kirchliche, kulturelle, soziale, gesundheitliche und sportliche Zwecke, Gartenbaubetriebe und Tankstellen. Ausnahmsweise können Vergnügungsstätten zugelassen werden.\n",
      "\n",
      "**§ 6a Urbane Gebiete**\n",
      "Urbane Gebiete dienen dem Wohnen sowie der Unterbringung von Gewerbebetrieben und sozialen, kulturellen und anderen Einrichtungen, die die Wohnnutzung nicht wesentlich stören. Zulässig sind Wohngebäude, Geschäfts- und Bürogebäude, Einzelhandelsbetriebe, Schank- und Speisewirtschaften, Betriebe des Beherbergungsgewerbes, sonstige Gewerbebetriebe, Anlagen für Verwaltungen sowie für kirchliche, kulturelle, soziale, gesundheitliche und sportliche Zwecke. Ausnahmsweise können Vergnügungsstätten zugelassen werden.\n",
      "\n",
      "**§ 7 Kerngebiete**\n",
      "Kerngebiete dienen vorwiegend der Unterbringung von Handelsbetrieben sowie der zentralen Einrichtungen der Wirtschaft, der Verwaltung und der Kultur. Zulässig sind Geschäfts-, Büro- und Verwaltungsgebäude, Einzelhandelsbetriebe, Schank- und Speisewirtschaften, Betriebe des Beherbergungsgewerbes, sonstige nicht wesentlich störende Gewerbebetriebe, Anlagen für kirchliche, kulturelle, soziale, gesundheitliche und sportliche Zwecke, Tankstellen und Wohnungen für Aufsichts- und Bereitschaftspersonen sowie für Betriebsinhaber und Betriebsleiter. Ausnahmsweise können Vergnügungsstätten und Wohnungen zugelassen werden.\n",
      "\n",
      "**§ 8 Gewerbegebiete**\n",
      "Gewerbegebiete dienen vorwiegend der Unterbringung von nicht erheblich belästigenden Gewerbebetrieben. Zulässig sind Gewerbebetriebe aller Art, Geschäfts-, Büro- und Verwaltungsgebäude, Tankstellen und Anlagen für sportliche Zwecke. Ausnahmsweise können Wohnungen für Aufsichts- und Bereitschaftspersonen sowie für Betriebsinhaber und Betriebsleiter, Anlagen für kirchliche, kulturelle, soziale und gesundheitliche Zwecke sowie Vergnügungsstätten zugelassen werden.\n",
      "\n",
      "**§ 9 Industriegebiete**\n",
      "Industriegebiete dienen ausschließlich der Unterbringung von Gewerbebetrieben, die in anderen Baugebieten unzulässig sind. Zulässig sind Gewerbebetriebe aller Art, Geschäfts-, Büro- und Verwaltungsgebäude, Tankstellen und Anlagen für sportliche Zwecke. Ausnahmsweise können Wohnungen für Aufsichts- und Bereitschaftspersonen sowie für Betriebsinhaber und Betriebsleiter, Anlagen für kirchliche, kulturelle, soziale und gesundheitliche Zwecke sowie Vergnügungsstätten zugelassen werden.\n",
      "\n",
      "**§ 10 Sondergebiete, die der Erholung dienen**\n",
      "Sondergebiete, die der Erholung dienen, umfassen Wochenendhausgebiete, Ferienhausgebiete und Campingplatzgebiete. Die Zweckbestimmung und Art der Nutzung werden im Bebauungsplan festgesetzt. Zulässig sind entsprechende Anlagen und Einrichtungen zur Versorgung des Gebiets und für sportliche Zwecke.\n",
      "\n",
      "**§ 11 Sonstige Sondergebiete**\n",
      "Sonstige Sondergebiete umfassen Gebiete für den Fremdenverkehr, Kurgebiete, Gebiete für Einkaufszentren und großflächige Handelsbetriebe, Gebiete für Messen, Ausstellungen und Kongresse, Hochschulgebiete, Klinikgebiete, Hafengebiete und Gebiete für erneuerbare Energien. Die Zweckbestimmung und Art der Nutzung werden im Bebauungsplan festgesetzt. Zulässig sind entsprechende Anlagen und Einrichtungen.\n",
      "\n",
      "**§ 12 Stellplätze und Garagen**\n",
      "Stellplätze und Garagen sind in allen Baugebieten zulässig, soweit sie den Bedarf decken. In Kleinsiedlungsgebieten, reinen Wohngebieten und allgemeinen Wohngebieten sowie Sondergebieten, die der Erholung dienen, sind Stellplätze und Garagen nur für den durch die zugelassene Nutzung verursachten Bedarf zulässig. Ausnahmsweise können Stellplätze und Garagen für Lastkraftwagen und Kraftomnibusse sowie für Anhänger dieser Kraftfahrzeuge zugelassen werden.\n",
      "\n",
      "**§ 13 Gebäude und Räume für freie Berufe**\n",
      "Räume oder Gebäude für die Berufsausübung freiberuflich Tätiger und ähnlicher Gewerbetreibender sind in den Baugebieten nach den §§ 2 bis 4a zulässig. Sie dürfen die Eigenart des Baugebiets nicht stören. \n",
      "\n",
      "**§ 13a Ferienwohnungen**\n",
      "Räume oder Gebäude, die zur vorübergehenden Unterbringung von Gästen gegen Entgelt bestimmt sind, gehören zu den zulässigen Nutzungen in den Baugebieten nach den §§ 2 bis 4a. Abweichend von Satz 1 können Räume nach Satz 1 in den Baugebieten nach Satz 1 in einem Gebäude zulässig sein, das überwiegend Wohnzwecken dient. \n",
      "\n",
      "**§ 14 Nebenanlagen; Anlagen zur Nutzung solarer Strahlungsenergie und Kraft-Wärme-Kopplungsanlagen**\n",
      "Nebenanlagen und untergeordnete Nebenanlagen sind in den Baugebieten nach den §§ 2 bis 13 zulässig, soweit sie dem Nutzungszweck des Baugebiets dienen. Anlagen zur Nutzung solarer Strahlungsenergie und Kraft-Wärme-Kopplungsanlagen sind ebenfalls zulässig. Die Zulässigkeit kann durch Festsetzungen im Bebauungsplan eingeschränkt werden.\n",
      "\n",
      "**§ 15 Allgemeine Voraussetzungen für die Zulässigkeit baulicher und sonstiger Anlagen**\n",
      "Bauliche und sonstige Anlagen sind unzulässig, wenn sie nach Anzahl, Lage, Umfang oder Zweckbestimmung den Eigenart des Baugebiets widersprechen oder unzumutbare Störungen verursachen. Die Zulässigkeit ist nach den städtebaulichen Zielen und Grundsätzen zu beurteilen.\n",
      "Stored 'msgbaunvo_art' (str)\n"
     ]
    }
   ],
   "source": [
    "# Definition \"Art der baulichen Nutzung\"\n",
    "msgbaunvo_art = gerty.request([\n",
    "        *pdf_prompts,\n",
    "        {\n",
    "            \"type\": \"text\",\n",
    "            \"text\": 'Fasse die Paragraphen 1 bis 15 im Abschnitt \"Art der baulichen Nutzung\" jeweils in maximal drei Sätze zusammen.'\n",
    "        },\n",
    "    ])\n",
    "\n",
    "pprint(msgbaunvo_art)\n",
    "%store msgbaunvo_art\n"
   ]
  },
  {
   "cell_type": "code",
   "execution_count": 13,
   "metadata": {},
   "outputs": [
    {
     "name": "stdout",
     "output_type": "stream",
     "text": [
      "### § 16 Bestimmung des Maßes der baulichen Nutzung\n",
      "Das Maß der baulichen Nutzung wird im Bebauungsplan durch die Grundflächenzahl, Geschossflächenzahl, Baumassenzahl oder die Höhe baulicher Anlagen festgelegt. Es kann auch durch die Anzahl der Vollgeschosse oder die Höhe der baulichen Anlagen bestimmt werden. Die Festsetzungen müssen die öffentlichen Belange berücksichtigen und dürfen die Umgebung nicht beeinträchtigen.\n",
      "\n",
      "### § 17 Orientierungswerte für die Bestimmung des Maßes der baulichen Nutzung\n",
      "Die Orientierungswerte für das Maß der baulichen Nutzung sind in einer Tabelle festgelegt und variieren je nach Baugebiet. Diese Werte umfassen die Grundflächenzahl, Geschossflächenzahl und Baumassenzahl. In Wochenendhausgebieten und Ferienhausgebieten dürfen die Orientierungswerte nicht überschritten werden.\n",
      "\n",
      "### § 18 Höhe baulicher Anlagen\n",
      "Die Höhe baulicher Anlagen wird durch die erforderlichen Bezugspunkte bestimmt. Abweichungen von der festgesetzten Höhe sind in geringfügigem Umfang zulässig. Die Höhe muss im Bebauungsplan festgelegt werden, wenn sie zwingend erforderlich ist.\n",
      "\n",
      "### § 19 Grundflächenzahl, zulässige Grundfläche\n",
      "Die Grundflächenzahl gibt an, wie viel Quadratmeter Grundfläche je Quadratmeter Grundstücksfläche zulässig sind. Zulässige Grundfläche umfasst auch bestimmte bauliche Anlagen wie Garagen und Stellplätze. Überschreitungen der zulässigen Grundfläche sind in geringfügigem Umfang möglich, wenn sie die Nutzung des Grundstücks nicht wesentlich beeinträchtigen.\n",
      "\n",
      "### § 20 Vollgeschosse, Geschossflächenzahl, Geschossfläche\n",
      "Vollgeschosse sind Geschosse, die nach landesrechtlichen Vorschriften als solche gelten. Die Geschossflächenzahl gibt an, wie viel Quadratmeter Geschossfläche je Quadratmeter Grundstücksfläche zulässig sind. Die Geschossfläche wird nach den Außenmaßen der Gebäude in allen Vollgeschossen ermittelt.\n",
      "\n",
      "### § 21 Baumassenzahl, Baumasse\n",
      "Die Baumassenzahl gibt an, wie viel Kubikmeter Baumasse je Quadratmeter Grundstücksfläche zulässig sind. Die Baumasse wird nach den Außenmaßen der Gebäude vom Fußboden des untersten Vollgeschosses bis zur Decke des obersten Vollgeschosses ermittelt. Bauliche Anlagen und Gebäudeteile im Sinne des § 20 Absatz 4 bleiben bei der Ermittlung der Baumasse unberücksichtigt.\n",
      "\n",
      "### § 21a Stellplätze, Garagen und Gemeinschaftsanlagen\n",
      "Garagengeschosse oder ihre Baumasse sind in sonst genutzten Gebäuden auf die zulässige Baumasse nicht anzurechnen, wenn der Bebauungsplan dies festsetzt. Die Grundstücksfläche im Sinne des § 19 Absatz 3 sind Flächenanteile an außerhalb des Baugrundstücks festgesetzten Gemeinschaftsanlagen hinzuzurechnen. Überschreitungen der zulässigen Grundfläche durch überdachte Stellplätze und Garagen sind bis zu 0,1 der Fläche des Baugrundstücks zulässig.\n",
      "Stored 'msgbaunvo_maß' (str)\n"
     ]
    }
   ],
   "source": [
    "# Definition \"Maß der baulichen Nutzung\"\n",
    "msgbaunvo_maß = gerty.request([\n",
    "        *pdf_prompts,\n",
    "        {\n",
    "            \"type\": \"text\",\n",
    "            \"text\": 'Fasse die Paragraphen 16 bis 21a im Abschnitt \"Maß der baulichen Nutzung\" jeweils in maximal drei Sätze zusammen.'\n",
    "        },\n",
    "    ])\n",
    "\n",
    "pprint(msgbaunvo_maß)\n",
    "%store msgbaunvo_maß"
   ]
  },
  {
   "cell_type": "code",
   "execution_count": 12,
   "metadata": {},
   "outputs": [
    {
     "name": "stdout",
     "output_type": "stream",
     "text": [
      "§ 22 Bauweise:\n",
      "Im Bebauungsplan kann die Bauweise als offene oder geschlossene Bauweise festgesetzt werden. In der offenen Bauweise werden die Gebäude mit seitlichem Grenzabstand als Einzelhäuser, Doppelhäuser oder Hausgruppen errichtet. In der geschlossenen Bauweise werden die Gebäude ohne seitlichen Grenzabstand errichtet, es sei denn, dass die vorhandene Bebauung eine Abweichung erfordert.\n",
      "\n",
      "§ 23 Überbaubare Grundstücksfläche:\n",
      "Die überbaubare Grundstücksfläche wird durch die Festsetzung von Baugrenzen, Baulinien oder Bebauungstiefen im Bebauungsplan bestimmt. Ein Vor- oder Zurücktreten von Gebäudeteilen in geringfügigem Ausmaß kann zugelassen werden. Wenn im Bebauungsplan nichts anderes festgesetzt ist, können auf den nicht überbaubaren Grundstücksflächen Nebenanlagen im Sinne des § 14 zugelassen werden.\n",
      "Stored 'msgbaunvo_bg' (str)\n"
     ]
    }
   ],
   "source": [
    "# Definition \"Bauweise, überbaubare Grundstücksfläche\"\n",
    "msgbaunvo_bg = gerty.request([\n",
    "        *pdf_prompts,\n",
    "        {\n",
    "            \"type\": \"text\",\n",
    "            \"text\": 'Fasse die Paragraphen 22 und 23 im Abschnitt \"Bauweise, überbaubare Grundstücksfläche\" jeweils in maximal drei Sätze zusammen.'\n",
    "        },\n",
    "    ])\n",
    "\n",
    "pprint(msgbaunvo_bg)\n",
    "%store msgbaunvo_bg"
   ]
  }
 ],
 "metadata": {
  "kernelspec": {
   "display_name": "masterarbeit_stage_1",
   "language": "python",
   "name": "python3"
  },
  "language_info": {
   "codemirror_mode": {
    "name": "ipython",
    "version": 3
   },
   "file_extension": ".py",
   "mimetype": "text/x-python",
   "name": "python",
   "nbconvert_exporter": "python",
   "pygments_lexer": "ipython3",
   "version": "3.11.8"
  }
 },
 "nbformat": 4,
 "nbformat_minor": 2
}
