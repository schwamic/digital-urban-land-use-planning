{
 "cells": [
  {
   "cell_type": "markdown",
   "metadata": {},
   "source": [
    "# 2.3.2.1 Textlicher Teil Bebauungsplan – OCR (GPT-4o)\n",
    "\n",
    "* Zero-Shot\n",
    "* Chain-Of-Thought\n",
    "* Best result: Keine Unterschiede."
   ]
  },
  {
   "cell_type": "code",
   "execution_count": 4,
   "metadata": {},
   "outputs": [],
   "source": [
    "from utils.parser import Parser\n",
    "from utils.openai import OpenAI\n",
    "from utils.pprint import pprint\n",
    "\n",
    "instructions = \"Du bist ein Assistent zur getreuen Wiedergabe von Informationen aus einem Bebauungsplan. Achte auf Vollständigkeit.\"\n",
    "ava = OpenAI(instructions)\n",
    "parser = Parser()"
   ]
  },
  {
   "cell_type": "markdown",
   "metadata": {},
   "source": [
    "### Alle Themen in einem Prompt"
   ]
  },
  {
   "cell_type": "code",
   "execution_count": 10,
   "metadata": {},
   "outputs": [
    {
     "name": "stdout",
     "output_type": "stream",
     "text": [
      "Hier sind die extrahierten Informationen zu den angeforderten Themen aus dem Bebauungsplan \"Gewerbegebiet Himmelreich\":\n",
      "\n",
      "### Art der baulichen Nutzung\n",
      "1. **Eingeschränktes Gewerbegebiet (GEE) (§ 8 BauNVO i.V.m. § 1 (4) BauNVO)**\n",
      "   - **Zulässig sind:**\n",
      "     - Gewerbebetriebe, die das Wohnen nicht wesentlich stören, einschließlich Einzelhandelsbetriebe mit bestimmten Sortimenten (Kfz, Motorräder, Mopeds, Fahrräder, Kfz-Zubehör, Rasenmäher, Landmaschinen, Fahrrad- und Motorradzubehör, Brennstoffe und Mineralölerzeugnisse).\n",
      "     - Verkauf von auf dem Grundstück produzierten Waren auf einer untergeordneten Fläche.\n",
      "   - **Nicht zulässig sind:**\n",
      "     - Vergnügungsstätten gemäß § 8 (3) Nr. 3 BauNVO.\n",
      "     - Einzelhandelsbetriebe mit innenstadtrelevanten und bestimmten nicht innenstadtrelevanten Sortimenten gemäß § 1 (5) BauNVO i.V.m. § 1 (9) BauNVO.\n",
      "\n",
      "2. **Gewerbegebiet (GE) (§ 8 BauNVO)**\n",
      "   - **Zulässig sind:**\n",
      "     - Gewerbebetriebe aller Art, einschließlich Einzelhandelsbetriebe mit bestimmten Sortimenten (wie oben beschrieben).\n",
      "     - Verkauf von auf dem Grundstück produzierten Waren auf einer untergeordneten Fläche.\n",
      "   - **Nicht zulässig sind:**\n",
      "     - Vergnügungsstätten gemäß § 8 (3) Nr. 3 BauNVO.\n",
      "     - Einzelhandelsbetriebe mit innenstadtrelevanten und bestimmten nicht innenstadtrelevanten Sortimenten gemäß § 1 (5) BauNVO i.V.m. § 1 (9) BauNVO.\n",
      "\n",
      "### Maß der baulichen Nutzung\n",
      "1. **Grundflächenzahl (§ 19 BauNVO)**\n",
      "   - Siehe Einträge im Lageplan.\n",
      "\n",
      "2. **Geschossflächenzahl (§ 20 BauNVO)**\n",
      "   - Siehe Einträge im Lageplan.\n",
      "\n",
      "3. **Höhe der baulichen Anlagen (§ 18 BauNVO)**\n",
      "   - Siehe Einträge im Lageplan.\n",
      "   - Die Gebäudehöhe wird gemessen von der Erdgeschossfußbodenhöhe (EFH) bis zur Schnittkante zwischen Außenwand und Dachhaut bzw. bis zur Oberkante Firstziegel.\n",
      "\n",
      "### Bauweise\n",
      "1. **Bauweise (§ 22 BauNVO)**\n",
      "   - Siehe Einträge im Lageplan.\n",
      "   - Abweichende Bauweise. Es gilt die offene Bauweise, jedoch sind die Gebäudelängen nicht begrenzt.\n",
      "\n",
      "### Überbaubare Grundstücksfläche\n",
      "1. **Überbaubare Grundstücksfläche (§ 9 (1) 2 BauGB)**\n",
      "   - Die überbaubare Grundstücksfläche wird durch die Festsetzung von Baugrenzen in der Planzeichnung bestimmt.\n",
      "   - Garagen im Sinne von § 12 BauNVO und Nebenanlagen im Sinne des § 14 BauNVO sowie Anlagen der Fremdwerbung und bauliche Anlagen, die nach Landesrecht in den Abstandsflächen zulässig sind oder zugelassen werden können, sind nur innerhalb der überbaubaren Grundstücksflächen zulässig.\n",
      "\n",
      "Diese Informationen geben einen Überblick über die wesentlichen Festsetzungen des Bebauungsplans in Bezug auf die Art der baulichen Nutzung, das Maß der baulichen Nutzung, die Bauweise und die überbaubare Grundstücksfläche.\n",
      "#############################################\n"
     ]
    }
   ],
   "source": [
    "# Textinformationen – WITHOUT CONTEXT\n",
    "pdf_path = \"../data/raw/bpläne/2_zeichnung_textteil_getrennt/F11-01-TT.pdf\"\n",
    "\n",
    "instruction = 'Extrahiere alle Informationen zu den folgenden Themen: Art der baulichen Nutzung, Maß der baulichen Nutzung, Bauweise, überbaubare Grundstücksfläche.'\n",
    "\n",
    "messages = await ava.extractTextFromImages(instruction, [pdf_path], img_type=\"pdf\")\n",
    "pprint(messages)"
   ]
  },
  {
   "cell_type": "code",
   "execution_count": 2,
   "metadata": {},
   "outputs": [
    {
     "name": "stdout",
     "output_type": "stream",
     "text": [
      "### Art der baulichen Nutzung\n",
      "\n",
      "1. **Planungsrechtliche Festsetzungen (§ 9 (1) und (2) BauGB und BauNVO)**\n",
      "   - **Art der baulichen Nutzung (§§ 1 - 15 BauNVO)**\n",
      "     - **Eingeschränktes Gewerbegebiet (GEE) (§ 8 BauNVO i.V.m. § 1 (4) BauNVO)**\n",
      "       - **Zulässig sind / zulässig ist:**\n",
      "         - Gewerbebetriebe, die das Wohnen nicht wesentlich stören, wobei bei Einzelhandelsbetrieben (gem. § 1 (5) BauNVO i.V.m. § 1 (9) BauNVO) nur die nicht innenstadtrelevanten Sortimente Kfz, Motorräder, Mopeds, Fahrräder, Kfz-Zubehör, Rasenmäher, Landmaschinen, Fahrrad- und Motorradzubehör, Brennstoffe und Mineralölerzeugnisse zulässig sind.\n",
      "         - Der Verkauf von auf dem Grundstück produzierten Waren auf einer untergeordneten Fläche ist zulässig.\n",
      "       - **Nicht zulässig sind / nicht zulässig ist:**\n",
      "         - Nutzungen gemäß § 8 (3) Nr. 3 BauNVO (Vergnügungsstätten) sind gemäß § 1 (6) BauNVO nicht Bestandteil des Bebauungsplans und damit nicht zulässig.\n",
      "         - Einzelhandelsbetriebe mit innenstadtrelevanten und bestimmten nicht innenstadtrelevanten Sortimenten sind gemäß § 1 (5) BauNVO i.V.m. § 1 (9) BauNVO nicht zulässig.\n",
      "     - **Gewerbegebiet (GE) (§ 8 BauNVO)**\n",
      "       - **Zulässig sind / zulässig ist:**\n",
      "         - Gewerbebetriebe aller Art, wobei bei Einzelhandelsbetrieben (gem. § 1 (5) BauNVO i.V.m. § 1 (9) BauNVO) nur die nicht innenstadtrelevanten Sortimente Kfz, Motorräder, Mopeds, Fahrräder, Kfz-Zubehör, Rasenmäher, Landmaschinen, Fahrrad- und Motorradzubehör, Brennstoffe und Mineralölerzeugnisse zulässig sind.\n",
      "         - Der Verkauf von auf dem Grundstück produzierten Waren auf einer untergeordneten Fläche ist zulässig.\n",
      "       - **Nicht zulässig sind / nicht zulässig ist:**\n",
      "         - Nutzungen gemäß § 8 (3) Nr. 3 BauNVO (Vergnügungsstätten) sind gemäß § 1 (6) BauNVO nicht Bestandteil des Bebauungsplans und damit nicht zulässig.\n",
      "         - Einzelhandelsbetriebe mit innenstadtrelevanten und bestimmten nicht innenstadtrelevanten Sortimenten sind gemäß § 1 (5) BauNVO i.V.m. § 1 (9) BauNVO nicht zulässig.\n",
      "     - **Innenstadtrelevante Sortimente gemäß 1.1.1.2.2 und 1.1.2.2.2 sind:**\n",
      "       - Nahrungs- und Genussmittel einschließlich der Betriebe des Ernährungshandwerks\n",
      "       - Drogeriewaren, Parfümeriewaren\n",
      "       - Apothekenwaren\n",
      "       - Blumen, zoologischer Bedarf\n",
      "       - Oberbekleidung, Kürschnerwaren, sonstige Textilwaren, Wolle, Kurzwaren, Sportbekleidung\n",
      "       - Schuhe, Lederwaren\n",
      "       - Haushaltswaren, Unterhaltungselektronik, optische und feinmechanische Geräte, Fotowaren\n",
      "       - Papier- und Schreibwaren, Bücher, Spielwaren\n",
      "       - Uhren, Schmuck, Silberwaren\n",
      "       - Musikalien, Ton- und Bildträger\n",
      "       - Heimtextilien, Bettwaren, Gardinen und Zubehör\n",
      "     - **Bestimmte nicht innenstadtrelevante Sortimente gemäß 1.1.1.2.2 und 1.1.2.2.2 sind:**\n",
      "       - Möbel, Kücheneinrichtungen, Elektrogeräte (weiße Ware), Öfen, Herde, Elektroeinbaugeräte, Haushaltstechnik\n",
      "       - Büromöbel, Büromaschinen, Computer, Büroorganisationsmittel, Büro- und Kommunikationstechnik (vorwiegender Absatz an gewerbliche Verwendung)\n",
      "       - Holz, Bauelemente z.B. Fenster und Türen, Baustoffe, Sanitär / Fliesen, Installationsmaterial, Badeeinrichtungen und -ausstattung, Eisenwaren und Werkzeuge, Maschinen und -zubehör\n",
      "       - Beleuchtungskörper, Leuchten, Elektroinstallationsbedarf\n",
      "       - Teppiche, Bodenbeläge, Farben, Lacke, Tapeten, Malereibedarf\n",
      "       - Pflanzen, Pflege- und Düngemittel, Torf, Erde, Pflanzengefäße, Gartenwerkzeuge und -maschinen, Gartenmöbel, Gartenhäuser, Gewächshäuser u.a.\n",
      "     - **Randsortimente**\n",
      "       - Innenstadtrelevante, branchentypische Randsortimente sind in den zulässigen Verkaufsflächen gemäß 1.1.1.1.1 und 1.1.2.1.1 bis zu einer maximalen Fläche von 10% der zulässigen Verkaufsfläche ausnahmsweise zulässig.\n",
      "     - **Verkaufsfläche**\n",
      "       - Verkaufsfläche gemäß 1.1.1.5 ist die gesamte, dem Kunden zugängliche Fläche einschließlich Vorkassenzone und Verkaufsfläche im Freien mit Ausnahme der Kundensozialräume (WC und ähnliches).\n",
      "\n",
      "### Maß der baulichen Nutzung\n",
      "\n",
      "1. **Maß der baulichen Nutzung (§ 16 - 21 BauNVO)**\n",
      "   - **Grundflächenzahl (§ 19 BauNVO)**\n",
      "     - siehe Einträge im Lageplan\n",
      "   - **Geschossflächenzahl (§ 20 BauNVO)**\n",
      "     - siehe Einträge im Lageplan\n",
      "   - **Höhe der baulichen Anlagen (§ 18 BauNVO)**\n",
      "     - siehe Einträge im Lageplan\n",
      "     - Die Gebäudehöhe wird gemessen von der Erdgeschossfußbodenhöhe (EFH) bis zur Schnittkante zwischen Außenwand und Dachhaut bzw. bis zur Oberkante Firstziegel.\n",
      "\n",
      "### Bauweise\n",
      "\n",
      "1. **Bauweise (§ 22 BauNVO)**\n",
      "   - siehe Einträge im Lageplan\n",
      "   - abweichende Bauweise. Es gilt die offene Bauweise, jedoch sind die Gebäudelängen nicht begrenzt.\n",
      "\n",
      "### Überbaubare Grundstücksfläche\n",
      "\n",
      "1. **Überbaubare Grundstücksfläche (§ 9 (1) 2 BauGB)**\n",
      "   - Die überbaubare Grundstücksfläche wird durch die Festsetzung von Baugrenzen in der Planzeichnung bestimmt.\n",
      "   - Garagen im Sinne von § 12 BauNVO und Nebenanlagen im Sinne des § 14 BauNVO sowie Anlagen der Fremdwerbung und bauliche Anlagen, die nach Landesrecht in den Abstandsflächen zulässig sind oder zugelassen werden können, sind nur innerhalb der überbaubaren Grundstücksflächen zulässig.\n",
      "#############################################\n"
     ]
    }
   ],
   "source": [
    "# Textinformationen – WITH CONTEXT\n",
    "# Schema / BauNVO\n",
    "%store -r msgbaunvo msg211_f11_zecropbb_nz\n",
    "pdf_path = \"../data/raw/bpläne/2_zeichnung_textteil_getrennt/F11-01-TT.pdf\"\n",
    "context = parser.text2prompts([msgbaunvo, msg211_f11_zecropbb_nz])\n",
    "\n",
    "instruction = 'Extrahiere alle Informationen zu den folgenden Themen: Art der baulichen Nutzung, Maß der baulichen Nutzung, Bauweise, überbaubare Grundstücksfläche.'\n",
    "\n",
    "messages = await ava.extractTextFromImagesWithContexts(instruction, [pdf_path], [context], img_type=\"pdf\")\n",
    "pprint(messages)"
   ]
  },
  {
   "cell_type": "markdown",
   "metadata": {},
   "source": [
    "### Art der baulichen Nutzung"
   ]
  },
  {
   "cell_type": "code",
   "execution_count": 7,
   "metadata": {},
   "outputs": [
    {
     "name": "stdout",
     "output_type": "stream",
     "text": [
      "### Art der baulichen Nutzung: \n",
      "1.1 Eingeschränktes Gewerbegebiet (GEE) (§ 8 BauNVO i.V.m. § 1 (4) BauNVO)\n",
      "1.1.1 Zulässig sind / zulässig ist:\n",
      "1.1.1.1 Gewerbebetriebe, die das Wohnen nicht wesentlich stören, wobei bei Einzelhandelsbetrieben (gem. § 1 (5) BauNVO i.V.m. § 1 (9) BauNVO) nur die nicht innenstadtrelevanten Sortimente Kfz, Motorräder, Mopeds, Fahrräder, Kfz-Zubehör, Rasenmäher, Landmaschinen, Fahrrad- und Motorradzubehör, Brennstoffe und Mineralölerzeugnisse zulässig sind.\n",
      "1.1.1.2 Der Verkauf von auf dem Grundstück produzierten Waren auf einer untergeordneten Fläche ist zulässig.\n",
      "1.1.2 Nicht zulässig sind / nicht zulässig ist:\n",
      "1.1.2.1 Nutzungen gemäß § 8 (3) Nr. 3 BauNVO (Vergnügungsstätten) sind gemäß § 1 (6) BauNVO nicht Bestandteil des Bebauungsplans und damit nicht zulässig.\n",
      "1.1.2.2 Einzelhandelsbetriebe mit innenstadtrelevanten und bestimmten nicht innenstadtrelevanten Sortimenten sind gemäß § 1 (5) BauNVO i.V.m. § 1 (9) BauNVO nicht zulässig.\n",
      "\n",
      "1.2 Gewerbegebiet (GE) (§ 8 BauNVO)\n",
      "1.2.1 Zulässig sind / zulässig ist:\n",
      "1.2.1.1 Gewerbebetriebe aller Art, wobei bei Einzelhandelsbetrieben (gem. § 1 (5) BauNVO i.V.m. § 1 (9) BauNVO) nur die nicht innenstadtrelevanten Sortimente Kfz, Motorräder, Mopeds, Fahrräder, Kfz-Zubehör, Rasenmäher, Landmaschinen, Fahrrad- und Motorradzubehör, Brennstoffe und Mineralölerzeugnisse zulässig sind.\n",
      "1.2.1.2 Der Verkauf von auf dem Grundstück produzierten Waren auf einer untergeordneten Fläche ist zulässig.\n",
      "1.2.2 Nicht zulässig sind / nicht zulässig ist:\n",
      "1.2.2.1 Nutzungen gemäß § 8 (3) Nr. 3 BauNVO (Vergnügungsstätten) sind gemäß § 1 (6) BauNVO nicht Bestandteil des Bebauungsplans und damit nicht zulässig.\n",
      "1.2.2.2 Einzelhandelsbetriebe mit innenstadtrelevanten und bestimmten nicht innenstadtrelevanten Sortimenten sind gemäß § 1 (5) BauNVO i.V.m. § 1 (9) BauNVO nicht zulässig.\n",
      "\n",
      "1.1.3 Innenstadtrelevante Sortimente gemäß 1.1.1.2 und 1.1.2.2 sind:\n",
      "- Nahrungs- und Genussmittel einschließlich der Betriebe des Ernährungshandwerks\n",
      "- Drogeriewaren, Parfümeriewaren\n",
      "- Apothekenwaren\n",
      "- Blumen, zoologischer Bedarf\n",
      "- Oberbekleidung, Kürschnerwaren, sonstige Textilwaren, Wolle, Kurzwaren, Sportbekleidung\n",
      "- Schuhe, Lederwaren\n",
      "- Haushaltswaren, Unterhaltungselektronik, optische und feinmechanische Geräte, Fotowaren\n",
      "- Papier- und Schreibwaren, Bücher, Spielwaren\n",
      "- Uhren, Schmuck, Silberwaren\n",
      "- Musikalien, Ton- und Bildträger\n",
      "- Heimtextilien, Bettwaren, Gardinen und Zubehör\n",
      "\n",
      "1.1.4 Bestimmte nicht innenstadtrelevante Sortimente gemäß 1.1.1.2 und 1.1.2.2 sind:\n",
      "- Möbel, Kücheneinrichtungen, Elektrogeräte (weiße Ware), Öfen, Herde, Elektroeinbaugeräte, Haushaltstechnik\n",
      "- Büromöbel, Büromaschinen, Computer, Büroorganisationsmittel, Büro- und Kommunikationstechnik (vorwiegender Absatz an gewerbliche Verwendung)\n",
      "- Holz, Bauelemente z.B. Fenster und Türen, Baustoffe, Sanitär / Fliesen, Installationsmaterial, Badeinrichtungen und -ausstattung, Eisenwaren und Werkzeuge, Maschinen und -zubehör\n",
      "- Beleuchtungskörper, Leuchten, Elektroinstallationsbedarf\n",
      "- Teppiche, Bodenbeläge, Farben, Lacke, Tapeten, Malereibedarf\n",
      "- Pflanzen, Pflege- und Düngemittel, Torf, Erde, Pflanzengefäße, Gartenwerkzeuge und -maschinen, Gartenmöbel, Gartenhäuser, Gewächshäuser u.a.\n",
      "\n",
      "1.1.5 Randsortimente\n",
      "Innenstadtrelevante, branchentypische Randsortimente sind in den zulässigen Verkaufsflächen gemäß 1.1.1.1 und 1.1.2.1 bis zu einer maximalen Fläche von 10% der zulässigen Verkaufsfläche ausnahmsweise zulässig.\n",
      "\n",
      "1.1.6 Verkaufsfläche\n",
      "Verkaufsfläche gemäß 1.1.1.5 ist die gesamte, dem Kunden zugängliche Fläche einschließlich Vorkassenzone und Verkaufsfläche im Freien mit Ausnahme der Kundensozialräume (WC und ähnliches).\n",
      "\n",
      "### Referenzen: Seiten 2, 3, 4\n",
      "#############################################\n"
     ]
    }
   ],
   "source": [
    "# Textinformationen: Art der baulichen Nutzung – WITH CONTEXT\n",
    "pdf_path = \"../data/raw/bpläne/2_zeichnung_textteil_getrennt/F11-01-TT.pdf\"\n",
    "context = parser.text2prompts(['''\n",
    "Hintergrundwissen zum Thema \"Art der baulichen Nutzung\":\n",
    "- § 1 Allgemeine Vorschriften für Bauflächen und Baugebiete\n",
    "- § 2 Kleinsiedlungsgebiete\n",
    "- § 3 Reine Wohngebiete\n",
    "- § 4 Allgemeine Wohngebiete\n",
    "- § 4a Gebiete zur Erhaltung und Entwicklung der Wohnnutzung (besondere Wohngebiete)\n",
    "- § 5 Dorfgebiete\n",
    "- § 5a Dörfliche Wohngebiete\n",
    "- § 6 Mischgebiete\n",
    "- § 6a Urbane Gebiete\n",
    "- § 7 Kerngebiete\n",
    "- § 8 Gewerbegebiete\n",
    "- § 9 Industriegebiete\n",
    "- § 10 Sondergebiete, die der Erholung dienen\n",
    "- § 11 Sonstige Sondergebiete\n",
    "- § 12 Stellplätze und Garagen\n",
    "- § 13 Gebäude und Räume für freie Berufe\n",
    "- § 13a Ferienwohnungen\n",
    "- § 14 Nebenanlagen; Anlagen zur Nutzung solarer Strahlungsenergie und Kraft-Wärme-Kopplungsanlagen\n",
    "- § 15 Allgemeine Voraussetzungen für die Zulässigkeit baulicher und sonstiger Anlagen\n",
    "'''])\n",
    "\n",
    "instruction = 'Extrahiere alle Informationen zum Thema \"Art der baulichen Nutzung\". Liste am Ende die jeweiligen Seitenzahlen als Referenz auf. Output-Format: ###<Thema>: <Informationen> ### Referenzen: <Seitenzahlen>).'\n",
    "\n",
    "messages = await ava.extractTextFromImagesWithContexts(instruction, [pdf_path], [context], img_type=\"pdf\")\n",
    "pprint(messages)"
   ]
  },
  {
   "cell_type": "markdown",
   "metadata": {},
   "source": [
    "### Maß der baulichen Nutzung"
   ]
  },
  {
   "cell_type": "code",
   "execution_count": 8,
   "metadata": {},
   "outputs": [
    {
     "name": "stdout",
     "output_type": "stream",
     "text": [
      "### Maß der baulichen Nutzung: \n",
      "1.2 Maß der baulichen Nutzung (§§ 16 - 21 BauNVO)\n",
      "1.2.1 Grundflächenzahl (§ 19 BauNVO)\n",
      "- siehe Einträge im Lageplan\n",
      "\n",
      "1.2.2 Geschossflächenzahl (§ 20 BauNVO)\n",
      "- siehe Einträge im Lageplan\n",
      "\n",
      "1.2.3 Höhe der baulichen Anlagen (§ 18 BauNVO)\n",
      "- siehe Einträge im Lageplan\n",
      "- Die Gebäudehöhe wird gemessen von der Erdgeschossfußbodenhöhe (EFH) bis zur Schnittkante zwischen Außenwand und Dachhaut bzw. bis zur Oberkante Firstziegel.\n",
      "\n",
      "### Referenzen: Seite 3\n",
      "#############################################\n"
     ]
    }
   ],
   "source": [
    "# Textinformationen: Maß der baulichen Nutzung – WITH CONTEXT\n",
    "pdf_path = \"../data/raw/bpläne/2_zeichnung_textteil_getrennt/F11-01-TT.pdf\"\n",
    "context = parser.text2prompts(['''\n",
    "Hintergrundwissen zum Thema \"Maß der baulichen Nutzung\":\n",
    "- § 16 Bestimmung des Maßes der baulichen Nutzung\n",
    "- § 17 Orientierungswerte für die Bestimmung des Maßes der baulichen Nutzung\n",
    "- § 18 Höhe baulicher Anlagen\n",
    "- § 19 Grundflächenzahl, zulässige Grundfläche\n",
    "- § 20 Vollgeschosse, Geschossflächenzahl, Geschossfläche\n",
    "- § 21 Baumassenzahl, Baumasse\n",
    "- § 21a Stellplätze, Garagen und Gemeinschaftsanlagen\n",
    "'''])\n",
    "\n",
    "instruction = 'Extrahiere alle Informationen zum Thema \"Maß der baulichen Nutzung\". Liste am Ende die jeweiligen Seitenzahlen als Referenz auf. Output-Format: ###<Thema>: <Informationen> ### Referenzen: <Seitenzahlen>).'\n",
    "\n",
    "messages = await ava.extractTextFromImagesWithContexts(instruction, [pdf_path], [context], img_type=\"pdf\")\n",
    "pprint(messages)\n",
    "\n"
   ]
  },
  {
   "cell_type": "markdown",
   "metadata": {},
   "source": [
    "### Bauweise, überbaubare Grundstücksfläche"
   ]
  },
  {
   "cell_type": "code",
   "execution_count": 9,
   "metadata": {},
   "outputs": [
    {
     "name": "stdout",
     "output_type": "stream",
     "text": [
      "### Bauweise, überbaubare Grundstücksfläche:\n",
      "\n",
      "1.3 Bauweise (§ 22 BauNVO)\n",
      "- siehe Einschreibung im Lageplan\n",
      "- abweichende Bauweise. Es gilt die offene Bauweise, jedoch sind die Gebäudelängen nicht begrenzt.\n",
      "\n",
      "1.4 Überbaubare Grundstücksfläche (§ 9 (1) 2 BauGB)\n",
      "- Die überbaubare Grundstücksfläche wird durch die Festsetzung von Baugrenzen in der Planzeichnung bestimmt.\n",
      "- Garagen im Sinne von § 12 BauNVO und Nebenanlagen im Sinne des § 14 BauNVO sowie Anlagen der Fremdwerbung und bauliche Anlagen, die nach Landesrecht in den Abstandsflächen zulässig sind oder zugelassen werden können, sind nur innerhalb der überbaubaren Grundstücksflächen zulässig.\n",
      "\n",
      "### Referenzen: Seite 4\n",
      "#############################################\n"
     ]
    }
   ],
   "source": [
    "# Textinformationen: Bauweise, überbaubare Grundstücksfläche – WITH CONTEXT\n",
    "pdf_path = \"../data/raw/bpläne/2_zeichnung_textteil_getrennt/F11-01-TT.pdf\"\n",
    "context = parser.text2prompts(['''\n",
    "Hintergrundwissen zum Thema \"Bauweise, überbaubare Grundstücksfläche\":\n",
    "- § 22 Bauweise\n",
    "- § 23 Überbaubare Grundstücksfläche\n",
    "'''])\n",
    "\n",
    "instruction = 'Extrahiere alle Informationen zum Thema \"Bauweise, überbaubare Grundstücksfläche\". Liste am Ende die jeweiligen Seitenzahlen als Referenz auf. Output-Format: ###<Thema>: <Informationen> ### Referenzen: <Seitenzahlen>).'\n",
    "\n",
    "messages = await ava.extractTextFromImagesWithContexts(instruction, [pdf_path], [context], img_type=\"pdf\")\n",
    "pprint(messages)"
   ]
  }
 ],
 "metadata": {
  "kernelspec": {
   "display_name": "masterarbeit_stage_1",
   "language": "python",
   "name": "python3"
  },
  "language_info": {
   "codemirror_mode": {
    "name": "ipython",
    "version": 3
   },
   "file_extension": ".py",
   "mimetype": "text/x-python",
   "name": "python",
   "nbconvert_exporter": "python",
   "pygments_lexer": "ipython3",
   "version": "3.11.8"
  }
 },
 "nbformat": 4,
 "nbformat_minor": 2
}
