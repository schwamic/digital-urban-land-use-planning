{
 "cells": [
  {
   "cell_type": "markdown",
   "metadata": {},
   "source": [
    "# Simple RAG App\n",
    "\n",
    "* Bebauungsplan\n",
    "* BauNVO"
   ]
  },
  {
   "cell_type": "code",
   "execution_count": null,
   "metadata": {},
   "outputs": [],
   "source": [
    "# * GPT-4o ist in der Lage Informationen zu extrahieren (Zero-Shot)\n",
    "# * ZIEL: Wie Daten miteinander vorverarbeiten + verbinden, sodass QA bzgl. Bebauungsplan funktioniert.\n",
    "\n",
    "# 1. OCR-Agent (Pre-Processing-Pipeline)\n",
    "# e.g. 'Du bist ein OCR-Programm, was alle textlichen Informationen aus einem Bild extrahiert'\n",
    "\n",
    "# 2. QA-Agent (Chat-Bot)\n",
    "# e.g. 'Du bist ein Chat-Bot, der mithilfe der gegebenen Informationen, Fragen beantwortet. Helfen die gegeben Informationen nicht um eine Antwort zu formulieren, antworte mit \"Das ist mir nicht bekannt\"'\n",
    "\n"
   ]
  }
 ],
 "metadata": {
  "kernelspec": {
   "display_name": "masterarbeit_stage_1",
   "language": "python",
   "name": "python3"
  },
  "language_info": {
   "name": "python",
   "version": "3.1.-1"
  }
 },
 "nbformat": 4,
 "nbformat_minor": 2
}
