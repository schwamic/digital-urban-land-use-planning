{
 "cells": [
  {
   "cell_type": "markdown",
   "metadata": {},
   "source": [
    "# 2.4 Textlicher Teil Bebauungsplan – Embeddings + Vector Store (GPT-4o)\n",
    "\n",
    "Das Context-Window (128.000 Tokens) in GPT-4o ist begrenzt. Entsprechend muss ab einer gewissen Seitenanzahl des schriftlichen Dokuments eines Bebauungsplans auf Emebddings zurückgegriffen werden. (~765 Tokens pro Bild mit hoher Auflösung / 85 Tokens pro Bild mit niedriger Auflösung)\n",
    "\n",
    "IDEE: Embeddings dienen ausschließlich dazu die Seitenanzahl des schriftlichen Dokuments zu reduzieren. GPT-4o bekommt anschließend wieder die Bilder als Kontext zu sehen. Dadurch gehen möglichst wenig Informationen verloren.I\n",
    "\n",
    "* Zero-Shot\n",
    "* Chain-Of-Thought"
   ]
  },
  {
   "cell_type": "code",
   "execution_count": 7,
   "metadata": {},
   "outputs": [],
   "source": [
    "from utils.pdf2prompts import pdf2prompts\n",
    "import asyncio\n",
    "import os\n",
    "from dotenv import load_dotenv, find_dotenv\n",
    "from langchain_openai import ChatOpenAI\n",
    "from langchain.schema.messages import AIMessage, HumanMessage\n",
    "from langchain_community.vectorstores import FAISS\n",
    "from langchain_openai import OpenAIEmbeddings\n",
    "\n",
    "load_dotenv(find_dotenv())\n",
    "\n",
    "model = ChatOpenAI(\n",
    "    openai_api_key=os.getenv(\"OPENAI_API_KEY\"),\n",
    "    model_name=\"gpt-4o\",\n",
    "    model_kwargs={\"top_p\": 0, \"seed\": 42},\n",
    "    temperature=0,\n",
    ")"
   ]
  },
  {
   "cell_type": "code",
   "execution_count": null,
   "metadata": {},
   "outputs": [],
   "source": [
    "# A) OCR via RapidOCR --> CNN/RNN != Transformer (LLM)\n",
    "# from langchain_community.document_loaders import PyMuPDFLoader\n",
    "# pdf_path = \"../data/raw/bpläne/2_zeichnung_textteil_getrennt/F 11- 02 Gewerbegebiet Himmelreich - schriftlicher Teil.pdf\"\n",
    "# loader = PyMuPDFLoader(pdf_path, extract_images=True)\n",
    "# data = loader.load()\n",
    "# print(data[0])"
   ]
  },
  {
   "cell_type": "code",
   "execution_count": 8,
   "metadata": {},
   "outputs": [
    {
     "name": "stdout",
     "output_type": "stream",
     "text": [
      "SCHRIFTLICHER TEIL (Teil B)\n",
      "\n",
      "BEBAUUNGSPLAN \"GEWERBEGEBIET HIMMELREICH\"\n",
      "\n",
      "STADT LAICHINGEN, GEMARKUNG FELDSTETTEN, ALB-DONAU-KREIS\n",
      "\n",
      "Der Geltungsbereich wird durch das Planzeichen im Lageplan begrenzt.\n",
      "\n",
      "Lageplan M 1: 500\n",
      "\n",
      "Für die planungsrechtlichen bzw. bauordnungsrechtlichen Festsetzungen gelten:\n",
      "\n",
      "- Baugesetzbuch (BauGB)\n",
      "  in der Fassung der Bekanntmachung vom 27.08.1997 (BGBl. I. S. 2141).\n",
      "\n",
      "- Baunutzungsverordnung (BauNVO)\n",
      "  in der Fassung der Bekanntmachung vom 23.01.1990 (BGBl. S. 132), zuletzt geändert am 22.04.1993 (BGBl. I. S. 466).\n",
      "\n",
      "- Planzeichenverordnung 1990 (PlanzV 90)\n",
      "  in der Fassung der Bekanntmachung vom 18.12.1990 (BGBl. I. S. 58).\n",
      "\n",
      "- Landesbauordnung (LBO)\n",
      "  in der Fassung der Bekanntmachung vom 08.08.1995 (GBl. S. 617).\n",
      "\n",
      "Bisherige Festsetzungen:\n",
      "Mit in Kraft treten dieses Bebauungsplanes treten im Geltungsbereich alle bisherigen gemeindlichen bauplanungsrechtlichen und bauordnungsrechtlichen Festsetzungen außer Kraft.\n"
     ]
    }
   ],
   "source": [
    "# OCR via GPT-4o / Kompletter schriftlicher Teil\n",
    "# Idee: Jede Seite einzeln verarbeiten, um den Fokus zu maximieren und Context-Window klein zu halten.\n",
    "async def page2text(page_prompt):\n",
    "    msg = model.invoke([\n",
    "        AIMessage(\n",
    "            content=[\n",
    "                {\n",
    "                    \"type\": \"text\",\n",
    "                    \"text\": \"Du bist ein Assistent um Textinformationen aus dem schriftlichen Teil eines Bebauungsplans zu extrahieren.\"\n",
    "                },\n",
    "            ]\n",
    "        ),\n",
    "        HumanMessage(\n",
    "            content=[\n",
    "            {\n",
    "                \"type\": \"text\",\n",
    "                \"text\": 'Extrahiere den kompletten Textinhalt.'\n",
    "            },\n",
    "            page_prompt\n",
    "            ]\n",
    "        ),\n",
    "    ])\n",
    "    return msg.content\n",
    "\n",
    "pdf_path = \"../data/raw/bpläne/2_zeichnung_textteil_getrennt/F 11- 02 Gewerbegebiet Himmelreich - schriftlicher Teil.pdf\"\n",
    "prompts = pdf2prompts(pdf_path)\n",
    "data_loaders = list(map(lambda prompt: page2text(prompt), prompts))\n",
    "data = await asyncio.gather(*data_loaders)\n",
    "print(data[0])"
   ]
  },
  {
   "cell_type": "code",
   "execution_count": null,
   "metadata": {},
   "outputs": [],
   "source": [
    "# A) Create Embeddings (B-Plan) --> Chunk-Size = Page\n"
   ]
  },
  {
   "cell_type": "code",
   "execution_count": null,
   "metadata": {},
   "outputs": [],
   "source": [
    "# B) Create Vector Store"
   ]
  },
  {
   "cell_type": "code",
   "execution_count": 6,
   "metadata": {},
   "outputs": [],
   "source": [
    "# C) Query Vector Store ==> Relevant Pages"
   ]
  },
  {
   "cell_type": "code",
   "execution_count": null,
   "metadata": {},
   "outputs": [],
   "source": [
    "# D) Connect Informations via Chat\n",
    "# * Add relevant pages to context-window"
   ]
  }
 ],
 "metadata": {
  "kernelspec": {
   "display_name": "masterarbeit_stage_1",
   "language": "python",
   "name": "python3"
  },
  "language_info": {
   "codemirror_mode": {
    "name": "ipython",
    "version": 3
   },
   "file_extension": ".py",
   "mimetype": "text/x-python",
   "name": "python",
   "nbconvert_exporter": "python",
   "pygments_lexer": "ipython3",
   "version": "3.11.8"
  }
 },
 "nbformat": 4,
 "nbformat_minor": 2
}
