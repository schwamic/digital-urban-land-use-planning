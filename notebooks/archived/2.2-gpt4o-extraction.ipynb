{
 "cells": [
  {
   "cell_type": "markdown",
   "metadata": {},
   "source": [
    "# GPT-4o (Extraction 2.2)"
   ]
  },
  {
   "cell_type": "code",
   "execution_count": 1,
   "metadata": {},
   "outputs": [],
   "source": [
    "from utils.image2base64 import image2base64\n",
    "from utils.imageWithAxis2Base64 import imageWithAxis2Base64\n",
    "from utils.getImageSize import getImageSize\n",
    "\n",
    "from dotenv import load_dotenv, find_dotenv\n",
    "import os\n",
    "\n",
    "from langchain_openai import ChatOpenAI\n",
    "from langchain.schema.messages import AIMessage, HumanMessage\n",
    "\n",
    "load_dotenv(find_dotenv())\n",
    "\n",
    "model = ChatOpenAI(\n",
    "    openai_api_key=os.getenv(\"OPENAI_API_KEY\"),\n",
    "    model_name=\"gpt-4o\",\n",
    "    model_kwargs={\"top_p\": 0, \"seed\": 42},\n",
    "    temperature=0,\n",
    ")"
   ]
  },
  {
   "cell_type": "code",
   "execution_count": 3,
   "metadata": {},
   "outputs": [
    {
     "name": "stdout",
     "output_type": "stream",
     "text": [
      "[768, 1362]\n",
      "[1038, 768]\n"
     ]
    }
   ],
   "source": [
    "pz_path = \"../data/processed/bpläne/F11-01-PZ-BB.png\"\n",
    "pze_path = \"../data/processed/bpläne/F11-01-PZE-BB.png\"\n",
    "\n",
    "#base64_pz = imageWithAxis2Base64(pz_path)\n",
    "base64_pz = image2base64(pz_path)\n",
    "base64_pze = image2base64(pze_path)\n",
    "\n",
    "print(getImageSize(pze_path))\n",
    "print(getImageSize(pz_path))"
   ]
  },
  {
   "cell_type": "code",
   "execution_count": 11,
   "metadata": {},
   "outputs": [
    {
     "name": "stdout",
     "output_type": "stream",
     "text": [
      "Hier ist die extrahierte Struktur der Nutzungsschablone in ASCII-Tabellenform:\n",
      "\n",
      "```\n",
      "+-------------------+-------------------+\n",
      "| Art der Nutzung   | Gebäudeklasse     |\n",
      "+-------------------+-------------------+\n",
      "| Grundflächenzahl  | Geschossflächen-  |\n",
      "| (GRZ)             | zahl (GFZ)        |\n",
      "+-------------------+-------------------+\n",
      "| Bauweise          |                   |\n",
      "+-------------------+-------------------+\n",
      "```\n"
     ]
    }
   ],
   "source": [
    "msg1 = model.invoke([\n",
    "    AIMessage(\n",
    "        content=[\n",
    "            {\n",
    "            \"type\": \"text\",\n",
    "            \"text\": \"Du bist ein Assistent um Textinformationen aus einer Planzeichnung eines Bebauungsplans zu extrahieren.\"\n",
    "            }\n",
    "        ]\n",
    "    ),\n",
    "    HumanMessage(\n",
    "        content=[\n",
    "        {\n",
    "            \"type\": \"text\",\n",
    "            \"text\": 'Die Nutzungsschablone in der vorliegenden Zeichenerklärung ist durch eine rote Bounding-Box markiert. Extrahiere die Struktur der Nutzungsschablone in ASCII-Tabellenform.'\n",
    "        },\n",
    "        {\n",
    "            \"type\": \"image_url\",\n",
    "            \"image_url\": {\n",
    "                \"url\": f\"data:image/jpeg;base64,{base64_pze}\",\n",
    "                \"detail\": \"high\"\n",
    "            }\n",
    "        },\n",
    "        ]\n",
    "    ),\n",
    "])\n",
    "\n",
    "print(msg1.content)"
   ]
  },
  {
   "cell_type": "code",
   "execution_count": 15,
   "metadata": {},
   "outputs": [
    {
     "name": "stdout",
     "output_type": "stream",
     "text": [
      "Hier ist die extrahierte Struktur der Nutzungsschablone in ASCII-Tabellenform:\n",
      "\n",
      "```\n",
      "+-------------------+-------------------+\n",
      "| Art der Nutzung   | Gebäudehöhe     |\n",
      "+-------------------+-------------------+\n",
      "| Grundflächenzahl  | Geschossflächen-  |\n",
      "| (GRZ)             | zahl (GFZ)        |\n",
      "+-------------------+-------------------+\n",
      "| Bauweise          |                   |\n",
      "+-------------------+-------------------+\n",
      "```\n"
     ]
    }
   ],
   "source": [
    "# CLEANUP -> FIX COMMON MISTAKES\n",
    "import re\n",
    "\n",
    "regex_pattern = r'Gebäudeklasse'\n",
    "replacement_word = 'Gebäudehöhe'\n",
    "msg1.content = re.sub(regex_pattern, replacement_word, msg1.content)\n",
    "print(msg1.content)\n"
   ]
  },
  {
   "cell_type": "code",
   "execution_count": 16,
   "metadata": {},
   "outputs": [
    {
     "name": "stdout",
     "output_type": "stream",
     "text": [
      "Hier sind die relevanten Definitionen und Zeichen bezüglich der Schlagwörter aus der ASCII-Nutzungsschablone im JSON-Format:\n",
      "\n",
      "```json\n",
      "{\n",
      "  \"Art der Nutzung\": {\n",
      "    \"Definition\": \"Nutzungsschablone\",\n",
      "    \"Zeichen\": \"GE\"\n",
      "  },\n",
      "  \"Gebäudehöhe\": {\n",
      "    \"Definition\": \"max. zulässige Gebäudehöhe über Erdgeschossfußbodenhöhe\",\n",
      "    \"Zeichen\": \"GH=max.12,00\"\n",
      "  },\n",
      "  \"Grundflächenzahl (GRZ)\": {\n",
      "    \"Definition\": \"Grundflächenzahl (§ 19 BauNVO)\",\n",
      "    \"Zeichen\": \"0,6\"\n",
      "  },\n",
      "  \"Geschossflächenzahl (GFZ)\": {\n",
      "    \"Definition\": \"Geschossflächenzahl (§ 20 BauNVO)\",\n",
      "    \"Zeichen\": \"1,2\"\n",
      "  },\n",
      "  \"Bauweise\": {\n",
      "    \"Definition\": \"Allgemeine Bauweise (§ 22 BauNVO)\",\n",
      "    \"Zeichen\": \"-\"\n",
      "  }\n",
      "}\n",
      "```\n"
     ]
    }
   ],
   "source": [
    "msg2 = model.invoke([\n",
    "    AIMessage(\n",
    "        content=[\n",
    "            {\n",
    "            \"type\": \"text\",\n",
    "            \"text\": \"Du bist ein Assistent um Textinformationen aus einer Planzeichnung eines Bebauungsplans zu extrahieren.\"\n",
    "            },\n",
    "            {\n",
    "                \"type\": \"text\",\n",
    "                \"text\": f\"{msg1.content}\"\n",
    "            }\n",
    "        ]\n",
    "    ),\n",
    "    HumanMessage(\n",
    "        content=[\n",
    "        {\n",
    "            \"type\": \"text\",\n",
    "            \"text\": 'Fasse alle relevanten Definitionen und Zeichen bezüglich der Schlagwörter aus der ASCII-Nutzungsschablone aus der Zeichenerklärung zusammen. Ausgabe im JSON-Format: {<Schlagwort>: {\"Definition\"=\"\", \"Zeichen\": \"\"}}'\n",
    "        },\n",
    "        {\n",
    "            \"type\": \"image_url\",\n",
    "            \"image_url\": {\n",
    "                \"url\": f\"data:image/jpeg;base64,{base64_pze}\",\n",
    "                \"detail\": \"high\"\n",
    "            }\n",
    "        },\n",
    "        ]\n",
    "    ),\n",
    "])\n",
    "\n",
    "print(msg2.content)"
   ]
  },
  {
   "cell_type": "code",
   "execution_count": 17,
   "metadata": {},
   "outputs": [
    {
     "name": "stdout",
     "output_type": "stream",
     "text": [
      "Hier sind die extrahierten Werte der Nutzungsschablonen im JSON-Format:\n",
      "\n",
      "```json\n",
      "[\n",
      "  {\n",
      "    \"Art der Nutzung\": \"GE\",\n",
      "    \"Gebäudehöhe\": \"GH=max.12,00\",\n",
      "    \"Grundflächenzahl (GRZ)\": \"0,6\",\n",
      "    \"Geschossflächenzahl (GFZ)\": \"1,2\",\n",
      "    \"Bauweise\": \"-\"\n",
      "  },\n",
      "  {\n",
      "    \"Art der Nutzung\": \"GE\",\n",
      "    \"Gebäudehöhe\": \"GH=max.12,00\",\n",
      "    \"Grundflächenzahl (GRZ)\": \"0,6\",\n",
      "    \"Geschossflächenzahl (GFZ)\": \"1,2\",\n",
      "    \"Bauweise\": \"-\"\n",
      "  },\n",
      "  {\n",
      "    \"Art der Nutzung\": \"GE\",\n",
      "    \"Gebäudehöhe\": \"GH=max.12,00\",\n",
      "    \"Grundflächenzahl (GRZ)\": \"0,6\",\n",
      "    \"Geschossflächenzahl (GFZ)\": \"1,2\",\n",
      "    \"Bauweise\": \"-\"\n",
      "  },\n",
      "  {\n",
      "    \"Art der Nutzung\": \"GE\",\n",
      "    \"Gebäudehöhe\": \"GH=max.12,00\",\n",
      "    \"Grundflächenzahl (GRZ)\": \"0,6\",\n",
      "    \"Geschossflächenzahl (GFZ)\": \"1,2\",\n",
      "    \"Bauweise\": \"-\"\n",
      "  }\n",
      "]\n",
      "```\n"
     ]
    }
   ],
   "source": [
    "msg3 = model.invoke([\n",
    "    AIMessage(\n",
    "        content=[\n",
    "            {\n",
    "            \"type\": \"text\",\n",
    "            \"text\": \"Du bist ein Assistent um Textinformationen aus einer Planzeichnung eines Bebauungsplans zu extrahieren.\"\n",
    "            },\n",
    "            {\n",
    "                \"type\": \"text\",\n",
    "                \"text\": f\"{msg1.content}\"\n",
    "            },\n",
    "            {\n",
    "                \"type\": \"text\",\n",
    "                \"text\": f\"{msg2.content}\"\n",
    "            }\n",
    "        ]\n",
    "    ),\n",
    "    HumanMessage(\n",
    "        content=[\n",
    "        {\n",
    "            \"type\": \"text\",\n",
    "            #\"text\": 'Extrahiere die Informationen aus den rot umrandeten Nutzungsschablonen in der vorliegenden Planzeichnung. Ausgabe im JSON-Format.'\n",
    "            \"text\": \"Die Nutzungsschablonen in der vorliegenden Planzeichnung sind durch rote Bounding-Boxen markiert. Gebe die jeweiligen Werte der Nutzungsschablonen im JSON-Format aus.\"\n",
    "        },\n",
    "        {\n",
    "            \"type\": \"image_url\",\n",
    "            \"image_url\": {\n",
    "                \"url\": f\"data:image/jpeg;base64,{base64_pz}\",\n",
    "                \"detail\": \"high\"\n",
    "            }\n",
    "        },\n",
    "        ]\n",
    "    ),\n",
    "])\n",
    "\n",
    "print(msg3.content)"
   ]
  }
 ],
 "metadata": {
  "kernelspec": {
   "display_name": "masterarbeit_stage_1",
   "language": "python",
   "name": "python3"
  },
  "language_info": {
   "codemirror_mode": {
    "name": "ipython",
    "version": 3
   },
   "file_extension": ".py",
   "mimetype": "text/x-python",
   "name": "python",
   "nbconvert_exporter": "python",
   "pygments_lexer": "ipython3",
   "version": "3.1.-1"
  }
 },
 "nbformat": 4,
 "nbformat_minor": 2
}
