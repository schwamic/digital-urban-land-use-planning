{
 "cells": [
  {
   "cell_type": "markdown",
   "metadata": {},
   "source": [
    "# 2.2.2 Planzeichnung – OCR (GPT4o)\n",
    "\n",
    "* Zero-Shot\n",
    "* Chain-Of-Thought"
   ]
  },
  {
   "cell_type": "code",
   "execution_count": 11,
   "metadata": {},
   "outputs": [],
   "source": [
    "from utils.parser import Parser\n",
    "from utils.openai import OpenAI\n",
    "from utils.pprint import pprint\n",
    "import asyncio\n",
    "\n",
    "instructions = \"Du bist ein Assistent um Textinformationen aus einer Planzeichnung eines Bebauungsplans zu extrahieren. Achte auf Vollständigkeit.\"\n",
    "ava = OpenAI(instructions)\n",
    "parser = Parser()\n"
   ]
  },
  {
   "cell_type": "code",
   "execution_count": 12,
   "metadata": {},
   "outputs": [],
   "source": [
    "%store -r msg211_f11_zecropbb_nz\n",
    "ava.clearContext()\n",
    "ava.addContext([\n",
    "    # Output_1_PZE (best-case-scenario)\n",
    "    {\n",
    "        \"type\": \"text\",\n",
    "        \"text\": f\"Tabellenerklärung/Schema der Nutzungsschablone: {msg211_f11_zecropbb_nz}\"\n",
    "    },\n",
    "    # Output_2_PZE (best-case-scenario)\n",
    "    # {\n",
    "    #     \"type\": \"text\",\n",
    "    #     \"text\": 'Erklärung der Begriffe der Nutzungsschablone im JSON-Format: {\"Art der Nutzung\": {\"Definition\": \"Gibt die Art der Nutzung des Grundstücks an, z.B. Gewerbegebiet.\",\"Beispiel\": \"GE (Gewerbegebiet)\"},\"Gebäudehöhe\": {\"Definition\": \"Maximal zulässige Gebäudehöhe über Erdgeschossfußbodenhöhe.\",\"Beispiel\": \"GH=max.12,00\"},\"Grundflächenzahl\": {\"Definition\": \"Gibt das Verhältnis der bebauten Fläche zur Grundstücksfläche an.\",\"Beispiel\": \"0,6\"},\"Geschossflächenzahl\": {\"Definition\": \"Gibt das Verhältnis der gesamten Geschossfläche zur Grundstücksfläche an.\",\"Beispiel\": \"1,2\"},\"Bauweise\": {\"Definition\": \"Gibt die Art und Weise der Bebauung an, z.B. abweichende Bauweise.\",\"Beispiel\": \"a (abweichende Bauweise)\"}}'\n",
    "    # },\n",
    "])"
   ]
  },
  {
   "cell_type": "code",
   "execution_count": 6,
   "metadata": {},
   "outputs": [
    {
     "name": "stdout",
     "output_type": "stream",
     "text": [
      "Schritt 1: Finde die Nutzungsschablonen in der vorliegenden Planzeichnung.\n",
      "\n",
      "In der Planzeichnung sind mehrere Nutzungsschablonen zu erkennen. Diese sind durch Textfelder mit Angaben wie \"GE\", \"GH=max.12,00\", \"0,6\", \"1,2\" und weiteren Informationen gekennzeichnet.\n",
      "\n",
      "Schritt 2: Gebe die Nutzungsschablone jeweils im JSON-Format aus.\n",
      "\n",
      "Hier sind die Nutzungsschablonen im JSON-Format:\n",
      "\n",
      "```json\n",
      "[\n",
      "  {\n",
      "    \"Art der Nutzung\": \"GE\",\n",
      "    \"Gebäudehöhe\": \"max.12,00\",\n",
      "    \"Grundflächenzahl\": \"0,6\",\n",
      "    \"Geschossflächenzahl\": \"1,2\",\n",
      "    \"Bauweise\": \"-\"\n",
      "  },\n",
      "  {\n",
      "    \"Art der Nutzung\": \"GE\",\n",
      "    \"Gebäudehöhe\": \"max.12,00\",\n",
      "    \"Grundflächenzahl\": \"0,6\",\n",
      "    \"Geschossflächenzahl\": \"1,2\",\n",
      "    \"Bauweise\": \"-\"\n",
      "  },\n",
      "  {\n",
      "    \"Art der Nutzung\": \"GE\",\n",
      "    \"Gebäudehöhe\": \"max.12,00\",\n",
      "    \"Grundflächenzahl\": \"0,6\",\n",
      "    \"Geschossflächenzahl\": \"1,2\",\n",
      "    \"Bauweise\": \"-\"\n",
      "  },\n",
      "  {\n",
      "    \"Art der Nutzung\": \"GE\",\n",
      "    \"Gebäudehöhe\": \"max.12,00\",\n",
      "    \"Grundflächenzahl\": \"0,6\",\n",
      "    \"Geschossflächenzahl\": \"1,2\",\n",
      "    \"Bauweise\": \"a\"\n",
      "  }\n",
      "]\n",
      "```\n",
      "\n",
      "Diese JSON-Objekte repräsentieren die Nutzungsschablonen, die in der Planzeichnung zu finden sind.\n",
      "#############################################\n"
     ]
    }
   ],
   "source": [
    "# Planzeichnung: Nutzungsschablone – WITHOUT BOUNDING BOX\n",
    "pz_crop_path = \"../data/processed/bpläne/2_zeichnung_textteil_getrennt/F11-01-PZ-crop.png\"\n",
    "\n",
    "instruction = 'Gehe Schritt für Schritt vor: 1. Finde die Nutzungsschablonen in der vorliegenden Planzeichnung. 2. Gebe die Nutzungsschablone jeweils im JSON-Format aus.'\n",
    "\n",
    "messages = await ava.extractTextFromImages(instruction, [pz_crop_path])\n",
    "pprint(messages)"
   ]
  },
  {
   "cell_type": "code",
   "execution_count": 7,
   "metadata": {},
   "outputs": [
    {
     "name": "stdout",
     "output_type": "stream",
     "text": [
      "Schritt 1: Finde die Nutzungsschablonen in der vorliegenden Planzeichnung.\n",
      "\n",
      "In der Planzeichnung sind vier rot umrandete Nutzungsschablonen zu sehen. Diese enthalten Informationen zur Art der Nutzung, Gebäudehöhe, Grundflächenzahl, Geschossflächenzahl und Bauweise.\n",
      "\n",
      "Schritt 2: Gebe die Nutzungsschablone jeweils im JSON-Format aus.\n",
      "\n",
      "Hier sind die vier Nutzungsschablonen im JSON-Format:\n",
      "\n",
      "```json\n",
      "{\n",
      "  \"Nutzungsschablonen\": [\n",
      "    {\n",
      "      \"Art der Nutzung\": \"GEE\",\n",
      "      \"Gebäudehöhe\": \"max. 12,00\",\n",
      "      \"Grundflächenzahl\": \"0,6\",\n",
      "      \"Geschossflächenzahl\": \"1,2\",\n",
      "      \"Bauweise\": \"-\"\n",
      "    },\n",
      "    {\n",
      "      \"Art der Nutzung\": \"GE\",\n",
      "      \"Gebäudehöhe\": \"max. 12,00\",\n",
      "      \"Grundflächenzahl\": \"0,6\",\n",
      "      \"Geschossflächenzahl\": \"1,2\",\n",
      "      \"Bauweise\": \"-\"\n",
      "    },\n",
      "    {\n",
      "      \"Art der Nutzung\": \"GEE\",\n",
      "      \"Gebäudehöhe\": \"max. 12,00\",\n",
      "      \"Grundflächenzahl\": \"0,6\",\n",
      "      \"Geschossflächenzahl\": \"1,2\",\n",
      "      \"Bauweise\": \"-\"\n",
      "    },\n",
      "    {\n",
      "      \"Art der Nutzung\": \"GE\",\n",
      "      \"Gebäudehöhe\": \"max. 12,00\",\n",
      "      \"Grundflächenzahl\": \"0,6\",\n",
      "      \"Geschossflächenzahl\": \"1,2\",\n",
      "      \"Bauweise\": \"-\"\n",
      "    }\n",
      "  ]\n",
      "}\n",
      "```\n",
      "\n",
      "Diese JSON-Daten repräsentieren die Informationen aus den vier rot umrandeten Nutzungsschablonen in der Planzeichnung.\n",
      "#############################################\n"
     ]
    }
   ],
   "source": [
    "# Planzeichnung: Nutzungsschablone – WITH BOUNDING BOX\n",
    "pz_bb_crop_path = \"../data/processed/bpläne/2_zeichnung_textteil_getrennt/F11-01-PZ-bb-crop.png\"\n",
    "\n",
    "instruction = 'Gehe Schritt für Schritt vor: 1. Finde die Nutzungsschablonen in der vorliegenden Planzeichnung. 2. Gebe die Nutzungsschablone jeweils im JSON-Format aus.'\n",
    "\n",
    "messages = await ava.extractTextFromImages(instruction, [pz_bb_crop_path])\n",
    "pprint(messages)"
   ]
  },
  {
   "cell_type": "code",
   "execution_count": 8,
   "metadata": {},
   "outputs": [
    {
     "name": "stdout",
     "output_type": "stream",
     "text": [
      "Hier sind die Werte der jeweiligen Nutzungsschablonen im JSON-Format:\n",
      "\n",
      "```json\n",
      "[\n",
      "  {\n",
      "    \"Art der Nutzung\": \"GEE*\",\n",
      "    \"Gebäudehöhe\": \"max. 12,00\",\n",
      "    \"Grundflächenzahl\": \"0,6\",\n",
      "    \"Geschossflächenzahl\": \"1,2\",\n",
      "    \"Bauweise\": \"a\"\n",
      "  },\n",
      "  {\n",
      "    \"Art der Nutzung\": \"GEE\",\n",
      "    \"Gebäudehöhe\": \"max. 12,00\",\n",
      "    \"Grundflächenzahl\": \"0,6\",\n",
      "    \"Geschossflächenzahl\": \"1,2\",\n",
      "    \"Bauweise\": \"a\"\n",
      "  },\n",
      "  {\n",
      "    \"Art der Nutzung\": \"GE\",\n",
      "    \"Gebäudehöhe\": \"max. 12,00\",\n",
      "    \"Grundflächenzahl\": \"0,6\",\n",
      "    \"Geschossflächenzahl\": \"1,2\",\n",
      "    \"Bauweise\": \"a\"\n",
      "  },\n",
      "  {\n",
      "    \"Art der Nutzung\": \"GE\",\n",
      "    \"Gebäudehöhe\": \"max. 12,00\",\n",
      "    \"Grundflächenzahl\": \"0,6\",\n",
      "    \"Geschossflächenzahl\": \"1,2\",\n",
      "    \"Bauweise\": \"a\"\n",
      "  }\n",
      "]\n",
      "```\n"
     ]
    }
   ],
   "source": [
    "# Planzeichnung: Nutzungsschablone – VISUAL SEARCH + CROPPING\n",
    "image_url_prompts = []\n",
    "for index in range(4):\n",
    "    base64_nz, img_size = parser.imageToBase64(f'../data/processed/bpläne/2_zeichnung_textteil_getrennt/F11-01-PZ-nz{index+1}-crop.png')\n",
    "    image_url_prompts.append({\n",
    "        \"type\": \"image_url\",\n",
    "        \"image_url\": {\n",
    "            \"url\": f\"data:image/jpeg;base64,{base64_nz}\",\n",
    "            \"detail\": \"high\"\n",
    "        }\n",
    "    })\n",
    "\n",
    "message = ava.request([\n",
    "    {\n",
    "        \"type\": \"text\",\n",
    "        \"text\": 'Hier sind die vorkommenden Nutzungsschablonen der Planzeichnung:'\n",
    "    },\n",
    "    *image_url_prompts,\n",
    "    {\n",
    "        \"type\": \"text\",\n",
    "        \"text\": 'Gebe die Werte der jeweiligen Nutzungsschablonen strukturiert im JSON-Format aus: {<Parameter>:<Wert>}'\n",
    "    }\n",
    "])\n",
    "\n",
    "print(message)"
   ]
  }
 ],
 "metadata": {
  "kernelspec": {
   "display_name": "masterarbeit_stage_1",
   "language": "python",
   "name": "python3"
  },
  "language_info": {
   "codemirror_mode": {
    "name": "ipython",
    "version": 3
   },
   "file_extension": ".py",
   "mimetype": "text/x-python",
   "name": "python",
   "nbconvert_exporter": "python",
   "pygments_lexer": "ipython3",
   "version": "3.11.8"
  }
 },
 "nbformat": 4,
 "nbformat_minor": 2
}
