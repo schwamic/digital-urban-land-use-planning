{
 "cells": [
  {
   "cell_type": "markdown",
   "metadata": {},
   "source": [
    "# 2.1.2 Zeichenerklärung – OCR (GPT4o)\n",
    "\n",
    "* Zero-Shot\n",
    "* Chain-Of-Thought"
   ]
  },
  {
   "cell_type": "code",
   "execution_count": 1,
   "metadata": {},
   "outputs": [],
   "source": [
    "from utils.parser import Parser\n",
    "from utils.openai import OpenAI\n",
    "import asyncio\n",
    "\n",
    "instructions = \"Du bist ein Assistent zur getreuen Wiedergabe von Informationen aus einem Bebauungsplan. Achte auf Vollständigkeit.\"\n",
    "ava = OpenAI(instructions)\n",
    "parser = Parser()"
   ]
  },
  {
   "cell_type": "code",
   "execution_count": 2,
   "metadata": {},
   "outputs": [
    {
     "name": "stdout",
     "output_type": "stream",
     "text": [
      "image_size: [768, 1362]\n",
      "image_size: [768, 1949]\n",
      "#############################################\n",
      "1. **Finde den Eintrag \"Nutzungsschablone\" in der vorliegenden Zeichenerklärung:**\n",
      "\n",
      "   Der Eintrag \"Nutzungsschablone\" befindet sich in der Zeichenerklärung unter der Kategorie \"Art der Nutzung\".\n",
      "\n",
      "2. **Finde die zugehörige Tabellenerklärung zum Eintrag \"Nutzungsschablone\":**\n",
      "\n",
      "   Die Tabellenerklärung zum Eintrag \"Nutzungsschablone\" lautet:\n",
      "   ```\n",
      "   Nutzungsschablone\n",
      "   § 9 (1) 1 BauGB\n",
      "   ```\n",
      "\n",
      "3. **Gebe die Tabellenerklärung in ASCII-Tabellenform aus:**\n",
      "\n",
      "   Hier ist die Tabellenerklärung in ASCII-Tabellenform:\n",
      "\n",
      "   ```\n",
      "   +-------------------+----------------+\n",
      "   | Nutzungsschablone | § 9 (1) 1 BauGB |\n",
      "   +-------------------+----------------+\n",
      "   ```\n",
      "#############################################\n",
      "1. Der Eintrag \"Nutzungsschablone\" befindet sich in der Zeichenerklärung unter den \"Planungsrechtliche Festsetzungen\". Er ist mit dem Symbol eines Rechtecks mit einer gestrichelten Linie und einem Punkt in der Mitte dargestellt.\n",
      "\n",
      "2. Die zugehörige Tabellenerklärung zum Eintrag \"Nutzungsschablone\" befindet sich direkt rechts neben dem Symbol und lautet: \"Nutzungsschablone (§ 9 (1) 1 BauGB)\".\n",
      "\n",
      "3. Die Tabellenerklärung in ASCII-Tabellenform:\n",
      "\n",
      "```\n",
      "+-------------------+-----------------------------+\n",
      "| Nutzungsschablone | (§ 9 (1) 1 BauGB)           |\n",
      "+-------------------+-----------------------------+\n",
      "```\n"
     ]
    }
   ],
   "source": [
    "# Zeichenerklärung – Schema Nutzungsschablone WITHOUT BOUNDING BOX\n",
    "# SKIP: ze_raw_path = \"../data/processed/bpläne/2_zeichnung_textteil_getrennt/F11-01-ZE-raw.png\"\n",
    "ze_path = \"../data/processed/bpläne/2_zeichnung_textteil_getrennt/F11-01-ZE.png\"\n",
    "ze_crop_path = \"../data/processed/bpläne/2_zeichnung_textteil_getrennt/F11-01-ZE-crop.png\"\n",
    "\n",
    "async def run(ze_path):\n",
    "    base64_ze, img_size = parser.imageToBase64(ze_path)\n",
    "    print(\"image_size:\", img_size)\n",
    "    message = ava.request([\n",
    "        {\n",
    "            \"type\": \"text\",\n",
    "            \"text\": 'Gehe Schritt für Schritt vor: 1. Finde den Eintrag \"Nutzungsschablone\" in der vorliegenden Zeichenerklärung. 2. Finde die zugehörige Tabellenerklärung zum Eintrag \"Nutzungsschablone\". 3. Gebe die Tabellenerklärung in ASCII-Tabellenform aus.'\n",
    "        },\n",
    "        {\n",
    "            \"type\": \"image_url\",\n",
    "            \"image_url\": {\n",
    "                \"url\": f\"data:image/jpeg;base64,{base64_ze}\",\n",
    "                \"detail\": \"high\"\n",
    "            }\n",
    "        },\n",
    "    ])\n",
    "    return message\n",
    "\n",
    "messages = await asyncio.gather(run(ze_path), run(ze_crop_path))\n",
    "for message in messages:\n",
    "    print(\"#############################################\")\n",
    "    print(message)"
   ]
  },
  {
   "cell_type": "code",
   "execution_count": 3,
   "metadata": {},
   "outputs": [
    {
     "name": "stdout",
     "output_type": "stream",
     "text": [
      "image_size: [763, 2000]\n",
      "Hier ist die rot umrandete Tabellenerklärung in ASCII-Tabellenform:\n",
      "\n",
      "```\n",
      "+---------------------+------------------+\n",
      "| Art der Nutzung     | Gebäudehöhe      |\n",
      "+---------------------+------------------+\n",
      "| Grundflächenzahl    | Geschossflächen- |\n",
      "|                     | zahl             |\n",
      "+---------------------+------------------+\n",
      "| Bauweise            |                  |\n",
      "+---------------------+------------------+\n",
      "```\n"
     ]
    }
   ],
   "source": [
    "# Zeichenerklärung – Schema Nutzungsschablone WITH BOUNDING BOX\n",
    "ze_path = \"../data/processed/bpläne/2_zeichnung_textteil_getrennt/F11-01-ZE-bb-crop.png\"\n",
    "base64_ze, img_size = parser.imageToBase64(ze_path)\n",
    "print(\"image_size:\", img_size)\n",
    "\n",
    "msg4 = ava.request([\n",
    "    {\n",
    "        \"type\": \"text\",\n",
    "        \"text\": 'Gebe die rot umrandete Tabellenerklärung zum Eintrag Nutzungsschablone in ASCII-Tabellenform aus.'\n",
    "    },\n",
    "    {\n",
    "        \"type\": \"image_url\",\n",
    "        \"image_url\": {\n",
    "            \"url\": f\"data:image/jpeg;base64,{base64_ze}\",\n",
    "            \"detail\": \"high\"\n",
    "        }\n",
    "    },\n",
    "])\n",
    "\n",
    "print(msg4)"
   ]
  },
  {
   "cell_type": "code",
   "execution_count": 4,
   "metadata": {},
   "outputs": [
    {
     "name": "stdout",
     "output_type": "stream",
     "text": [
      "image_size: [768, 1949]\n",
      "Hier sind die relevanten Definitionen und Zeichen bezüglich der Parameter der ASCII-Nutzungsschablone aus der Zeichenerklärung im JSON-Format:\n",
      "\n",
      "```json\n",
      "{\n",
      "  \"Art der Nutzung\": {\n",
      "    \"Definition\": \"Gewerbegebiete (§ 8 BauNVO)\",\n",
      "    \"Zeichen\": \"GE\"\n",
      "  },\n",
      "  \"Art der Nutzung (eingeschränkt)\": {\n",
      "    \"Definition\": \"Gewerbegebiete eingeschränkt (§ 8 BauNVO)\",\n",
      "    \"Zeichen\": \"GEE\"\n",
      "  },\n",
      "  \"Gebäudehöhe\": {\n",
      "    \"Definition\": \"max. zulässige Gebäudehöhe über Erdgeschossfußbodenhöhe\",\n",
      "    \"Zeichen\": \"GH=max.12,00\"\n",
      "  },\n",
      "  \"Grundflächenzahl\": {\n",
      "    \"Definition\": \"Grundflächenzahl (GRZ) (§ 16 BauNVO)\",\n",
      "    \"Zeichen\": \"0,6\"\n",
      "  },\n",
      "  \"Geschossflächenzahl\": {\n",
      "    \"Definition\": \"Geschossflächenzahl (GFZ) (§ 16 BauNVO)\",\n",
      "    \"Zeichen\": \"1,2\"\n",
      "  },\n",
      "  \"Bauweise\": {\n",
      "    \"Definition\": \"Abweichende Bauweise (§ 22 BauNVO)\",\n",
      "    \"Zeichen\": \"a\"\n",
      "  },\n",
      "  \"Nutzungsschablone\": {\n",
      "    \"Definition\": \"Nutzungsschablone (§ 9 (1) 1 BauGB)\",\n",
      "    \"Zeichen\": \"-\"\n",
      "  }\n",
      "}\n",
      "```\n"
     ]
    }
   ],
   "source": [
    "# Zeichenerklärung – Komplette Definition Nutzungsschablone\n",
    "ze_path = \"../data/processed/bpläne/2_zeichnung_textteil_getrennt/F11-01-ZE-crop.png\"\n",
    "base64_ze, img_size = parser.imageToBase64(ze_path)\n",
    "print(\"image_size:\", img_size)\n",
    "\n",
    "ava.addContext([\n",
    "    {\n",
    "        \"type\": \"text\",\n",
    "        \"text\": msg4\n",
    "    }\n",
    "])\n",
    "\n",
    "msg5 = ava.request([\n",
    "    {\n",
    "        \"type\": \"image_url\",\n",
    "        \"image_url\": {\n",
    "            \"url\": f\"data:image/jpeg;base64,{base64_ze}\",\n",
    "            \"detail\": \"high\"\n",
    "        }\n",
    "    },\n",
    "        {\n",
    "        \"type\": \"text\",\n",
    "        \"text\": 'Fasse alle relevanten Definitionen und Zeichen bezüglich der Parameter der ASCII-Nutzungsschablone aus der Zeichenerklärung zusammen. Ausgabe im JSON-Format: {<Parameter>: {\"Definition\": \"\", \"Zeichen\"=\"\"}}'\n",
    "    }\n",
    "])\n",
    "\n",
    "print(msg5)\n",
    "ava.clearContext()"
   ]
  },
  {
   "cell_type": "code",
   "execution_count": 7,
   "metadata": {},
   "outputs": [
    {
     "name": "stdout",
     "output_type": "stream",
     "text": [
      "image_size: [768, 1949]\n",
      "Hier sind die extrahierten Informationen zu den angeforderten Themen aus der Planzeichnung:\n",
      "\n",
      "### Art der baulichen Nutzung\n",
      "- **Gewerbegebiete (GE)** (§ 8 BauNVO)\n",
      "- **Gewerbegebiete eingeschränkt (GEE)** (§ 8 BauNVO)\n",
      "\n",
      "### Maß der baulichen Nutzung\n",
      "- **Gebäudehöhe (GH)**: max. 12,00 m\n",
      "- **Grundflächenzahl (GRZ)** (§ 16 BauNVO): 0,6\n",
      "- **Geschossflächenzahl (GFZ)** (§ 16 BauNVO): 1,2\n",
      "\n",
      "### Bauweise\n",
      "- **Abweichende Bauweise** (§ 22 BauNVO)\n",
      "\n",
      "### Überbaubare Grundstücksfläche\n",
      "- **Baugrenze** (§ 23 (3) BauNVO)\n",
      "- **Umgrenzung der Flächen, die von der Bebauung freizuhalten sind** (§ 9 (1) 10 BauGB)\n",
      "\n",
      "Diese Informationen geben einen Überblick über die planungsrechtlichen Festsetzungen bezüglich der baulichen Nutzung, des Maßes der baulichen Nutzung, der Bauweise und der überbaubaren Grundstücksfläche.\n"
     ]
    }
   ],
   "source": [
    "# Zeichenerklärung – Inhalt zu den Hauptkategorien\n",
    "ze_path = \"../data/processed/bpläne/2_zeichnung_textteil_getrennt/F11-01-ZE-crop.png\"\n",
    "base64_ze, img_size = parser.imageToBase64(ze_path)\n",
    "print(\"image_size:\", img_size)\n",
    "\n",
    "msg6 = ava.request([\n",
    "    {\n",
    "        \"type\": \"image_url\",\n",
    "        \"image_url\": {\n",
    "            \"url\": f\"data:image/jpeg;base64,{base64_ze}\",\n",
    "            \"detail\": \"high\"\n",
    "        }\n",
    "    },\n",
    "    {\n",
    "        \"type\": \"text\",\n",
    "        \"text\": 'Extrahiere alle Informationen zu den folgenden Themen: Art der baulichen Nutzung, Maß der baulichen Nutzung, Bauweise, überbaubare Grundstücksfläche.'\n",
    "    },\n",
    "])\n",
    "\n",
    "print(msg6)"
   ]
  },
  {
   "cell_type": "code",
   "execution_count": null,
   "metadata": {},
   "outputs": [],
   "source": [
    "# Zeichenerklärung – Inhalt zu den Hauptkategorien – WITH CONTEXT\n",
    "# Kontext: Schema, BauNVO"
   ]
  }
 ],
 "metadata": {
  "kernelspec": {
   "display_name": "masterarbeit_stage_1",
   "language": "python",
   "name": "python3"
  },
  "language_info": {
   "codemirror_mode": {
    "name": "ipython",
    "version": 3
   },
   "file_extension": ".py",
   "mimetype": "text/x-python",
   "name": "python",
   "nbconvert_exporter": "python",
   "pygments_lexer": "ipython3",
   "version": "3.1.undefined"
  }
 },
 "nbformat": 4,
 "nbformat_minor": 2
}
