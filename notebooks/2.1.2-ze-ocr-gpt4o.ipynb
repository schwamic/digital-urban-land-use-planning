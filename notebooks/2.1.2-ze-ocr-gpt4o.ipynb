{
 "cells": [
  {
   "cell_type": "markdown",
   "metadata": {},
   "source": [
    "# 2.1.2 Zeichenerklärung – OCR (GPT4o)\n",
    "\n",
    "* Zero-Shot\n",
    "* Chain-Of-Thought"
   ]
  },
  {
   "cell_type": "code",
   "execution_count": 2,
   "metadata": {},
   "outputs": [],
   "source": [
    "from utils.parser import Parser\n",
    "from utils.openai import OpenAI\n",
    "\n",
    "instructions = \"Du bist ein Assistent um Textinformationen aus einer Planzeichnung eines Bebauungsplans zu extrahieren.\"\n",
    "ava = OpenAI(instructions)\n",
    "parser = Parser()"
   ]
  },
  {
   "cell_type": "code",
   "execution_count": 2,
   "metadata": {},
   "outputs": [
    {
     "name": "stdout",
     "output_type": "stream",
     "text": [
      "[4625, 8208]\n",
      "1. **Finde den Eintrag \"Nutzungsschablone\" in der vorliegenden Zeichenerklärung:**\n",
      "\n",
      "Der Eintrag \"Nutzungsschablone\" befindet sich in der Zeichenerklärung unter der Überschrift \"Planungsrechtliche Festsetzungen\".\n",
      "\n",
      "2. **Finde die zugehörige Tabellenerklärung zum Eintrag \"Nutzungsschablone\":**\n",
      "\n",
      "Die Tabellenerklärung zum Eintrag \"Nutzungsschablone\" ist direkt unter dem Eintrag zu finden. Sie enthält die Symbole und deren Bedeutungen.\n",
      "\n",
      "3. **Gebe die Tabellenerklärung in ASCII-Tabellenform aus:**\n",
      "\n",
      "Hier ist die Tabellenerklärung in ASCII-Tabellenform:\n",
      "\n",
      "```\n",
      "+-------------------+------------------------------------------+\n",
      "| Symbol            | Bedeutung                                |\n",
      "+-------------------+------------------------------------------+\n",
      "| G                 | Gewerbegebiete (§ 8 BauNVO)              |\n",
      "| GE                | Gewerbegebiete eingeschränkt (§ 8 BauNVO)|\n",
      "+-------------------+------------------------------------------+\n",
      "```\n",
      "\n",
      "Diese Tabelle zeigt die Symbole und deren Bedeutungen für die Nutzungsschablone.\n"
     ]
    }
   ],
   "source": [
    "# Zeichenerklärung (FULL_SIZE, RAW)\n",
    "ze_path = \"../data/processed/bpläne/2_zeichnung_textteil_getrennt/F11-01-ZE-raw.png\"\n",
    "base64_ze, img_size = parser.imageToBase64(ze_path)\n",
    "print(\"image_size:\", img_size)\n",
    "\n",
    "msg1 = ava.request([\n",
    "    {\n",
    "        \"type\": \"text\",\n",
    "        \"text\": 'Gehe Schritt für Schritt vor: 1. Finde den Eintrag \"Nutzungsschablone\" in der vorliegenden Zeichenerklärung. 2. Finde die zugehörige Tabellenerklärung zum Eintrag \"Nutzungsschablone\". 3. Gebe die Tabellenerklärung in ASCII-Tabellenform aus.'\n",
    "    },\n",
    "    {\n",
    "        \"type\": \"image_url\",\n",
    "        \"image_url\": {\n",
    "            \"url\": f\"data:image/jpeg;base64,{base64_ze}\",\n",
    "            \"detail\": \"high\"\n",
    "        }\n",
    "    },\n",
    "])\n",
    "\n",
    "print(msg1)"
   ]
  },
  {
   "cell_type": "code",
   "execution_count": 3,
   "metadata": {},
   "outputs": [
    {
     "name": "stdout",
     "output_type": "stream",
     "text": [
      "image_size: [768, 1362]\n",
      "1. **Finde den Eintrag \"Nutzungsschablone\" in der vorliegenden Zeichenerklärung:**\n",
      "\n",
      "Der Eintrag \"Nutzungsschablone\" befindet sich in der Zeichenerklärung unter der Kategorie \"Art der Nutzung\".\n",
      "\n",
      "2. **Finde die zugehörige Tabellenerklärung zum Eintrag \"Nutzungsschablone\":**\n",
      "\n",
      "Die Tabellenerklärung zum Eintrag \"Nutzungsschablone\" ist direkt unter dem Eintrag zu finden und lautet:\n",
      "- Nutzungsschablone (§ 9 (1) 1 BauGB)\n",
      "\n",
      "3. **Gebe die Tabellenerklärung in ASCII-Tabellenform aus:**\n",
      "\n",
      "```plaintext\n",
      "+-------------------+-----------------------------+\n",
      "| Nutzungsschablone | (§ 9 (1) 1 BauGB)           |\n",
      "+-------------------+-----------------------------+\n",
      "```\n",
      "\n",
      "Dies ist die ASCII-Tabellenform der Tabellenerklärung für den Eintrag \"Nutzungsschablone\".\n"
     ]
    }
   ],
   "source": [
    "# Zeichenerklärung (SCALED)\n",
    "ze_path = \"../data/processed/bpläne/2_zeichnung_textteil_getrennt/F11-01-ZE.png\"\n",
    "base64_ze, img_size = parser.imageToBase64(ze_path)\n",
    "print(\"image_size:\", img_size)\n",
    "\n",
    "msg2 = ava.request([\n",
    "    {\n",
    "        \"type\": \"text\",\n",
    "        \"text\": 'Gehe Schritt für Schritt vor: 1. Finde den Eintrag \"Nutzungsschablone\" in der vorliegenden Zeichenerklärung. 2. Finde die zugehörige Tabellenerklärung zum Eintrag \"Nutzungsschablone\". 3. Gebe die Tabellenerklärung in ASCII-Tabellenform aus.'\n",
    "    },\n",
    "    {\n",
    "        \"type\": \"image_url\",\n",
    "        \"image_url\": {\n",
    "            \"url\": f\"data:image/jpeg;base64,{base64_ze}\",\n",
    "            \"detail\": \"high\"\n",
    "        }\n",
    "    },\n",
    "])\n",
    "\n",
    "print(msg2)"
   ]
  },
  {
   "cell_type": "code",
   "execution_count": 4,
   "metadata": {},
   "outputs": [
    {
     "name": "stdout",
     "output_type": "stream",
     "text": [
      "image_size: [768, 1949]\n",
      "1. Der Eintrag \"Nutzungsschablone\" befindet sich in der Zeichenerklärung unter \"Art der Nutzung\" und \"Gebäudehöhe\".\n",
      "\n",
      "2. Die zugehörige Tabellenerklärung zum Eintrag \"Nutzungsschablone\" ist in der Tabelle direkt darunter zu finden.\n",
      "\n",
      "3. Die Tabellenerklärung in ASCII-Tabellenform:\n",
      "\n",
      "```\n",
      "+----------------+----------------+\n",
      "| Art der Nutzung| Gebäudehöhe    |\n",
      "+----------------+----------------+\n",
      "| Grundflächenzahl| Geschossflächen-|\n",
      "|                | zahl           |\n",
      "+----------------+----------------+\n",
      "| Bauweise       | Nutzungsschablone|\n",
      "|                | (§ 9 (1) 1 BauGB)|\n",
      "+----------------+----------------+\n",
      "```\n",
      "\n",
      "Diese Tabelle zeigt die verschiedenen Kategorien und deren zugehörige Werte, einschließlich der Nutzungsschablone gemäß § 9 (1) 1 BauGB.\n"
     ]
    }
   ],
   "source": [
    "# Zeichenerklärung (SCALED, CROPPED)\n",
    "ze_path = \"../data/processed/bpläne/2_zeichnung_textteil_getrennt/F11-01-ZE-crop.png\"\n",
    "base64_ze, img_size = parser.imageToBase64(ze_path)\n",
    "print(\"image_size:\", img_size)\n",
    "\n",
    "msg3 = ava.request([\n",
    "    {\n",
    "        \"type\": \"text\",\n",
    "        \"text\": 'Gehe Schritt für Schritt vor: 1. Finde den Eintrag \"Nutzungsschablone\" in der vorliegenden Zeichenerklärung. 2. Finde die zugehörige Tabellenerklärung zum Eintrag \"Nutzungsschablone\". 3. Gebe die Tabellenerklärung in ASCII-Tabellenform aus.'\n",
    "    },\n",
    "    {\n",
    "        \"type\": \"image_url\",\n",
    "        \"image_url\": {\n",
    "            \"url\": f\"data:image/jpeg;base64,{base64_ze}\",\n",
    "            \"detail\": \"high\"\n",
    "        }\n",
    "    },\n",
    "])\n",
    "\n",
    "print(msg3)"
   ]
  },
  {
   "cell_type": "code",
   "execution_count": 3,
   "metadata": {},
   "outputs": [
    {
     "name": "stdout",
     "output_type": "stream",
     "text": [
      "image_size: [763, 2000]\n",
      "Hier ist die rot umrandete Tabellenerklärung zum Eintrag Nutzungsschablone in ASCII-Tabellenform:\n",
      "\n",
      "```\n",
      "+---------------------+------------------+\n",
      "| Art der Nutzung     | Gebäudehöhe      |\n",
      "+---------------------+------------------+\n",
      "| Grundflächenzahl    | Geschossflächen- |\n",
      "|                     | zahl             |\n",
      "+---------------------+------------------+\n",
      "| Bauweise            |                  |\n",
      "+---------------------+------------------+\n",
      "```\n"
     ]
    }
   ],
   "source": [
    "# Zeichenerklärung (BOUNDING BOX, CROPPED)\n",
    "ze_path = \"../data/processed/bpläne/2_zeichnung_textteil_getrennt/F11-01-ZE-bb-crop.png\"\n",
    "base64_ze, img_size = parser.imageToBase64(ze_path)\n",
    "print(\"image_size:\", img_size)\n",
    "\n",
    "msg4 = ava.request([\n",
    "    {\n",
    "        \"type\": \"text\",\n",
    "        \"text\": 'Gebe die rot umrandete Tabellenerklärung zum Eintrag Nutzungsschablone in ASCII-Tabellenform aus.'\n",
    "    },\n",
    "    {\n",
    "        \"type\": \"image_url\",\n",
    "        \"image_url\": {\n",
    "            \"url\": f\"data:image/jpeg;base64,{base64_ze}\",\n",
    "            \"detail\": \"high\"\n",
    "        }\n",
    "    },\n",
    "])\n",
    "\n",
    "print(msg4)"
   ]
  },
  {
   "cell_type": "code",
   "execution_count": 9,
   "metadata": {},
   "outputs": [
    {
     "name": "stdout",
     "output_type": "stream",
     "text": [
      "image_size: [768, 1949]\n",
      "Hier sind die relevanten Definitionen und Zeichen bezüglich der Parameter der ASCII-Nutzungsschablone im JSON-Format:\n",
      "\n",
      "```json\n",
      "{\n",
      "  \"Art der Nutzung\": {\n",
      "    \"Definition\": \"Gewerbegebiete (§ 8 BauNVO) oder Gewerbegebiete eingeschränkt (§ 8 BauNVO)\",\n",
      "    \"Beispiel\": \"GE, GEE\"\n",
      "  },\n",
      "  \"Gebäudehöhe\": {\n",
      "    \"Definition\": \"Maximal zulässige Gebäudehöhe über Erdgeschossfußbodenhöhe\",\n",
      "    \"Beispiel\": \"GH=max.12,00\"\n",
      "  },\n",
      "  \"Grundflächenzahl\": {\n",
      "    \"Definition\": \"Grundflächenzahl (GRZ) gemäß § 16 BauNVO\",\n",
      "    \"Beispiel\": \"0,6\"\n",
      "  },\n",
      "  \"Geschossflächenzahl\": {\n",
      "    \"Definition\": \"Geschossflächenzahl (GFZ) gemäß § 16 BauNVO\",\n",
      "    \"Beispiel\": \"1,2\"\n",
      "  },\n",
      "  \"Bauweise\": {\n",
      "    \"Definition\": \"Abweichende Bauweise gemäß § 22 BauNVO\",\n",
      "    \"Beispiel\": \"a\"\n",
      "  }\n",
      "}\n",
      "```\n"
     ]
    }
   ],
   "source": [
    "# Zeichenerklärung (SCALED, CROPPED)\n",
    "ze_path = \"../data/processed/bpläne/2_zeichnung_textteil_getrennt/F11-01-ZE-crop.png\"\n",
    "base64_ze, img_size = parser.imageToBase64(ze_path)\n",
    "print(\"image_size:\", img_size)\n",
    "\n",
    "ava.addContext([\n",
    "    {\n",
    "        \"type\": \"text\",\n",
    "        \"text\": msg4\n",
    "    }\n",
    "])\n",
    "\n",
    "msg5 = ava.request([\n",
    "    {\n",
    "        \"type\": \"text\",\n",
    "        \"text\": 'Fasse alle relevanten Definitionen und Zeichen bezüglich der Parameter der ASCII-Nutzungsschablone aus der Zeichenerklärung zusammen. Ausgabe im JSON-Format: {<Parameter>: {\"Definition\": \"\", \"Beispiel\"=\"\"}}'\n",
    "    },\n",
    "    {\n",
    "        \"type\": \"image_url\",\n",
    "        \"image_url\": {\n",
    "            \"url\": f\"data:image/jpeg;base64,{base64_ze}\",\n",
    "            \"detail\": \"high\"\n",
    "        }\n",
    "    },\n",
    "])\n",
    "\n",
    "print(msg5)\n",
    "ava.clearContext()"
   ]
  }
 ],
 "metadata": {
  "kernelspec": {
   "display_name": "masterarbeit_stage_1",
   "language": "python",
   "name": "python3"
  },
  "language_info": {
   "codemirror_mode": {
    "name": "ipython",
    "version": 3
   },
   "file_extension": ".py",
   "mimetype": "text/x-python",
   "name": "python",
   "nbconvert_exporter": "python",
   "pygments_lexer": "ipython3",
   "version": "3.11.8"
  }
 },
 "nbformat": 4,
 "nbformat_minor": 2
}
