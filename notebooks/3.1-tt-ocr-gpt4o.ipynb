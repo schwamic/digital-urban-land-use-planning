{
 "cells": [
  {
   "cell_type": "markdown",
   "metadata": {},
   "source": [
    "# 3.1 Textlicher Teil Bebauungsplan – OCR (GPT-4o)\n",
    "\n",
    "* Zero-Shot\n",
    "* Chain-Of-Thought\n",
    "* [LangChain Document Loader](https://python.langchain.com/v0.2/docs/how_to/document_loader_pdf/)"
   ]
  },
  {
   "cell_type": "code",
   "execution_count": 1,
   "metadata": {},
   "outputs": [],
   "source": [
    "from langchain_community.document_loaders import PyMuPDFLoader\n",
    "from langchain_community.vectorstores import FAISS\n",
    "from langchain_openai import OpenAIEmbeddings\n",
    "\n",
    "from dotenv import load_dotenv, find_dotenv\n",
    "import os\n",
    "\n",
    "from langchain_openai import ChatOpenAI\n",
    "from langchain.schema.messages import AIMessage, HumanMessage\n",
    "\n",
    "load_dotenv(find_dotenv())\n",
    "\n",
    "model = ChatOpenAI(\n",
    "    openai_api_key=os.getenv(\"OPENAI_API_KEY\"),\n",
    "    model_name=\"gpt-4o\",\n",
    "    model_kwargs={\"top_p\": 0, \"seed\": 42},\n",
    "    temperature=0,\n",
    ")"
   ]
  },
  {
   "cell_type": "code",
   "execution_count": 3,
   "metadata": {},
   "outputs": [
    {
     "data": {
      "text/plain": [
       "Document(page_content='19.06.2000\\nOviS\\nG\\n9833\\nSCHRIFTLICHER TEIL (Teil B)\\nBEBAUUNGSPLAN \"GEWERBEGEBIET HIMMELREICH\"\\nStadt LaIChInGen, GemarKUNG FeldSTeTfen, AlB-DoNaU-KreiS\\nLageplan M 1: 500\\nFur die planungsrechtlichen bzw. bauordnungsrechtlichen Festsetzungen gelten:\\nBaugesetzbuch (BauGB)\\nin der Fassung der Bekanntmachung vom 27.08.1997 (BGBl. I. S. 2141).\\nBaunutzungsverordnung (BauNvo)\\n g   5        \\nam 22.04.1993 (BGBl. 1. S. 466).\\nPianzeichenverordnung 1990 (PlanzV 90)\\nin der Fassung der Bekanntmachung vom 18.12.1990 (BGBl. I. S. 58).\\nLandesbauordnung (LBO)\\nin der Fassung der Bekanntmachung vom 08.08.1995 (GB1. S. 617).\\nBisherige Festsetzungen:\\nMit in Kraft treten dieses Bebauungsplanes treten im Geltungsbereich alle bisherigen\\ngemeindlichen bauplanungsrechtlichen und bauordnungsrechtichen Festsetzungen auBer Kraft.', metadata={'source': '../data/raw/bpläne/2_zeichnung_textteil_getrennt/F 11- 02 Gewerbegebiet Himmelreich - schriftlicher Teil.pdf', 'file_path': '../data/raw/bpläne/2_zeichnung_textteil_getrennt/F 11- 02 Gewerbegebiet Himmelreich - schriftlicher Teil.pdf', 'page': 0, 'total_pages': 10, 'format': 'PDF 1.3', 'title': '', 'author': '', 'subject': '', 'keywords': '', 'creator': '', 'producer': '', 'creationDate': \"D:20101028132301+02'00'\", 'modDate': \"D:20240203122236+01'00'\", 'trapped': ''})"
      ]
     },
     "execution_count": 3,
     "metadata": {},
     "output_type": "execute_result"
    }
   ],
   "source": [
    "# A) OCR is done via RapidOCR!\n",
    "# Idea: Text via OpenAIEmbeddings to VectorStore => RAG\n",
    "pdf_path = \"../data/raw/bpläne/2_zeichnung_textteil_getrennt/F 11- 02 Gewerbegebiet Himmelreich - schriftlicher Teil.pdf\"\n",
    "loader = PyMuPDFLoader(pdf_path, extract_images=True)\n",
    "data = loader.load()\n",
    "data[0]"
   ]
  },
  {
   "cell_type": "code",
   "execution_count": null,
   "metadata": {},
   "outputs": [],
   "source": [
    "# B) OCR via GPT-4o only!\n",
    "# 1. Save each page as base64_image\n",
    "# 2. QA directly in the chat (e.g. summarization, extraction, etc.)"
   ]
  }
 ],
 "metadata": {
  "kernelspec": {
   "display_name": "masterarbeit_stage_1",
   "language": "python",
   "name": "python3"
  },
  "language_info": {
   "codemirror_mode": {
    "name": "ipython",
    "version": 3
   },
   "file_extension": ".py",
   "mimetype": "text/x-python",
   "name": "python",
   "nbconvert_exporter": "python",
   "pygments_lexer": "ipython3",
   "version": "3.11.8"
  }
 },
 "nbformat": 4,
 "nbformat_minor": 2
}
