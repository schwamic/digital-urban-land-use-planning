{
 "cells": [
  {
   "cell_type": "markdown",
   "metadata": {},
   "source": [
    "# 3.1 Textlicher Teil Bebauungsplan – OCR (GPT-4o)\n",
    "\n",
    "* Zero-Shot\n",
    "* Chain-Of-Thought\n",
    "* [LangChain Document Loader](https://python.langchain.com/v0.2/docs/how_to/document_loader_pdf/)"
   ]
  },
  {
   "cell_type": "code",
   "execution_count": 1,
   "metadata": {},
   "outputs": [],
   "source": [
    "import asyncio\n",
    "import os\n",
    "\n",
    "from utils.pdf2base64 import pdf2base64\n",
    "from dotenv import load_dotenv, find_dotenv\n",
    "\n",
    "from langchain_openai import ChatOpenAI\n",
    "from langchain.schema.messages import AIMessage, HumanMessage\n",
    "from langchain_community.document_loaders import PyMuPDFLoader\n",
    "from langchain_community.vectorstores import FAISS\n",
    "from langchain_openai import OpenAIEmbeddings\n",
    "\n",
    "load_dotenv(find_dotenv())\n",
    "\n",
    "model = ChatOpenAI(\n",
    "    openai_api_key=os.getenv(\"OPENAI_API_KEY\"),\n",
    "    model_name=\"gpt-4o\",\n",
    "    model_kwargs={\"top_p\": 0, \"seed\": 42},\n",
    "    temperature=0,\n",
    ")"
   ]
  },
  {
   "cell_type": "code",
   "execution_count": 77,
   "metadata": {},
   "outputs": [
    {
     "data": {
      "text/plain": [
       "Document(page_content='19.06.2000\\nOviS\\nG\\n9833\\nSCHRIFTLICHER TEIL (Teil B)\\nBEBAUUNGSPLAN \"GEWERBEGEBIET HIMMELREICH\"\\nStadt LaIChInGen, GemarKUNG FeldSTeTfen, AlB-DoNaU-KreiS\\nLageplan M 1: 500\\nFur die planungsrechtlichen bzw. bauordnungsrechtlichen Festsetzungen gelten:\\nBaugesetzbuch (BauGB)\\nin der Fassung der Bekanntmachung vom 27.08.1997 (BGBl. I. S. 2141).\\nBaunutzungsverordnung (BauNvo)\\n g   5        \\nam 22.04.1993 (BGBl. 1. S. 466).\\nPianzeichenverordnung 1990 (PlanzV 90)\\nin der Fassung der Bekanntmachung vom 18.12.1990 (BGBl. I. S. 58).\\nLandesbauordnung (LBO)\\nin der Fassung der Bekanntmachung vom 08.08.1995 (GB1. S. 617).\\nBisherige Festsetzungen:\\nMit in Kraft treten dieses Bebauungsplanes treten im Geltungsbereich alle bisherigen\\ngemeindlichen bauplanungsrechtlichen und bauordnungsrechtichen Festsetzungen auBer Kraft.', metadata={'source': '../data/raw/bpläne/2_zeichnung_textteil_getrennt/F 11- 02 Gewerbegebiet Himmelreich - schriftlicher Teil.pdf', 'file_path': '../data/raw/bpläne/2_zeichnung_textteil_getrennt/F 11- 02 Gewerbegebiet Himmelreich - schriftlicher Teil.pdf', 'page': 0, 'total_pages': 10, 'format': 'PDF 1.3', 'title': '', 'author': '', 'subject': '', 'keywords': '', 'creator': '', 'producer': '', 'creationDate': \"D:20101028132301+02'00'\", 'modDate': \"D:20240203122236+01'00'\", 'trapped': ''})"
      ]
     },
     "execution_count": 77,
     "metadata": {},
     "output_type": "execute_result"
    }
   ],
   "source": [
    "# A) OCR is done via RapidOCR --> CNN/RNN != Transformer --> Emebddings + VectorStore\n",
    "pdf_path = \"../data/raw/bpläne/2_zeichnung_textteil_getrennt/F 11- 02 Gewerbegebiet Himmelreich - schriftlicher Teil.pdf\"\n",
    "loader = PyMuPDFLoader(pdf_path, extract_images=True)\n",
    "data = loader.load()\n",
    "data[0]"
   ]
  },
  {
   "cell_type": "code",
   "execution_count": 8,
   "metadata": {},
   "outputs": [],
   "source": [
    "# B) OCR via GPT-4o --> Emebddings + VectorStore\n",
    "pdf_path = \"../data/raw/bpläne/2_zeichnung_textteil_getrennt/F 11- 02 Gewerbegebiet Himmelreich - schriftlicher Teil.pdf\"\n",
    "\n",
    "def pdf2prompts(pdf_path):\n",
    "    prompts = []\n",
    "    while True:\n",
    "        try:\n",
    "            page_number = len(prompts)\n",
    "            base64_page=pdf2base64(pdf_path, page_number)\n",
    "            image_url_prompt = {\"type\": \"image_url\",\"image_url\": {\"url\": f\"data:image/jpeg;base64,{base64_page[0]}\",\"detail\": \"high\"}}\n",
    "            prompts.append(image_url_prompt)\n",
    "        except Exception:\n",
    "            break\n",
    "    return prompts\n",
    "\n",
    "async def page2text(page_prompt):\n",
    "    msg = model.invoke([\n",
    "        AIMessage(\n",
    "            content=[\n",
    "                {\n",
    "                    \"type\": \"text\",\n",
    "                    \"text\": \"Du bist ein Assistent um Textinformationen aus dem schriftlichen Teil eines Bebauungsplans zu extrahieren.\"\n",
    "                },\n",
    "            ]\n",
    "        ),\n",
    "        HumanMessage(\n",
    "            content=[\n",
    "            {\n",
    "                \"type\": \"text\",\n",
    "                \"text\": 'Extrahiere den kompletten Textinhalt. Ausgabe im XML-Format'\n",
    "            },\n",
    "            page_prompt\n",
    "            ]\n",
    "        ),\n",
    "    ])\n",
    "    return msg.content\n",
    "\n",
    "prompts = pdf2prompts(pdf_path)\n",
    "data_loaders = list(map(lambda prompt: page2text(prompt), prompts))\n",
    "data = await asyncio.gather(*data_loaders)\n",
    "print(data[0])"
   ]
  },
  {
   "cell_type": "code",
   "execution_count": 22,
   "metadata": {},
   "outputs": [
    {
     "name": "stdout",
     "output_type": "stream",
     "text": [
      "Hier sind die relevanten Informationen aus dem Bebauungsplan \"Gewerbegebiet Himmelreich\" zusammengefasst:\n",
      "\n",
      "### Art der baulichen Nutzung\n",
      "- **Eingeschränktes Gewerbegebiet (GEE)** gemäß § 8 BauNVO i.V.m. § 1 (4) BauNVO:\n",
      "  - Zulässig sind Gewerbebetriebe, die das Wohnen nicht wesentlich stören, einschließlich Einzelhandelsbetriebe mit bestimmten Sortimentsbeschränkungen (z.B. Kfz, Motorräder, Fahrräder, Brennstoffe).\n",
      "  - Nicht zulässig sind Vergnügungsstätten und Einzelhandelsbetriebe mit nicht innenstadtrelevanten Sortimenten.\n",
      "- **Gewerbegebiet (GE)** gemäß § 8 BauNVO:\n",
      "  - Zulässig sind Gewerbebetriebe aller Art, einschließlich Einzelhandelsbetriebe mit bestimmten Sortimentsbeschränkungen.\n",
      "  - Nicht zulässig sind Vergnügungsstätten und Einzelhandelsbetriebe mit nicht innenstadtrelevanten Sortimenten.\n",
      "\n",
      "### Maß der baulichen Nutzung\n",
      "- **Grundflächenzahl (GRZ)** gemäß § 19 BauNVO: Siehe Einträge im Lageplan.\n",
      "- **Geschossflächenzahl (GFZ)** gemäß § 20 BauNVO: Siehe Einträge im Lageplan.\n",
      "- **Höhe der baulichen Anlagen** gemäß § 18 BauNVO: Siehe Einträge im Lageplan. Die Gebäudehöhe wird gemessen von der Erdgeschossfußbodenhöhe (EFH) bis zur Schnittkante zwischen Außenwand und Dachhaut bzw. bis zur Oberkante Firstziegel.\n",
      "\n",
      "### Bauweise\n",
      "- **Abweichende Bauweise** gemäß § 22 BauNVO: Es gilt die offene Bauweise, jedoch sind die Gebäudelängen nicht begrenzt.\n",
      "\n",
      "### Dachform und Dachneigung\n",
      "- **Dachdeckung** gemäß § 74 (1) 1 LBO: Die Dachflächen sind mit roten bis rotbraunen, nicht glänzenden Materialien einzudecken.\n",
      "\n",
      "Diese Informationen geben einen Überblick über die wesentlichen baulichen Festsetzungen im Bebauungsplan \"Gewerbegebiet Himmelreich\".\n"
     ]
    }
   ],
   "source": [
    "# B) QA directly in the chat (e.g. summarization, extraction, etc.)\n",
    "pdf_prompts = pdf2prompts(pdf_path)\n",
    "msg = model.invoke([\n",
    "        AIMessage(\n",
    "            content=[\n",
    "                {\n",
    "                    \"type\": \"text\",\n",
    "                    \"text\": \"Du bist ein Assistent um Informationen aus einem Bebauungsplan zu extrahieren.\"\n",
    "                },\n",
    "            ]\n",
    "        ),\n",
    "        HumanMessage(\n",
    "            content=[\n",
    "                {\n",
    "                    \"type\": \"text\",\n",
    "                    \"text\": 'Fasse relevante Informationen zu den folgenden Themen zusammen: Art der baulichen Nutzung, Maß der baulichen Nutzung, Bauweise, Dachform und Dachneigung.'\n",
    "                },\n",
    "                *pdf_prompts,\n",
    "            ]\n",
    "        ),\n",
    "    ])\n",
    "print(msg.content)"
   ]
  },
  {
   "cell_type": "code",
   "execution_count": null,
   "metadata": {},
   "outputs": [],
   "source": []
  }
 ],
 "metadata": {
  "kernelspec": {
   "display_name": "masterarbeit_stage_1",
   "language": "python",
   "name": "python3"
  },
  "language_info": {
   "codemirror_mode": {
    "name": "ipython",
    "version": 3
   },
   "file_extension": ".py",
   "mimetype": "text/x-python",
   "name": "python",
   "nbconvert_exporter": "python",
   "pygments_lexer": "ipython3",
   "version": "3.11.8"
  }
 },
 "nbformat": 4,
 "nbformat_minor": 2
}
