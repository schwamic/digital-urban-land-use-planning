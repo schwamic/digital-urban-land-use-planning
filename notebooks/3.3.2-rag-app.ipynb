{
 "cells": [
  {
   "cell_type": "markdown",
   "metadata": {},
   "source": [
    "# 3.3.2 Simple RAG App (Beispiel L04-01-Grübler)\n",
    "\n",
    "Alle erarbeiteten Ergebnisse aus Kapitel 2 und 3 sind mögliche Vorverarbeitungsschritte. Diese Informationen können z.B. via QA-Prompts zugänglich gemacht werden.\n",
    "\n",
    "* Bebauungsplan\n",
    "* BauNVO"
   ]
  },
  {
   "cell_type": "code",
   "execution_count": null,
   "metadata": {},
   "outputs": [],
   "source": [
    "# * GPT-4o ist in der Lage Informationen zu extrahieren (Zero-Shot)\n",
    "# * ZIEL: Wie Daten miteinander vorverarbeiten + verbinden, sodass QA bzgl. Bebauungsplan funktioniert.\n",
    "\n",
    "# 1. OCR-Agent (Pre-Processing-Pipeline)\n",
    "# e.g. 'Du bist ein OCR-Programm, was alle textlichen Informationen aus einem Bild extrahiert'\n",
    "\n",
    "# 2. QA-Agent (Chat-Bot)\n",
    "# e.g. 'Du bist ein Chat-Bot, der mithilfe der gegebenen Informationen, Fragen beantwortet. Helfen die gegeben Informationen nicht um eine Antwort zu formulieren, antworte mit \"Das ist mir nicht bekannt\"'\n"
   ]
  }
 ],
 "metadata": {
  "kernelspec": {
   "display_name": "masterarbeit_stage_1",
   "language": "python",
   "name": "python3"
  },
  "language_info": {
   "name": "python",
   "version": "3.1.-1"
  }
 },
 "nbformat": 4,
 "nbformat_minor": 2
}
