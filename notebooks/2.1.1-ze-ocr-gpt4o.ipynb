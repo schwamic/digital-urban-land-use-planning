{
 "cells": [
  {
   "cell_type": "markdown",
   "metadata": {},
   "source": [
    "# 2.1.1 Zeichenerklärung – OCR (GPT4o)\n",
    "\n",
    "* Zero-Shot\n",
    "* Chain-Of-Thought"
   ]
  },
  {
   "cell_type": "code",
   "execution_count": 1,
   "metadata": {},
   "outputs": [],
   "source": [
    "from utils.parser import Parser\n",
    "from utils.openai import OpenAI\n",
    "import asyncio\n",
    "\n",
    "instructions = \"Du bist ein Assistent zur getreuen Wiedergabe von Informationen aus einem Bebauungsplan. Achte auf Vollständigkeit.\"\n",
    "jarvis = OpenAI(instructions)\n",
    "parser = Parser()"
   ]
  },
  {
   "cell_type": "code",
   "execution_count": null,
   "metadata": {},
   "outputs": [],
   "source": [
    "# Zeichenerklärung – Schema Nutzungsschablone WITHOUT BOUNDING BOX\n",
    "ze_tt_path = \"../data/processed/bpläne/1_alles_in_einem_dokument/L04-01-ZE-TT-crop.png\"\n",
    "ze_path = \"../data/processed/bpläne/1_alles_in_einem_dokument/L04-01-ZE-crop.png\"\n",
    "ze_two_col_path = \"../data/processed/bpläne/1_alles_in_einem_dokument/L04-01-ZE-two-col-crop.png\"\n"
   ]
  },
  {
   "cell_type": "code",
   "execution_count": 2,
   "metadata": {},
   "outputs": [
    {
     "ename": "NameError",
     "evalue": "name 'asyncio' is not defined",
     "output_type": "error",
     "traceback": [
      "\u001b[0;31m---------------------------------------------------------------------------\u001b[0m",
      "\u001b[0;31mNameError\u001b[0m                                 Traceback (most recent call last)",
      "Cell \u001b[0;32mIn[2], line 28\u001b[0m\n\u001b[1;32m     13\u001b[0m     msg \u001b[38;5;241m=\u001b[39m jarvis\u001b[38;5;241m.\u001b[39mrequest([\n\u001b[1;32m     14\u001b[0m         {\n\u001b[1;32m     15\u001b[0m             \u001b[38;5;124m\"\u001b[39m\u001b[38;5;124mtype\u001b[39m\u001b[38;5;124m\"\u001b[39m: \u001b[38;5;124m\"\u001b[39m\u001b[38;5;124mtext\u001b[39m\u001b[38;5;124m\"\u001b[39m,\n\u001b[0;32m   (...)\u001b[0m\n\u001b[1;32m     24\u001b[0m         },\n\u001b[1;32m     25\u001b[0m     ])\n\u001b[1;32m     26\u001b[0m     \u001b[38;5;28;01mreturn\u001b[39;00m msg\n\u001b[0;32m---> 28\u001b[0m messages \u001b[38;5;241m=\u001b[39m \u001b[38;5;28;01mawait\u001b[39;00m \u001b[43masyncio\u001b[49m\u001b[38;5;241m.\u001b[39mgather(run(ze_tt_path), run(ze_path))\n\u001b[1;32m     29\u001b[0m \u001b[38;5;28;01mfor\u001b[39;00m msg \u001b[38;5;129;01min\u001b[39;00m messages:\n\u001b[1;32m     30\u001b[0m     \u001b[38;5;28mprint\u001b[39m(\u001b[38;5;124m\"\u001b[39m\u001b[38;5;124m#############################################\u001b[39m\u001b[38;5;124m\"\u001b[39m)\n",
      "\u001b[0;31mNameError\u001b[0m: name 'asyncio' is not defined"
     ]
    }
   ],
   "source": [
    "# Zeichenerklärung – Schema Nutzungsschablone WITH BOUNDING BOX\n",
    "# SKIP: ze_tt_raw_path = \"../data/processed/bpläne/1_alles_in_einem_dokument/L04-01-ZE-TT-bb-crop-raw.png\"\n",
    "ze_tt_bb_path = \"../data/processed/bpläne/1_alles_in_einem_dokument/L04-01-ZE-TT-bb-crop.png\"\n",
    "ze_bb_path = \"../data/processed/bpläne/1_alles_in_einem_dokument/L04-01-ZE-bb-crop.png\"\n",
    "ze_two_col_bb_path = \"../data/processed/bpläne/1_alles_in_einem_dokument/L04-01-ZE-two-col-bb-crop.png\"\n",
    "\n",
    "async def run(ze_path):\n",
    "    base64_ze, img_size = parser.imageToBase64(ze_path)\n",
    "    print(\"image_size:\", img_size)\n",
    "    msg = jarvis.request([\n",
    "        {\n",
    "            \"type\": \"text\",\n",
    "            \"text\": 'Gebe die rot umrandete Tabellenerklärung zum Eintrag Nutzungsschablone in ASCII-Tabellenform aus.'\n",
    "        },\n",
    "        {\n",
    "            \"type\": \"image_url\",\n",
    "            \"image_url\": {\n",
    "                \"url\": f\"data:image/jpeg;base64,{base64_ze}\",\n",
    "                \"detail\": \"high\"\n",
    "            }\n",
    "        },\n",
    "    ])\n",
    "    return msg\n",
    "\n",
    "messages = await asyncio.gather(run(ze_tt_path), run(ze_path))\n",
    "for msg in messages:\n",
    "    print(\"#############################################\")\n",
    "    print(msg)"
   ]
  },
  {
   "cell_type": "code",
   "execution_count": 4,
   "metadata": {},
   "outputs": [
    {
     "name": "stdout",
     "output_type": "stream",
     "text": [
      "image_size: [728, 2048]\n",
      "Hier sind die extrahierten Informationen zu den angeforderten Themen aus dem Bebauungsplan:\n",
      "\n",
      "**Art der baulichen Nutzung (§ 9 (1) 1 BauGB):**\n",
      "- Wohnbauflächen:\n",
      "  - Reines Wohngebiet (§ 3 BauNVO)\n",
      "  - Allgemeines Wohngebiet (§ 4 BauNVO)\n",
      "- Gemischte Bauflächen:\n",
      "  - Mischgebiet (§ 6 BauNVO)\n",
      "  - Eingeschränktes Gewerbegebiet für nicht wesentlich störende Gewerbebetriebe (§ 8 BauNVO)\n",
      "\n",
      "**Maß der baulichen Nutzung (§ 9 (1) 1 BauGB):**\n",
      "- Zahl der Vollgeschosse (§ 18 BauNVO)\n",
      "- Grundflächenzahl (GRZ) (§ 19 BauNVO)\n",
      "- Geschossflächenzahl (GFZ) (§ 20 BauNVO)\n",
      "\n",
      "**Bauweise (§ 1 (1) 1b BauGB und § 22 BauNVO):**\n",
      "- Offene Bauweise, nur Einzel- und Doppelhäuser zulässig\n",
      "- Geschlossene Bauweise\n",
      "\n",
      "**Überbaubare Grundstücksflächen (§ 9 (1) 1b BauGB):**\n",
      "- Baugrenze (§ 23 (3) BauNVO)\n",
      "\n",
      "Zusätzlich gibt es eine schematische, nicht verbindliche Baukörperangabe und eine verbindliche Firstrichtung von Satteldächern.\n"
     ]
    }
   ],
   "source": [
    "# Zeichenerklärung – Inhalt zu den Hauptkategorien – NO CONTEXT\n",
    "ze_path = \"../data/processed/bpläne/1_alles_in_einem_dokument/L04-01-ZE-crop.png\"\n",
    "ze_two_col_path = \"../data/processed/bpläne/1_alles_in_einem_dokument/L04-01-ZE-two-col-crop.png\"\n",
    "\n",
    "base64_ze, img_size = parser.imageToBase64(ze_path)\n",
    "print(\"image_size:\", img_size)\n",
    "\n",
    "msg = jarvis.request([\n",
    "    {\n",
    "        \"type\": \"image_url\",\n",
    "        \"image_url\": {\n",
    "            \"url\": f\"data:image/jpeg;base64,{base64_ze}\",\n",
    "            \"detail\": \"high\"\n",
    "        }\n",
    "    },\n",
    "    {\n",
    "        \"type\": \"text\",\n",
    "        \"text\": 'Extrahiere alle Informationen zu den folgenden Themen: Art der baulichen Nutzung, Maß der baulichen Nutzung, Bauweise, überbaubare Grundstücksfläche.'\n",
    "    },\n",
    "])\n",
    "\n",
    "print(msg)"
   ]
  },
  {
   "cell_type": "code",
   "execution_count": null,
   "metadata": {},
   "outputs": [],
   "source": [
    "# Zeichenerklärung – Inhalt zu den Hauptkategorien – WITH CONTEXT\n",
    "# Kontext: Schema, BauNVO\n",
    "ze_path = \"../data/processed/bpläne/1_alles_in_einem_dokument/L04-01-ZE-crop.png\"\n",
    "ze_two_col_path = \"../data/processed/bpläne/1_alles_in_einem_dokument/L04-01-ZE-two-col-crop.png\"\n"
   ]
  },
  {
   "cell_type": "code",
   "execution_count": null,
   "metadata": {},
   "outputs": [],
   "source": [
    "# Zeichenerklärung – Komplette Definition Nutzungsschablone\n",
    "# Kontext: Schema"
   ]
  }
 ],
 "metadata": {
  "kernelspec": {
   "display_name": "masterarbeit_stage_1",
   "language": "python",
   "name": "python3"
  },
  "language_info": {
   "codemirror_mode": {
    "name": "ipython",
    "version": 3
   },
   "file_extension": ".py",
   "mimetype": "text/x-python",
   "name": "python",
   "nbconvert_exporter": "python",
   "pygments_lexer": "ipython3",
   "version": "3.11.8"
  }
 },
 "nbformat": 4,
 "nbformat_minor": 2
}
