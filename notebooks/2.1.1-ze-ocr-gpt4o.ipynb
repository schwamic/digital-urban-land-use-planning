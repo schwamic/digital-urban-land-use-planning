{
 "cells": [
  {
   "cell_type": "markdown",
   "metadata": {},
   "source": [
    "# 2.1.1 Zeichenerklärung – OCR (GPT4o)\n",
    "\n",
    "* Zero-Shot\n",
    "* Chain-Of-Thought"
   ]
  },
  {
   "cell_type": "code",
   "execution_count": 1,
   "metadata": {},
   "outputs": [],
   "source": [
    "from utils.parser import Parser\n",
    "from utils.openai import OpenAI\n",
    "import asyncio\n",
    "\n",
    "instructions = \"Du bist ein Assistent zur getreuen Wiedergabe von Informationen aus einem Bebauungsplan. Achte auf Vollständigkeit.\"\n",
    "jarvis = OpenAI(instructions)\n",
    "parser = Parser()"
   ]
  },
  {
   "cell_type": "code",
   "execution_count": 2,
   "metadata": {},
   "outputs": [
    {
     "name": "stdout",
     "output_type": "stream",
     "text": [
      "image_size: [768, 1117]\n",
      "image_size: [728, 2048]\n",
      "#############################################\n",
      "Hier ist die rot umrandete Tabellenerklärung zum Eintrag Nutzungsschablone in ASCII-Tabellenform:\n",
      "\n",
      "```\n",
      "+------------------+----------------------+\n",
      "| Baugebiet        | Zahl der Vollgeschosse|\n",
      "+------------------+----------------------+\n",
      "| Grundflächenzahl | Geschossflächenzahl  |\n",
      "+------------------+----------------------+\n",
      "| Bauweise         |                      |\n",
      "+------------------+----------------------+\n",
      "| Dachform und     |                      |\n",
      "| Dachneigung      |                      |\n",
      "+------------------+----------------------+\n",
      "```\n",
      "#############################################\n",
      "Hier ist die rot umrandete Tabellenerklärung zum Eintrag Nutzungsschablone in ASCII-Tabellenform:\n",
      "\n",
      "```\n",
      "+---------------------+--------------------------+\n",
      "| Baugebiet           | Zahl der Vollgeschosse   |\n",
      "+---------------------+--------------------------+\n",
      "| Grundflächenzahl    | Geschossflächenzahl      |\n",
      "+---------------------+--------------------------+\n",
      "| -                   | Bauweise                 |\n",
      "+---------------------+--------------------------+\n",
      "| Dachform und Dachneigung                      |\n",
      "+-----------------------------------------------+\n",
      "```\n"
     ]
    }
   ],
   "source": [
    "\n",
    "# Zeichenerklärung – WITH BOUNDING BOX\n",
    "# SKIP: ze_tt_raw_path = \"../data/processed/bpläne/1_alles_in_einem_dokument/L04-01-ZE-TT-bb-crop-raw.png\"\n",
    "ze_tt_path = \"../data/processed/bpläne/1_alles_in_einem_dokument/L04-01-ZE-TT-bb-crop.png\"\n",
    "ze_path = \"../data/processed/bpläne/1_alles_in_einem_dokument/L04-01-ZE-bb-crop.png\"\n",
    "\n",
    "async def run(ze_path):\n",
    "    base64_ze, img_size = parser.imageToBase64(ze_path)\n",
    "    print(\"image_size:\", img_size)\n",
    "    msg = jarvis.request([\n",
    "        {\n",
    "            \"type\": \"text\",\n",
    "            \"text\": 'Gebe die rot umrandete Tabellenerklärung zum Eintrag Nutzungsschablone in ASCII-Tabellenform aus.'\n",
    "        },\n",
    "        {\n",
    "            \"type\": \"image_url\",\n",
    "            \"image_url\": {\n",
    "                \"url\": f\"data:image/jpeg;base64,{base64_ze}\",\n",
    "                \"detail\": \"high\"\n",
    "            }\n",
    "        },\n",
    "    ])\n",
    "    return msg\n",
    "\n",
    "messages = await asyncio.gather(run(ze_tt_path), run(ze_path))\n",
    "for msg in messages:\n",
    "    print(\"#############################################\")\n",
    "    print(msg)"
   ]
  },
  {
   "cell_type": "code",
   "execution_count": 4,
   "metadata": {},
   "outputs": [
    {
     "name": "stdout",
     "output_type": "stream",
     "text": [
      "image_size: [728, 2048]\n",
      "Hier sind die extrahierten Informationen zu den angeforderten Themen aus dem Bebauungsplan:\n",
      "\n",
      "**Art der baulichen Nutzung (§ 9 (1) 1 BauGB):**\n",
      "- Wohnbauflächen:\n",
      "  - Reines Wohngebiet (§ 3 BauNVO)\n",
      "  - Allgemeines Wohngebiet (§ 4 BauNVO)\n",
      "- Gemischte Bauflächen:\n",
      "  - Mischgebiet (§ 6 BauNVO)\n",
      "  - Eingeschränktes Gewerbegebiet für nicht wesentlich störende Gewerbebetriebe (§ 8 BauNVO)\n",
      "\n",
      "**Maß der baulichen Nutzung (§ 9 (1) 1 BauGB):**\n",
      "- Zahl der Vollgeschosse (§ 18 BauNVO)\n",
      "- Grundflächenzahl (GRZ) (§ 19 BauNVO)\n",
      "- Geschossflächenzahl (GFZ) (§ 20 BauNVO)\n",
      "\n",
      "**Bauweise (§ 1 (1) 1b BauGB und § 22 BauNVO):**\n",
      "- Offene Bauweise, nur Einzel- und Doppelhäuser zulässig\n",
      "- Geschlossene Bauweise\n",
      "\n",
      "**Überbaubare Grundstücksflächen (§ 9 (1) 1b BauGB):**\n",
      "- Baugrenze (§ 23 (3) BauNVO)\n",
      "\n",
      "Zusätzlich gibt es eine schematische, nicht verbindliche Baukörperangabe und eine verbindliche Firstrichtung von Satteldächern.\n"
     ]
    }
   ],
   "source": [
    "# Zeichenerklärung – Inhalt zur den Hauptkategorien\n",
    "ze_path = \"../data/processed/bpläne/1_alles_in_einem_dokument/L04-01-ZE-bb-crop.png\"\n",
    "base64_ze, img_size = parser.imageToBase64(ze_path)\n",
    "print(\"image_size:\", img_size)\n",
    "\n",
    "msg = jarvis.request([\n",
    "    {\n",
    "        \"type\": \"image_url\",\n",
    "        \"image_url\": {\n",
    "            \"url\": f\"data:image/jpeg;base64,{base64_ze}\",\n",
    "            \"detail\": \"high\"\n",
    "        }\n",
    "    },\n",
    "    {\n",
    "        \"type\": \"text\",\n",
    "        \"text\": 'Extrahiere alle Informationen zu den folgenden Themen: Art der baulichen Nutzung, Maß der baulichen Nutzung, Bauweise, überbaubare Grundstücksfläche.'\n",
    "    },\n",
    "])\n",
    "\n",
    "print(msg)"
   ]
  }
 ],
 "metadata": {
  "kernelspec": {
   "display_name": "masterarbeit_stage_1",
   "language": "python",
   "name": "python3"
  },
  "language_info": {
   "codemirror_mode": {
    "name": "ipython",
    "version": 3
   },
   "file_extension": ".py",
   "mimetype": "text/x-python",
   "name": "python",
   "nbconvert_exporter": "python",
   "pygments_lexer": "ipython3",
   "version": "3.1.-1"
  }
 },
 "nbformat": 4,
 "nbformat_minor": 2
}
