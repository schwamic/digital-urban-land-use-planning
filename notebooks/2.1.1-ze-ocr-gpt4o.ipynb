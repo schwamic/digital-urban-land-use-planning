{
 "cells": [
  {
   "cell_type": "markdown",
   "metadata": {},
   "source": [
    "# 2.1.1 Zeichenerklärung – OCR (GPT4o)\n",
    "\n",
    "* Zero-Shot\n",
    "* Chain-Of-Thought"
   ]
  },
  {
   "cell_type": "code",
   "execution_count": 1,
   "metadata": {},
   "outputs": [],
   "source": [
    "from utils.parser import Parser\n",
    "from utils.openai import OpenAI\n",
    "\n",
    "instructions = \"Du bist ein Assistent um Textinformationen aus einer Planzeichnung eines Bebauungsplans zu extrahieren. Achte auf Vollständigkeit.\"\n",
    "jarvis = OpenAI(instructions)\n",
    "parser = Parser()"
   ]
  },
  {
   "cell_type": "code",
   "execution_count": 3,
   "metadata": {},
   "outputs": [
    {
     "name": "stdout",
     "output_type": "stream",
     "text": [
      "image_size: [728, 2048]\n",
      "Hier ist die rot umrandete Tabellenerklärung zum Eintrag Nutzungsschablone in ASCII-Tabellenform:\n",
      "\n",
      "```\n",
      "+-------------------+-----------------------+\n",
      "| Baugebiet         | Zahl der Vollgeschosse|\n",
      "+-------------------+-----------------------+\n",
      "| Grundflächenzahl  | Geschossflächenzahl   |\n",
      "+-------------------+-----------------------+\n",
      "| -                 | Bauweise              |\n",
      "+-------------------+-----------------------+\n",
      "| Dachform und      | Dachneigung           |\n",
      "+-------------------+-----------------------+\n",
      "```\n"
     ]
    }
   ],
   "source": [
    "# Zeichenerklärung (BOUNDING BOX, CROPPED)\n",
    "ze_path = \"../data/processed/bpläne/1_alles_in_einem_dokument/L04-01-ZE-bb-crop.png\"\n",
    "base64_ze, img_size = parser.imageToBase64(ze_path)\n",
    "print(\"image_size:\", img_size)\n",
    "\n",
    "msg4 = jarvis.request([\n",
    "    {\n",
    "        \"type\": \"text\",\n",
    "        \"text\": 'Gebe die rot umrandete Tabellenerklärung zum Eintrag Nutzungsschablone in ASCII-Tabellenform aus.'\n",
    "    },\n",
    "    {\n",
    "        \"type\": \"image_url\",\n",
    "        \"image_url\": {\n",
    "            \"url\": f\"data:image/jpeg;base64,{base64_ze}\",\n",
    "            \"detail\": \"high\"\n",
    "        }\n",
    "    },\n",
    "])\n",
    "\n",
    "print(msg4)"
   ]
  },
  {
   "cell_type": "code",
   "execution_count": 4,
   "metadata": {},
   "outputs": [
    {
     "name": "stdout",
     "output_type": "stream",
     "text": [
      "image_size: [728, 2048]\n",
      "```json\n",
      "{\n",
      "  \"Baugebiet\": {\n",
      "    \"Definition\": \"Art des Baugebiets gemäß den Festsetzungen des Bebauungsplans.\",\n",
      "    \"Beispiel\": \"Reines Wohngebiet (WR), Allgemeines Wohngebiet (WA), Mischgebiet (MI)\"\n",
      "  },\n",
      "  \"Zahl der Vollgeschosse\": {\n",
      "    \"Definition\": \"Anzahl der oberirdischen Geschosse, die ein Gebäude haben darf.\",\n",
      "    \"Beispiel\": \"2, 3, 4\"\n",
      "  },\n",
      "  \"Grundflächenzahl (GRZ)\": {\n",
      "    \"Definition\": \"Verhältnis der bebauten Fläche zur Grundstücksfläche.\",\n",
      "    \"Beispiel\": \"0,4, 0,3\"\n",
      "  },\n",
      "  \"Geschossflächenzahl (GFZ)\": {\n",
      "    \"Definition\": \"Verhältnis der gesamten Geschossfläche zur Grundstücksfläche.\",\n",
      "    \"Beispiel\": \"1,2, 0,8\"\n",
      "  },\n",
      "  \"Bauweise\": {\n",
      "    \"Definition\": \"Art und Weise der Bebauung, z.B. offene oder geschlossene Bauweise.\",\n",
      "    \"Beispiel\": \"offene Bauweise, geschlossene Bauweise\"\n",
      "  },\n",
      "  \"Dachform und Dachneigung\": {\n",
      "    \"Definition\": \"Vorgaben zur Form und Neigung des Daches.\",\n",
      "    \"Beispiel\": \"Satteldach, Flachdach, 30° Neigung\"\n",
      "  }\n",
      "}\n",
      "```\n"
     ]
    }
   ],
   "source": [
    "# Zeichenerklärung (BOUNDING BOX, CROPPED)\n",
    "ze_path = \"../data/processed/bpläne/1_alles_in_einem_dokument/L04-01-ZE-bb-crop.png\"\n",
    "base64_ze, img_size = parser.imageToBase64(ze_path)\n",
    "print(\"image_size:\", img_size)\n",
    "\n",
    "jarvis.withContext([\n",
    "    {\n",
    "        \"type\": \"text\",\n",
    "        \"text\": msg4\n",
    "    }\n",
    "])\n",
    "\n",
    "msg5 = jarvis.request([\n",
    "    {\n",
    "        \"type\": \"text\",\n",
    "        \"text\": 'Fasse alle relevanten Definitionen und Zeichen bezüglich der Parameter der ASCII-Nutzungsschablone aus der Zeichenerklärung zusammen. Ausgabe im JSON-Format: {<Parameter>: {\"Definition\": \"\", \"Beispiel\"=\"\"}}'\n",
    "    },\n",
    "    {\n",
    "        \"type\": \"image_url\",\n",
    "        \"image_url\": {\n",
    "            \"url\": f\"data:image/jpeg;base64,{base64_ze}\",\n",
    "            \"detail\": \"high\"\n",
    "        }\n",
    "    },\n",
    "])\n",
    "\n",
    "print(msg5)"
   ]
  }
 ],
 "metadata": {
  "kernelspec": {
   "display_name": "masterarbeit_stage_1",
   "language": "python",
   "name": "python3"
  },
  "language_info": {
   "codemirror_mode": {
    "name": "ipython",
    "version": 3
   },
   "file_extension": ".py",
   "mimetype": "text/x-python",
   "name": "python",
   "nbconvert_exporter": "python",
   "pygments_lexer": "ipython3",
   "version": "3.11.8"
  }
 },
 "nbformat": 4,
 "nbformat_minor": 2
}
