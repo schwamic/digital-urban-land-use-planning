{
 "cells": [
  {
   "cell_type": "markdown",
   "metadata": {},
   "source": [
    "# GPT-4o (Hello World)"
   ]
  },
  {
   "cell_type": "code",
   "execution_count": 10,
   "metadata": {},
   "outputs": [],
   "source": [
    "from utils.pdf2base64 import pdf2base64\n",
    "\n",
    "from dotenv import load_dotenv, find_dotenv\n",
    "import os\n",
    "\n",
    "from langchain_openai import ChatOpenAI\n",
    "from langchain.schema.messages import AIMessage, HumanMessage\n",
    "\n",
    "load_dotenv(find_dotenv())\n",
    "\n",
    "model = ChatOpenAI(\n",
    "    openai_api_key=os.getenv(\"OPENAI_API_KEY\"),\n",
    "    model=\"gpt-4o\",\n",
    ")"
   ]
  },
  {
   "cell_type": "code",
   "execution_count": 11,
   "metadata": {},
   "outputs": [
    {
     "name": "stdout",
     "output_type": "stream",
     "text": [
      "3771x1970\n"
     ]
    }
   ],
   "source": [
    "pdf_path = \"../data/raw/prompt-input/2_zeichnung_textteil_getrennt/F 11- 01 Gewerbegebiet Himmelreich - zeichnerischer Teil.pdf\"\n",
    "base64_image = pdf2base64(pdf_path)\n",
    "\n",
    "print(base64_image[1])"
   ]
  },
  {
   "cell_type": "code",
   "execution_count": 7,
   "metadata": {},
   "outputs": [
    {
     "name": "stdout",
     "output_type": "stream",
     "text": [
      "The image includes several tables, primarily on the right side of the map. Here's the extracted text from the tables:\n",
      "\n",
      "### Table 1: Planzeichnung (Teil A)\n",
      "**ZEICHENERKLÄRUNG**\n",
      "Planungsrechtliche Festsetzungen\n",
      "\n",
      "1. Art der Nutzung\n",
      "  - Gewerbegebiet (GE)\n",
      "\n",
      "2. Maß der baulichen Nutzung\n",
      "  - Grundflächenzahl (GRZ) 0,6\n",
      "  - Geschossflächenzahl (GFZ) 1,2\n",
      "\n",
      "3. Bauweise\n",
      "  - Offene Bauweise\n",
      "  - Gebäudehöhe maximal 12,00 m\n",
      "\n",
      "4. Überbaubare Grundstücksfläche\n",
      "  - Baugrenzen\n",
      "\n",
      "5. Besondere Festsetzungen\n",
      "  - Anzahl der Vollgeschosse 2\n",
      "  - Pflanzgebote\n",
      "  - Einfriedungen\n",
      "\n",
      "**Legende:**\n",
      "1. GE (Gewerbegebiet)\n",
      "2. GRZ 0,6\n",
      "3. GFZ 1,2\n",
      "4. Gebäudehöhe max. 12,00 m\n",
      "5. Baugrenze\n",
      "6. Baulinie\n",
      "7. Pflanzgebot\n",
      "8. Einfriedung\n",
      "9. Anzahl der Vollgeschosse 2\n",
      "\n",
      "### Table 2: Darstellungen ohne Normencharakter\n",
      "1. Ver- und Entsorgungsleitungen\n",
      "2. Deutliche Gebäude\n",
      "3. Verkehrsflächen\n",
      "4. Fuß- und Radwege\n",
      "5. Verkehrsberuhigte Straßen\n",
      "6. Bestehende Bäume\n",
      "\n",
      "### Table 3: Stadt LACHINGEN\n",
      "**Feldstetten Himmelreich**\n",
      "Bebauungsplan\n",
      "M 1:500\n",
      "\n",
      "Der Bebauungsplan besteht aus der Planzeichnung M 1:500 und den nachstehend aufgeführten textlichen Festsetzungen, örtlichen Bauvorschriften sowie Begründung.\n",
      "\n",
      "Aufstellungsbeschluss: § 2 (1) BauGB am 17.04.2000\n",
      "\n",
      "Öffentliche Auslegung: § 3 (2) BauGB vom 10.07.2000 bis 11.08.2000\n",
      "\n",
      "Satzungsbeschluss: § 10 (1) BauGB am 20.11.2000\n",
      "\n",
      "Bekanntmachung: § 10 (3) BauGB am 01.12.2000\n",
      "\n",
      "### Table 4: Unterschriften und Genehmigungen\n",
      "**Gezeichnet und geprüft:**\n",
      "- DipI.-Ing. Architekt H. Pfeiffer\n",
      "- Planungsstand: 20.11.2000\n",
      "\n",
      "**Genehmigt:**\n",
      "- Bürgermeister\n",
      "- Stadt LACHINGEN\n",
      "\n",
      "This should cover the primary tables and their contents.\n"
     ]
    }
   ],
   "source": [
    "msg = model.invoke([\n",
    "    AIMessage(\n",
    "        content=[{\n",
    "            \"type\": \"text\",\n",
    "            \"text\": \"You are a useful bot that is expecially good at OCR from images.\"\n",
    "        }]\n",
    "    ),\n",
    "    HumanMessage(\n",
    "        content=[\n",
    "        {\n",
    "            \"type\": \"text\",\n",
    "            \"text\": \"Identify all the tables in this image and extract the text from them.\"\n",
    "        },\n",
    "        {\n",
    "            \"type\": \"image_url\",\n",
    "            \"image_url\": {\n",
    "                \"url\": f\"data:image/jpeg;base64,{base64_image}\",\n",
    "                \"detail\": \"high\"\n",
    "            }\n",
    "        }\n",
    "        ]\n",
    "    ),\n",
    "])\n",
    "\n",
    "print(msg.content)"
   ]
  }
 ],
 "metadata": {
  "kernelspec": {
   "display_name": "masterarbeit_stage_1",
   "language": "python",
   "name": "python3"
  },
  "language_info": {
   "codemirror_mode": {
    "name": "ipython",
    "version": 3
   },
   "file_extension": ".py",
   "mimetype": "text/x-python",
   "name": "python",
   "nbconvert_exporter": "python",
   "pygments_lexer": "ipython3",
   "version": "3.11.8"
  }
 },
 "nbformat": 4,
 "nbformat_minor": 2
}
