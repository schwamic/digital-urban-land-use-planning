{
 "cells": [
  {
   "cell_type": "markdown",
   "metadata": {},
   "source": [
    "# 2.3.3 Textlicher Teil Bebauungsplan – OCR (GPT-4o)\n",
    "\n",
    "* Zero-Shot\n",
    "* Chain-Of-Thought\n",
    "* Best result: A2"
   ]
  },
  {
   "cell_type": "code",
   "execution_count": 1,
   "metadata": {},
   "outputs": [],
   "source": [
    "from utils.parser import Parser\n",
    "from utils.openai import OpenAI\n",
    "import asyncio\n",
    "\n",
    "instructions = \"Du bist ein Assistent zur getreuen Wiedergabe von Informationen aus einem Bebauungsplan. Achte auf Vollständigkeit.\"\n",
    "samantha = OpenAI(instructions)\n",
    "parser = Parser()"
   ]
  },
  {
   "cell_type": "code",
   "execution_count": 2,
   "metadata": {},
   "outputs": [
    {
     "name": "stdout",
     "output_type": "stream",
     "text": [
      "66\n"
     ]
    }
   ],
   "source": [
    "pdf_path = \"../data/raw/bpläne/3_xplanung/BP_872A_AUFST_TT.pdf\"\n",
    "pdf_prompts = parser.pdf2prompts(pdf_path)\n",
    "print(len(pdf_prompts))"
   ]
  },
  {
   "cell_type": "code",
   "execution_count": 4,
   "metadata": {},
   "outputs": [
    {
     "name": "stdout",
     "output_type": "stream",
     "text": [
      "### Art der baulichen Nutzung:\n",
      "- Die in der Planzeichnung (Teil A) mit WA1 bis WA4 gekennzeichneten Bereiche werden als Allgemeines Wohngebiet gemäß § 4 BauNVO festgesetzt.\n",
      "- Zulässig sind:\n",
      "  - Wohngebäude\n",
      "  - Läden, Schank- und Speisewirtschaften sowie nicht störende Handwerksbetriebe\n",
      "  - Anlagen für kirchliche, kulturelle, soziale, gesundheitliche und sportliche Zwecke\n",
      "- Nicht zulässig sind:\n",
      "  - Betriebe des Beherbergungsgewerbes\n",
      "  - sonstige nicht störende Gewerbebetriebe\n",
      "  - Anlagen für Verwaltungen\n",
      "  - Gartenbaubetriebe\n",
      "  - Tankstellen\n",
      "- Fremdwerbeanlagen sind im gesamten Plangebiet nicht zulässig.\n",
      "\n",
      "### Maß der baulichen Nutzung:\n",
      "- Das Maß der baulichen Nutzung ist in den Nutzungsschablonen in der Planzeichnung (Teil A) festgesetzt.\n",
      "- In den allgemeinen Wohngebieten darf die zulässige Grundflächenzahl (GRZ) durch die Grundflächen der in § 19 Abs. 4 BauNVO aufgeführten Anlagen jeweils bis zu folgender GRZ überschritten werden:\n",
      "  - WA1: GRZ maximal 0,65\n",
      "  - WA2: GRZ maximal 0,80\n",
      "  - WA3: GRZ maximal 0,75\n",
      "  - WA4: GRZ maximal 0,75\n",
      "- Die zulässigen Gebäudeoberkanten (OK) sind für die einzelnen Bereiche in der Planzeichnung (Teil A) festgesetzt. Gebäudeoberkante ist der jeweils oberste Abschluss der Außenwand (Attika). Bezugspunkt ist die jeweils festgesetzte Höhenkote des Erdgeschossfertigfußbodens. Bei der zwingend festgesetzten Gebäudeoberkante in den Baufeldern 4-1 und 4-5 ist eine Überschreitung um maximal 0,20 m zulässig.\n",
      "\n",
      "### Bauweise und überbaubare Grundstücksfläche:\n",
      "- Sofern erforderlich, ist die Bauweise in der Planzeichnung (Teil A) festgesetzt.\n",
      "- Die überbaubaren Grundstücksflächen sind durch Baulinien und Baugrenzen in der Planzeichnung (Teil A) festgesetzt.\n",
      "- Vorbauten dürfen die Baugrenzen bis zu 1,5 m auf einer Breite von maximal 5,0 m je Eingang überschreiten. Balkone dürfen mit Ausnahme des jeweils obersten Geschosses die Baugrenzen bis zu 0,90 m auf einer Breite von maximal 7,50 m je Balkon überschreiten. Zwischen den einzelnen Balkonen muss ein Abstand von mindestens 3,25 m eingehalten werden.\n",
      "- Terrassen an Gebäuden dürfen sich bis zu einer Tiefe von 2,5 m auch auf Flächen außerhalb der überbaubaren Grundstücksflächen erstrecken. Sie dürfen außerhalb der überbaubaren Grundstücksflächen nicht durch Wintergärten oder ähnliches überbaut werden.\n",
      "- Im Kronenbereich der in der Planzeichnung (Teil A) dargestellten und festgesetzten Bestandsgehölze sind die in Absatz 3 und 4 festgelegten Überschreitungen der überbaubaren Grundstücksflächen nicht zulässig.\n",
      "- Die Tiefe der einzuhaltenden Abstandsflächen wird abweichend von Art. 6 Abs. 5 Satz 1 und Abs. 5a BayBO durch die festgesetzten Baulinien bzw. Baugrenzen und maximalen bzw. zwingenden Gebäudeoberkanten bestimmt.\n",
      "\n",
      "### Referenzen:\n",
      "- Seiten 6-8, 28-30\n"
     ]
    }
   ],
   "source": [
    "# A.1) Ein Thread – Analyse und Extraktion in einem Schritt\n",
    "# Problem: Kontext ist sehr groß, sodass GPT den Überblick verliert und Informationen verliert. \n",
    "msg1 = samantha.request([\n",
    "    *pdf_prompts,\n",
    "    {\n",
    "        \"type\": \"text\",\n",
    "        \"text\": 'Extrahiere alle Informationen zu den folgenden Themen: Art der baulichen Nutzung, Maß der baulichen Nutzung, Bauweise, überbaubare Grundstücksfläche. Liste am Ende die jeweiligen Seitenzahlen als Referenz auf. Output-Format: ###<Thema>: <Informationen> ### Referenzen: <Seitenzahlen>)'\n",
    "        # Optional: Zusätzlich Dach, Garage, Stelltung und Stellplatz\n",
    "    }\n",
    "])\n",
    "\n",
    "print(msg1)"
   ]
  },
  {
   "cell_type": "code",
   "execution_count": 3,
   "metadata": {},
   "outputs": [
    {
     "name": "stdout",
     "output_type": "stream",
     "text": [
      "```json\n",
      "{\n",
      "  \"Seiten\": [6, 7, 8, 9, 28, 29, 30, 31, 32, 33]\n",
      "}\n",
      "```\n"
     ]
    }
   ],
   "source": [
    "# A.2) Ein Thread – Relevante Seiten extrahieren (Vorverarbeitung) – (Bestes Ergebnis)\n",
    "# Wenn Dokument zu groß wird: z.B. chunk_size=10 pages, overlap=2 pages.\n",
    "# chunk_size = 10, overlap = 2\n",
    "# n = math.ceil(len(pdf_prompts)/chunk_size)\n",
    "# chunks = list(map(lambda i: pdf_prompts[slice(max(i*chunk_size-overlap,0),i*chunk_size+chunk_size)], range(n)))\n",
    "msg = samantha.request([\n",
    "        *pdf_prompts,\n",
    "        {\n",
    "            \"type\": \"text\",\n",
    "            \"text\": 'Die Bilder repräsentieren ein PDF Dokument. Extrahiere alle Seiten die Informationen zu folgenden Themen beinhalten: Art der baulichen Nutzung, Maß der baulichen Nutzung, Bauweise und überbaubare Grundstücksfläche. JSON-Output-Format: {\"Seiten\": [<Seitenzahlen>]}'\n",
    "        }\n",
    "    ])\n",
    "\n",
    "print(msg)"
   ]
  },
  {
   "cell_type": "code",
   "execution_count": 11,
   "metadata": {},
   "outputs": [
    {
     "name": "stdout",
     "output_type": "stream",
     "text": [
      "9\n",
      "Hier sind die extrahierten Informationen zu den Themen \"Art der baulichen Nutzung\", \"Maß der baulichen Nutzung\" und \"Bauweise und überbaubare Grundstücksfläche\" aus dem Bebauungsplan:\n",
      "\n",
      "### Art der baulichen Nutzung (§ 4)\n",
      "1. **Allgemeines Wohngebiet (WA)**\n",
      "   - Zulässig:\n",
      "     - Wohngebäude\n",
      "     - Läden, Schank- und Speisewirtschaften sowie nicht störende Handwerksbetriebe zur Versorgung des Gebiets\n",
      "     - Anlagen für kirchliche, kulturelle, soziale, gesundheitliche und sportliche Zwecke\n",
      "   - Nicht zulässig:\n",
      "     - Betriebe des Beherbergungsgewerbes\n",
      "     - Sonstige nicht störende Gewerbebetriebe\n",
      "     - Anlagen für Verwaltungen\n",
      "     - Gartenbaubetriebe\n",
      "     - Tankstellen\n",
      "   - Fremdwerbeanlagen sind im gesamten Plangebiet nicht zulässig.\n",
      "\n",
      "### Maß der baulichen Nutzung (§ 5)\n",
      "1. **Festsetzung des Maßes der baulichen Nutzung**\n",
      "   - In den Nutzungsschablonen in der Planzeichnung (Teil A) festgesetzt.\n",
      "2. **Zulässige Grundflächenzahl (GRZ) in den allgemeinen Wohngebieten**\n",
      "   - WA1: GRZ maximal 0,65\n",
      "   - WA2: GRZ maximal 0,80\n",
      "   - WA3: GRZ maximal 0,75\n",
      "   - WA4: GRZ maximal 0,75\n",
      "\n",
      "### Bauweise und überbaubare Grundstücksflächen (§ 7)\n",
      "1. **Bauweise**\n",
      "   - In der Planzeichnung (Teil A) festgesetzt.\n",
      "2. **Überbaubare Grundstücksflächen**\n",
      "   - Durch Baugrenzen und Baulinien in der Planzeichnung (Teil A) festgesetzt.\n",
      "3. **Überschreitungen der Baugrenzen**\n",
      "   - Vorbauten dürfen die Baugrenzen bis zu 1,5 m auf einer Breite von maximal 5,0 m je Eingang überschreiten.\n",
      "   - Balkone dürfen die Baugrenzen bis zu 0,90 m auf einer Breite von maximal 7,50 m je Balkon überschreiten.\n",
      "   - Zwischen den einzelnen Balkonen muss ein Abstand von mindestens 3,25 m eingehalten werden.\n",
      "4. **Terrassen**\n",
      "   - Dürfen sich bis zu einer Tiefe von 2,5 m auch auf Flächen außerhalb der überbaubaren Grundstücksflächen erstrecken.\n",
      "   - Dürfen außerhalb der überbaubaren Grundstücksflächen nicht durch Wintergärten oder ähnliches überbaut werden.\n",
      "5. **Bestandsgebäude**\n",
      "   - Im Kronenbereich der in der Planzeichnung (Teil A) dargestellten und festgesetzten Bestandsgebäude sind die festgelegten Überschreitungen der überbaubaren Grundstücksflächen nicht zulässig.\n",
      "6. **Abstandsflächen**\n",
      "   - Die Tiefe der einzuhaltenden Abstandsflächen wird durch die festgesetzten Baulinien bzw. Baugrenzen und maximal bzw. zwingenden Gebäudeoberkanten bestimmt.\n",
      "\n",
      "Diese Informationen decken die wesentlichen Festsetzungen des Bebauungsplans zu den genannten Themen ab.\n"
     ]
    }
   ],
   "source": [
    "# A.2) Ein Thread – Inhalt extrahieren basierend auf relevante Seiten – Bestest Ergebnis\n",
    "msg2_content = [6, 7, 8, 28, 29, 30, 31, 32, 33]\n",
    "relevant_pages = list(map(lambda index: pdf_prompts[index-1], msg2_content))\n",
    "print(len(relevant_pages))\n",
    "\n",
    "msg3 = samantha.request([\n",
    "    *relevant_pages,\n",
    "    {\n",
    "        \"type\": \"text\",\n",
    "        \"text\": 'Extrahiere alle Informationen zu den folgenden Themen: Art der baulichen Nutzung, Maß der baulichen Nutzung, Bauweise und überbaubare Grundstücksfläche.'\n",
    "    },\n",
    "])\n",
    "\n",
    "print(msg3)"
   ]
  },
  {
   "cell_type": "code",
   "execution_count": 12,
   "metadata": {},
   "outputs": [],
   "source": [
    "# B) Mehrere Threads\n",
    "# Idee: Jede Seite einzeln verarbeiten, um Context-Window klein zu halten.\n",
    "# Problem: Informationen sind auf mehrere Seiten verteilt => fehlender Kontext => unvollständige Resultate.\n",
    "async def run(pdf_prompt):\n",
    "    msg = samantha.request([\n",
    "        {\n",
    "            \"type\": \"text\",\n",
    "            \"text\": 'Extrahiere alle Informationen zu den folgenden Themen: Art der baulichen Nutzung, Maß der baulichen Nutzung, Bauweise, überbaubare Grundstücksfläche. Steht keine relevante Information zur Verfügung gebe \"-\" aus.'\n",
    "        },\n",
    "        pdf_prompt\n",
    "    ])\n",
    "    return msg.content\n",
    "\n",
    "prompt_chain = list(map(lambda pdf_prompt: run(pdf_prompt), pdf_prompts))\n",
    "results = await asyncio.gather(*prompt_chain)\n",
    "for result in results:\n",
    "    print(result)"
   ]
  }
 ],
 "metadata": {
  "kernelspec": {
   "display_name": "masterarbeit_stage_1",
   "language": "python",
   "name": "python3"
  },
  "language_info": {
   "codemirror_mode": {
    "name": "ipython",
    "version": 3
   },
   "file_extension": ".py",
   "mimetype": "text/x-python",
   "name": "python",
   "nbconvert_exporter": "python",
   "pygments_lexer": "ipython3",
   "version": "3.1.undefined"
  }
 },
 "nbformat": 4,
 "nbformat_minor": 2
}
