{
 "cells": [
  {
   "cell_type": "markdown",
   "metadata": {},
   "source": [
    "# 4.2 OCR Nutzungsschabolen mit Kontext-Embeddings verknüpfen (GPT-4o)\n",
    "\n",
    "* Zero-Shot\n",
    "* Chain-Of-Thought"
   ]
  },
  {
   "cell_type": "code",
   "execution_count": 1,
   "metadata": {},
   "outputs": [],
   "source": [
    "from utils.pdf2prompts import pdf2prompts\n",
    "import asyncio\n",
    "import os\n",
    "from dotenv import load_dotenv, find_dotenv\n",
    "from langchain_openai import ChatOpenAI\n",
    "from langchain.schema.messages import AIMessage, HumanMessage\n",
    "from langchain_community.vectorstores import FAISS\n",
    "from langchain_openai import OpenAIEmbeddings\n",
    "\n",
    "load_dotenv(find_dotenv())\n",
    "\n",
    "model = ChatOpenAI(\n",
    "    openai_api_key=os.getenv(\"OPENAI_API_KEY\"),\n",
    "    model_name=\"gpt-4o\",\n",
    "    model_kwargs={\"top_p\": 0, \"seed\": 42},\n",
    "    temperature=0,\n",
    ")"
   ]
  },
  {
   "cell_type": "code",
   "execution_count": null,
   "metadata": {},
   "outputs": [],
   "source": [
    "# A) OCR via RapidOCR --> CNN/RNN != Transformer (LLM)\n",
    "# from langchain_community.document_loaders import PyMuPDFLoader\n",
    "# pdf_path = \"../data/raw/bpläne/2_zeichnung_textteil_getrennt/F 11- 02 Gewerbegebiet Himmelreich - schriftlicher Teil.pdf\"\n",
    "# loader = PyMuPDFLoader(pdf_path, extract_images=True)\n",
    "# data = loader.load()\n",
    "# print(data[0])"
   ]
  },
  {
   "cell_type": "code",
   "execution_count": 8,
   "metadata": {},
   "outputs": [],
   "source": [
    "async def page2text(page_prompt):\n",
    "    msg = model.invoke([\n",
    "        AIMessage(\n",
    "            content=[\n",
    "                {\n",
    "                    \"type\": \"text\",\n",
    "                    \"text\": \"Du bist ein Assistent um Textinformationen aus dem schriftlichen Teil eines Bebauungsplans zu extrahieren.\"\n",
    "                },\n",
    "            ]\n",
    "        ),\n",
    "        HumanMessage(\n",
    "            content=[\n",
    "            {\n",
    "                \"type\": \"text\",\n",
    "                \"text\": 'Extrahiere den kompletten Textinhalt. Ausgabe im XML-Format'\n",
    "            },\n",
    "            page_prompt\n",
    "            ]\n",
    "        ),\n",
    "    ])\n",
    "    return msg.content\n",
    "\n",
    "pdf_path = \"../data/raw/bpläne/2_zeichnung_textteil_getrennt/F 11- 02 Gewerbegebiet Himmelreich - schriftlicher Teil.pdf\"\n",
    "prompts = pdf2prompts(pdf_path)\n",
    "data_loaders = list(map(lambda prompt: page2text(prompt), prompts))\n",
    "data = await asyncio.gather(*data_loaders)"
   ]
  },
  {
   "cell_type": "code",
   "execution_count": null,
   "metadata": {},
   "outputs": [],
   "source": [
    "# A) Create Embeddings (B-Plan)\n",
    "# * Textlicher Teil\n",
    "# * Zeichenerklärung"
   ]
  },
  {
   "cell_type": "code",
   "execution_count": null,
   "metadata": {},
   "outputs": [],
   "source": [
    "# B) Create Vector Store"
   ]
  },
  {
   "cell_type": "code",
   "execution_count": null,
   "metadata": {},
   "outputs": [],
   "source": [
    "# C) Query Vector Store"
   ]
  },
  {
   "cell_type": "code",
   "execution_count": null,
   "metadata": {},
   "outputs": [],
   "source": [
    "# D) Connect Informations via Chat"
   ]
  }
 ],
 "metadata": {
  "kernelspec": {
   "display_name": "masterarbeit_stage_1",
   "language": "python",
   "name": "python3"
  },
  "language_info": {
   "codemirror_mode": {
    "name": "ipython",
    "version": 3
   },
   "file_extension": ".py",
   "mimetype": "text/x-python",
   "name": "python",
   "nbconvert_exporter": "python",
   "pygments_lexer": "ipython3",
   "version": "3.11.8"
  }
 },
 "nbformat": 4,
 "nbformat_minor": 2
}
