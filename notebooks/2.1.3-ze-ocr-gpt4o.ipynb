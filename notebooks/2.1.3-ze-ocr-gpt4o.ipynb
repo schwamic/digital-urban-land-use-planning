{
 "cells": [
  {
   "cell_type": "markdown",
   "metadata": {},
   "source": [
    "# 2.1.3 Zeichenerklärung – OCR (GPT-4o)\n",
    "\n",
    "* Zero-Shot, Chain-Of-Thought\n",
    "* Beste Ergebnisse (img_prompts): B2"
   ]
  },
  {
   "cell_type": "code",
   "execution_count": 2,
   "metadata": {},
   "outputs": [],
   "source": [
    "from utils.openai import OpenAI\n",
    "from utils.parser import Parser\n",
    "from utils.runner import Runner\n",
    "\n",
    "instructions = \"Du bist ein Assistent zur getreuen Wiedergabe von Informationen aus einem Bebauungsplan. Achte auf Vollständigkeit.\"\n",
    "samantha = OpenAI(instructions)\n",
    "parser = Parser()\n",
    "runner = Runner()"
   ]
  },
  {
   "cell_type": "markdown",
   "metadata": {},
   "source": [
    "### A) Schema Nutzungsschablone"
   ]
  },
  {
   "cell_type": "code",
   "execution_count": 3,
   "metadata": {},
   "outputs": [
    {
     "name": "stdout",
     "output_type": "stream",
     "text": [
      "Stored 'msg213_bp872_nz' (str)\n"
     ]
    }
   ],
   "source": [
    "# SKIP – Analog zu den anderen Fällen\n",
    "msg213_bp872_nz = '''\n",
    "Hier ist das Schema der Tabellenerklärung in ASCII-Tabellenform:\n",
    "\n",
    "+----------------+------------------+\n",
    "| Art der baulichen Nutzung         |\n",
    "+----------------+------------------+\n",
    "| Grundflächenzahl| Geschossflächen-|\n",
    "| (GRZ)          | zahl (GF)       |\n",
    "+----------------+------------------+\n",
    "'''\n",
    "%store msg213_bp872_nz"
   ]
  },
  {
   "cell_type": "markdown",
   "metadata": {},
   "source": [
    "### B) Zeichenerklärung der Nutzungsschablone"
   ]
  },
  {
   "cell_type": "code",
   "execution_count": 4,
   "metadata": {},
   "outputs": [
    {
     "name": "stdout",
     "output_type": "stream",
     "text": [
      "['Hier sind die extrahierten Informationen zu den angeforderten Themen aus dem Bebauungsplan Nr. 872 A der Stadt Augsburg:\n",
      "\n",
      "### Art der baulichen Nutzung\n",
      "- **WA1**: Allgemeines Wohngebiet mit Nummerierung\n",
      "\n",
      "### Maß der baulichen Nutzung\n",
      "- **GF 5250**: Geschossfläche (GF) als Höchstmaß\n",
      "- **0,35**: Grundflächenzahl (GRZ) als Höchstmaß\n",
      "- **II**: Zahl der Vollgeschosse, zwingend\n",
      "- **IV**: Zahl der Vollgeschosse als Höchstmaß\n",
      "- **OK 12,5**: Oberkante (OK) baulicher Anlagen in Meter zwingend, bezogen auf einen Bezugspunkt gemäß textlicher Festsetzung\n",
      "- **OK 12,5**: Oberkante (OK) baulicher Anlagen in Meter als Höchstmaß, bezogen auf einen Bezugspunkt gemäß textlicher Festsetzung\n",
      "\n",
      "### Bauweise\n",
      "- **g**: Geschlossene Bauweise\n",
      "\n",
      "### Überbaubare Grundstücksfläche\n",
      "- **Baulinie**: Markiert durch eine durchgezogene rote Linie\n",
      "- **Baugrenze**: Markiert durch eine gestrichelte rote Linie']\n",
      "#############################################\n",
      "['Hier sind die extrahierten Informationen zu den angeforderten Themen aus dem Bebauungsplan Nr. 872 A der Stadt Augsburg:\n",
      "\n",
      "### Art der baulichen Nutzung\n",
      "- **WA1**: Allgemeines Wohngebiet mit Nummerierung\n",
      "\n",
      "### Maß der baulichen Nutzung\n",
      "- **GF 5250**: Geschossfläche (GF) als Höchstmaß\n",
      "- **0,35**: Grundflächenzahl (GRZ) als Höchstmaß\n",
      "- **II**: Zahl der Vollgeschosse, zwingend\n",
      "- **IV**: Zahl der Vollgeschosse als Höchstmaß\n",
      "- **OK 12,5**: Oberkante (OK) baulicher Anlagen in Meter zwingend, bezogen auf einen Bezugspunkt gemäß textlicher Festsetzung\n",
      "- **OK 12,5**: Oberkante (OK) baulicher Anlagen in Meter als Höchstmaß, bezogen auf einen Bezugspunkt gemäß textlicher Festsetzung\n",
      "\n",
      "### Bauweise\n",
      "- **g**: Geschlossene Bauweise\n",
      "\n",
      "### Überbaubare Grundstücksfläche\n",
      "- **Baulinie**: Markiert durch eine durchgezogene rote Linie\n",
      "- **Baugrenze**: Markiert durch eine gestrichelte rote Linie']\n",
      "#############################################\n",
      "['Hier sind die extrahierten Informationen zu den angeforderten Themen aus dem Bebauungsplan Nr. 872 A der Stadt Augsburg:\n",
      "\n",
      "### Art der baulichen Nutzung\n",
      "- **WA1**: Allgemeines Wohngebiet mit Nummerierung\n",
      "\n",
      "### Maß der baulichen Nutzung\n",
      "- **GF 5250**: Geschossfläche (GF) als Höchstmaß\n",
      "- **0,35**: Grundflächenzahl (GRZ) als Höchstmaß\n",
      "- **II**: Zahl der Vollgeschosse, zwingend\n",
      "- **IV**: Zahl der Vollgeschosse als Höchstmaß\n",
      "- **OK 12,5**: Oberkante (OK) baulicher Anlagen in Meter zwingend, bezogen auf einen Bezugspunkt gemäß textlicher Festsetzung\n",
      "- **OK 12,5**: Oberkante (OK) baulicher Anlagen in Meter als Höchstmaß, bezogen auf einen Bezugspunkt gemäß textlicher Festsetzung\n",
      "\n",
      "### Bauweise\n",
      "- **g**: Geschlossene Bauweise\n",
      "\n",
      "### Überbaubare Grundstücksfläche\n",
      "- **Baulinie**: Markiert durch eine durchgezogene rote Linie\n",
      "- **Baugrenze**: Markiert durch eine gestrichelte rote Linie\n",
      "\n",
      "Diese Informationen geben einen Überblick über die zulässige Nutzung und Bebauung des Grundstücks gemäß dem Bebauungsplan.']\n",
      "#############################################\n"
     ]
    },
    {
     "data": {
      "text/plain": [
       "[['Hier sind die extrahierten Informationen zu den angeforderten Themen aus dem Bebauungsplan Nr. 872 A der Stadt Augsburg:\\n\\n### Art der baulichen Nutzung\\n- **WA1**: Allgemeines Wohngebiet mit Nummerierung\\n\\n### Maß der baulichen Nutzung\\n- **GF 5250**: Geschossfläche (GF) als Höchstmaß\\n- **0,35**: Grundflächenzahl (GRZ) als Höchstmaß\\n- **II**: Zahl der Vollgeschosse, zwingend\\n- **IV**: Zahl der Vollgeschosse als Höchstmaß\\n- **OK 12,5**: Oberkante (OK) baulicher Anlagen in Meter zwingend, bezogen auf einen Bezugspunkt gemäß textlicher Festsetzung\\n- **OK 12,5**: Oberkante (OK) baulicher Anlagen in Meter als Höchstmaß, bezogen auf einen Bezugspunkt gemäß textlicher Festsetzung\\n\\n### Bauweise\\n- **g**: Geschlossene Bauweise\\n\\n### Überbaubare Grundstücksfläche\\n- **Baulinie**: Markiert durch eine durchgezogene rote Linie\\n- **Baugrenze**: Markiert durch eine gestrichelte rote Linie'],\n",
       " ['Hier sind die extrahierten Informationen zu den angeforderten Themen aus dem Bebauungsplan Nr. 872 A der Stadt Augsburg:\\n\\n### Art der baulichen Nutzung\\n- **WA1**: Allgemeines Wohngebiet mit Nummerierung\\n\\n### Maß der baulichen Nutzung\\n- **GF 5250**: Geschossfläche (GF) als Höchstmaß\\n- **0,35**: Grundflächenzahl (GRZ) als Höchstmaß\\n- **II**: Zahl der Vollgeschosse, zwingend\\n- **IV**: Zahl der Vollgeschosse als Höchstmaß\\n- **OK 12,5**: Oberkante (OK) baulicher Anlagen in Meter zwingend, bezogen auf einen Bezugspunkt gemäß textlicher Festsetzung\\n- **OK 12,5**: Oberkante (OK) baulicher Anlagen in Meter als Höchstmaß, bezogen auf einen Bezugspunkt gemäß textlicher Festsetzung\\n\\n### Bauweise\\n- **g**: Geschlossene Bauweise\\n\\n### Überbaubare Grundstücksfläche\\n- **Baulinie**: Markiert durch eine durchgezogene rote Linie\\n- **Baugrenze**: Markiert durch eine gestrichelte rote Linie'],\n",
       " ['Hier sind die extrahierten Informationen zu den angeforderten Themen aus dem Bebauungsplan Nr. 872 A der Stadt Augsburg:\\n\\n### Art der baulichen Nutzung\\n- **WA1**: Allgemeines Wohngebiet mit Nummerierung\\n\\n### Maß der baulichen Nutzung\\n- **GF 5250**: Geschossfläche (GF) als Höchstmaß\\n- **0,35**: Grundflächenzahl (GRZ) als Höchstmaß\\n- **II**: Zahl der Vollgeschosse, zwingend\\n- **IV**: Zahl der Vollgeschosse als Höchstmaß\\n- **OK 12,5**: Oberkante (OK) baulicher Anlagen in Meter zwingend, bezogen auf einen Bezugspunkt gemäß textlicher Festsetzung\\n- **OK 12,5**: Oberkante (OK) baulicher Anlagen in Meter als Höchstmaß, bezogen auf einen Bezugspunkt gemäß textlicher Festsetzung\\n\\n### Bauweise\\n- **g**: Geschlossene Bauweise\\n\\n### Überbaubare Grundstücksfläche\\n- **Baulinie**: Markiert durch eine durchgezogene rote Linie\\n- **Baugrenze**: Markiert durch eine gestrichelte rote Linie\\n\\nDiese Informationen geben einen Überblick über die zulässige Nutzung und Bebauung des Grundstücks gemäß dem Bebauungsplan.']]"
      ]
     },
     "execution_count": 4,
     "metadata": {},
     "output_type": "execute_result"
    }
   ],
   "source": [
    "# B1) Zeichenerklärung – Inhalt zu den Hauptkategorien – NO CONTEXT\n",
    "pdf_path = \"../data/raw/bpläne/3_xplanung/BP_872A_ZE.pdf\"\n",
    "\n",
    "instruction = 'Extrahiere alle Informationen zu den folgenden Themen: Art der baulichen Nutzung, Maß der baulichen Nutzung, Bauweise, überbaubare Grundstücksfläche.'\n",
    "\n",
    "async def run():\n",
    "    return await samantha.extractTextFromImages(instruction, [pdf_path], img_type=\"pdf\")\n",
    "await runner.async_consistency_check(run)"
   ]
  },
  {
   "cell_type": "code",
   "execution_count": 5,
   "metadata": {},
   "outputs": [
    {
     "name": "stdout",
     "output_type": "stream",
     "text": [
      "['### Art der baulichen Nutzung\n",
      "\n",
      "- **WA1**: Allgemeines Wohngebiet mit Nummerierung\n",
      "\n",
      "### Maß der baulichen Nutzung\n",
      "\n",
      "- **GF 5250**: Geschossfläche (GF) als Höchstmaß\n",
      "- **0,35**: Grundflächenzahl (GRZ) als Höchstmaß\n",
      "- **IV**: Zahl der Vollgeschosse, zwingend\n",
      "- **IV**: Zahl der Vollgeschosse als Höchstmaß\n",
      "- **OK 12,5**: Oberkante (OK) baulicher Anlagen in Meter zwingend, bezogen auf einen Bezugspunkt gemäß textlicher Festsetzung\n",
      "- **OK 12,5**: Oberkante (OK) baulicher Anlagen in Meter als Höchstmaß, bezogen auf einen Bezugspunkt gemäß textlicher Festsetzung\n",
      "\n",
      "### Bauweise, überbaubare Grundstücksfläche\n",
      "\n",
      "- **g**: Geschlossene Bauweise\n",
      "- **Baulinie**: (Symbol: rote Linie)\n",
      "- **Baugrenze**: (Symbol: blaue Linie)']\n",
      "#############################################\n",
      "['### Art der baulichen Nutzung\n",
      "\n",
      "- **WA1**: Allgemeines Wohngebiet mit Nummerierung\n",
      "\n",
      "### Maß der baulichen Nutzung\n",
      "\n",
      "- **GF 5250**: Geschossfläche (GF) als Höchstmaß\n",
      "- **0,35**: Grundflächenzahl (GRZ) als Höchstmaß\n",
      "- **IV**: Zahl der Vollgeschosse, zwingend\n",
      "- **IV**: Zahl der Vollgeschosse als Höchstmaß\n",
      "- **OK 12,5**: Oberkante (OK) baulicher Anlagen in Meter zwingend, bezogen auf einen Bezugspunkt gemäß textlicher Festsetzung\n",
      "- **OK 12,5**: Oberkante (OK) baulicher Anlagen in Meter als Höchstmaß, bezogen auf einen Bezugspunkt gemäß textlicher Festsetzung\n",
      "\n",
      "### Bauweise, überbaubare Grundstücksfläche\n",
      "\n",
      "- **g**: Geschlossene Bauweise\n",
      "- **Baulinie**: (Symbol: rote Linie)\n",
      "- **Baugrenze**: (Symbol: blaue Linie)']\n",
      "#############################################\n",
      "['### Art der baulichen Nutzung\n",
      "\n",
      "- **WA1**: Allgemeines Wohngebiet mit Nummerierung\n",
      "\n",
      "### Maß der baulichen Nutzung\n",
      "\n",
      "- **GF 5250**: Geschossfläche (GF) als Höchstmaß\n",
      "- **0,35**: Grundflächenzahl (GRZ) als Höchstmaß\n",
      "- **IV**: Zahl der Vollgeschosse, zwingend\n",
      "- **IV**: Zahl der Vollgeschosse als Höchstmaß\n",
      "- **OK 12,5**: Oberkante (OK) baulicher Anlagen in Meter zwingend, bezogen auf einen Bezugspunkt gemäß textlicher Festsetzung\n",
      "- **OK 12,5**: Oberkante (OK) baulicher Anlagen in Meter als Höchstmaß, bezogen auf einen Bezugspunkt gemäß textlicher Festsetzung\n",
      "\n",
      "### Bauweise, überbaubare Grundstücksfläche\n",
      "\n",
      "- **g**: Geschlossene Bauweise\n",
      "- **Baulinie**: (Symbol: rote Linie)\n",
      "- **Baugrenze**: (Symbol: blaue Linie)']\n",
      "#############################################\n",
      "Stored 'msg213_bp872_ze' (list)\n"
     ]
    }
   ],
   "source": [
    "# B2) Zeichenerklärung – Inhalt zu den Hauptkategorien – WITH CONTEXT\n",
    "# Kontext: Schema, BauNVO\n",
    "%store -r msgbaunvo msg213_bp872_nz\n",
    "schema_prompts = parser.text2prompts([msg213_bp872_nz])\n",
    "baunvo_prompts = parser.text2prompts([msgbaunvo])\n",
    "contexts = list(map(lambda schema: [*baunvo_prompts,schema], schema_prompts))\n",
    "\n",
    "instruction = 'Extrahiere alle Informationen zu den folgenden Themen: Art der baulichen Nutzung, Maß der baulichen Nutzung, Bauweise, überbaubare Grundstücksfläche.'\n",
    "\n",
    "async def run():\n",
    "    return await samantha.extractTextFromImagesWithContexts(instruction, [pdf_path], contexts, img_type=\"pdf\")\n",
    "results = await runner.async_consistency_check(run)\n",
    "msg213_bp872_ze = results[0]\n",
    "%store msg213_bp872_ze"
   ]
  }
 ],
 "metadata": {
  "kernelspec": {
   "display_name": "masterarbeit_stage_1",
   "language": "python",
   "name": "python3"
  },
  "language_info": {
   "codemirror_mode": {
    "name": "ipython",
    "version": 3
   },
   "file_extension": ".py",
   "mimetype": "text/x-python",
   "name": "python",
   "nbconvert_exporter": "python",
   "pygments_lexer": "ipython3",
   "version": "3.11.8"
  }
 },
 "nbformat": 4,
 "nbformat_minor": 2
}
