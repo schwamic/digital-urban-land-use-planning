{
 "cells": [
  {
   "cell_type": "markdown",
   "metadata": {},
   "source": [
    "# GPT-4o (Extraction 2.1)"
   ]
  },
  {
   "cell_type": "code",
   "execution_count": 1,
   "metadata": {},
   "outputs": [],
   "source": [
    "from utils.image2base64 import image2base64\n",
    "from utils.imageWithAxis2Base64 import imageWithAxis2Base64\n",
    "from utils.getImageSize import getImageSize\n",
    "\n",
    "from dotenv import load_dotenv, find_dotenv\n",
    "import os\n",
    "\n",
    "from langchain_openai import ChatOpenAI\n",
    "from langchain.schema.messages import AIMessage, HumanMessage\n",
    "\n",
    "load_dotenv(find_dotenv())\n",
    "\n",
    "model = ChatOpenAI(\n",
    "    openai_api_key=os.getenv(\"OPENAI_API_KEY\"),\n",
    "    model_name=\"gpt-4o\",\n",
    "    model_kwargs={\"top_p\": 0, \"seed\": 42},\n",
    "    temperature=0,\n",
    ")"
   ]
  },
  {
   "cell_type": "code",
   "execution_count": 2,
   "metadata": {},
   "outputs": [
    {
     "name": "stdout",
     "output_type": "stream",
     "text": [
      "[768, 1949]\n",
      "[1359, 768]\n"
     ]
    }
   ],
   "source": [
    "pz_path = \"../data/processed/bpläne/1_alles_in_einem_dokument/F11-01-PZ-BB.png\"\n",
    "pze_path = \"../data/processed/bpläne/1_alles_in_einem_dokument/F11-01-PZE.png\"\n",
    "\n",
    "#base64_pz = imageWithAxis2Base64(pz_path)\n",
    "base64_pz = image2base64(pz_path)\n",
    "base64_pze = image2base64(pze_path)\n",
    "\n",
    "print(getImageSize(pze_path))\n",
    "print(getImageSize(pz_path))"
   ]
  },
  {
   "cell_type": "code",
   "execution_count": 26,
   "metadata": {},
   "outputs": [
    {
     "name": "stdout",
     "output_type": "stream",
     "text": [
      "Hier ist das Schema der Nutzungsschablone in ASCII-Tabellenform:\n",
      "\n",
      "```\n",
      "+----------------+----------------+\n",
      "| Art der Nutzung| Gebäudehöhe    |\n",
      "+----------------+----------------+\n",
      "| Grundflächenzahl| Geschossflächen-|\n",
      "|                | zahl           |\n",
      "+----------------+----------------+\n",
      "| Bauweise       |                |\n",
      "+----------------+----------------+\n",
      "```\n",
      "\n",
      "Diese Tabelle stellt die verschiedenen Kategorien und deren Beschreibungen dar, die in der Zeichenerklärung des Bebauungsplans verwendet werden.\n"
     ]
    }
   ],
   "source": [
    "msg1 = model.invoke([\n",
    "    AIMessage(\n",
    "        content=[\n",
    "            {\n",
    "            \"type\": \"text\",\n",
    "            \"text\": \"Du bist ein Assistent um Textinformationen aus einer Planzeichnung eines Bebauungsplans zu extrahieren.\"\n",
    "            }\n",
    "        ]\n",
    "    ),\n",
    "    HumanMessage(\n",
    "        content=[\n",
    "        {\n",
    "            \"type\": \"text\",\n",
    "            \"text\": \"Die Zeichenerklärung enthält das Schema der Nutzungsschablone (in Form einer Tabelle). Extrahiere das Schema der Nutzungsschablone in ASCII-Tabellenform.\"\n",
    "        },\n",
    "        {\n",
    "            \"type\": \"image_url\",\n",
    "            \"image_url\": {\n",
    "                \"url\": f\"data:image/jpeg;base64,{base64_pze}\",\n",
    "                \"detail\": \"high\"\n",
    "            }\n",
    "        },\n",
    "        ]\n",
    "    ),\n",
    "])\n",
    "\n",
    "print(msg1.content)"
   ]
  },
  {
   "cell_type": "code",
   "execution_count": 29,
   "metadata": {},
   "outputs": [
    {
     "name": "stdout",
     "output_type": "stream",
     "text": [
      "```json\n",
      "{\n",
      "  \"Art der Nutzung\": {\n",
      "    \"Definition\": \"Gewerbegebiete (§ 8 BauNVO), Gewerbegebiete eingeschränkt (§ 8 BauNVO)\",\n",
      "    \"Zeichen\": \"GE, GEE\"\n",
      "  },\n",
      "  \"Gebäudehöhe\": {\n",
      "    \"Definition\": \"max. zulässige Gebäudehöhe über Erdgeschossfußbodenhöhe\",\n",
      "    \"Zeichen\": \"GH=max.12,00\"\n",
      "  },\n",
      "  \"Grundflächenzahl\": {\n",
      "    \"Definition\": \"Grundflächenzahl (GRZ) (§ 16 BauNVO)\",\n",
      "    \"Zeichen\": \"0,6\"\n",
      "  },\n",
      "  \"Geschossflächenzahl\": {\n",
      "    \"Definition\": \"Geschossflächenzahl (GFZ) (§ 16 BauNVO)\",\n",
      "    \"Zeichen\": \"1,2\"\n",
      "  },\n",
      "  \"Bauweise\": {\n",
      "    \"Definition\": \"Abweichende Bauweise (§ 22 BauNVO)\",\n",
      "    \"Zeichen\": \"a\"\n",
      "  },\n",
      "  \"Nutzungsschablone\": {\n",
      "    \"Definition\": \"Nutzungsschablone (§ 9 (1) 1 BauGB)\",\n",
      "    \"Zeichen\": \"\"\n",
      "  }\n",
      "}\n",
      "```\n"
     ]
    }
   ],
   "source": [
    "msg2 = model.invoke([\n",
    "    AIMessage(\n",
    "        content=[\n",
    "            {\n",
    "            \"type\": \"text\",\n",
    "            \"text\": \"Du bist ein Assistent um Textinformationen aus einer Planzeichnung eines Bebauungsplans zu extrahieren.\"\n",
    "            },\n",
    "            {\n",
    "                \"type\": \"text\",\n",
    "                \"text\": f\"{msg1.content}\"\n",
    "            }\n",
    "        ]\n",
    "    ),\n",
    "    HumanMessage(\n",
    "        content=[\n",
    "        {\n",
    "            \"type\": \"text\",\n",
    "            \"text\": 'Fasse relevante Definitionen und Zeichen bezüglich der Schlagwörter aus der ASCII-Nutzungsschablone aus der Zeichenerklärung zusammen. Ausgabe im JSON-Format: {<Schlagwort>: {\"Definition\"=\"\", \"Zeichen\": \"\"}}'\n",
    "        },\n",
    "        {\n",
    "            \"type\": \"image_url\",\n",
    "            \"image_url\": {\n",
    "                \"url\": f\"data:image/jpeg;base64,{base64_pze}\",\n",
    "                \"detail\": \"high\"\n",
    "            }\n",
    "        },\n",
    "        ]\n",
    "    ),\n",
    "])\n",
    "\n",
    "print(msg2.content)"
   ]
  },
  {
   "cell_type": "code",
   "execution_count": 28,
   "metadata": {},
   "outputs": [
    {
     "name": "stdout",
     "output_type": "stream",
     "text": [
      "Hier sind die extrahierten Werte der Nutzungsschablonen im JSON-Format:\n",
      "\n",
      "```json\n",
      "[\n",
      "  {\n",
      "    \"Art der Nutzung\": \"GEE\",\n",
      "    \"Gebäudehöhe\": \"max.12,00\",\n",
      "    \"Grundflächenzahl\": \"0,6\",\n",
      "    \"Geschossflächenzahl\": \"1,2\",\n",
      "    \"Bauweise\": \"-\"\n",
      "  },\n",
      "  {\n",
      "    \"Art der Nutzung\": \"GE\",\n",
      "    \"Gebäudehöhe\": \"max.12,00\",\n",
      "    \"Grundflächenzahl\": \"0,6\",\n",
      "    \"Geschossflächenzahl\": \"1,2\",\n",
      "    \"Bauweise\": \"-\"\n",
      "  },\n",
      "  {\n",
      "    \"Art der Nutzung\": \"GEE\",\n",
      "    \"Gebäudehöhe\": \"max.12,00\",\n",
      "    \"Grundflächenzahl\": \"0,6\",\n",
      "    \"Geschossflächenzahl\": \"1,2\",\n",
      "    \"Bauweise\": \"-\"\n",
      "  },\n",
      "  {\n",
      "    \"Art der Nutzung\": \"GE\",\n",
      "    \"Gebäudehöhe\": \"max.12,00\",\n",
      "    \"Grundflächenzahl\": \"0,6\",\n",
      "    \"Geschossflächenzahl\": \"1,2\",\n",
      "    \"Bauweise\": \"-\"\n",
      "  }\n",
      "]\n",
      "```\n"
     ]
    }
   ],
   "source": [
    "msg3 = model.invoke([\n",
    "    AIMessage(\n",
    "        content=[\n",
    "            {\n",
    "            \"type\": \"text\",\n",
    "            \"text\": \"Du bist ein Assistent um Textinformationen aus einer Planzeichnung eines Bebauungsplans zu extrahieren.\"\n",
    "            },\n",
    "            {\n",
    "                \"type\": \"text\",\n",
    "                \"text\": f\"{msg1.content}\"\n",
    "            },\n",
    "            {\n",
    "                \"type\": \"text\",\n",
    "                \"text\": f\"{msg2.content}\"\n",
    "            }\n",
    "        ]\n",
    "    ),\n",
    "    HumanMessage(\n",
    "        content=[\n",
    "        {\n",
    "            \"type\": \"text\",\n",
    "            \"text\": \"Die Nutzungsschablonen in der vorliegenden Planzeichnung sind durch rote Bounding-Boxen markiert. Gebe die jeweiligen Werte der Nutzungsschablonen im JSON-Format aus.\"\n",
    "        },\n",
    "        {\n",
    "            \"type\": \"image_url\",\n",
    "            \"image_url\": {\n",
    "                \"url\": f\"data:image/jpeg;base64,{base64_pz}\",\n",
    "                \"detail\": \"high\"\n",
    "            }\n",
    "        },\n",
    "        ]\n",
    "    ),\n",
    "])\n",
    "\n",
    "print(msg3.content)"
   ]
  }
 ],
 "metadata": {
  "kernelspec": {
   "display_name": "masterarbeit_stage_1",
   "language": "python",
   "name": "python3"
  },
  "language_info": {
   "codemirror_mode": {
    "name": "ipython",
    "version": 3
   },
   "file_extension": ".py",
   "mimetype": "text/x-python",
   "name": "python",
   "nbconvert_exporter": "python",
   "pygments_lexer": "ipython3",
   "version": "3.11.8"
  }
 },
 "nbformat": 4,
 "nbformat_minor": 2
}
