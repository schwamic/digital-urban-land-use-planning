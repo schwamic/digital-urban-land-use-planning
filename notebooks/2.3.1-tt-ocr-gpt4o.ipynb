{
 "cells": [
  {
   "cell_type": "markdown",
   "metadata": {},
   "source": [
    "# 2.3.1 Textlicher Teil Bebauungsplan – OCR (GPT-4o)\n",
    "\n",
    "* Zero-Shot\n",
    "* Chain-Of-Thought\n",
    "\n",
    "Auflösung ist ein zentraler Faktor für die OCR Qualität. Entsprechend hilft es, bei älteren Plänen den schriftlichen Teil spaltenweise als Bild abzuspeichern (Spalte = PDF-Seite). Maximale Auflösung => Fehlerquote minimieren. (siehe 2.1.1 bzgl. Nutzungsschablone)"
   ]
  },
  {
   "cell_type": "code",
   "execution_count": 1,
   "metadata": {},
   "outputs": [],
   "source": [
    "from utils.parser import Parser\n",
    "from utils.openai import OpenAI\n",
    "import asyncio\n",
    "\n",
    "instructions = \"Du bist ein Assistent zur getreuen Wiedergabe von Informationen aus einem Bebauungsplan. Achte auf Vollständigkeit.\"\n",
    "jarvis = OpenAI(instructions)\n",
    "parser = Parser()"
   ]
  },
  {
   "cell_type": "code",
   "execution_count": null,
   "metadata": {},
   "outputs": [],
   "source": [
    "# A) Textteil – Eine Spalte\n",
    "tt_path = \"../data/processed/bpläne/1_alles_in_einem_dokument/L04-01-TT-crop.png\"\n",
    "ze_tt_path = \"../data/processed/bpläne/1_alles_in_einem_dokument/L04-01-ZE-TT-bb-crop.png\"\n",
    "\n",
    "async def run(img_path):\n",
    "    base64_img, img_size = parser.imageToBase64(img_path)\n",
    "    print(\"image_size:\", img_size)\n",
    "    message = jarvis.request([\n",
    "        {\n",
    "            \"type\": \"image_url\",\n",
    "            \"image_url\": {\n",
    "                \"url\": f\"data:image/jpeg;base64,{base64_img}\",\n",
    "                \"detail\": \"high\"\n",
    "            }\n",
    "        },\n",
    "        {\n",
    "            \"type\": \"text\",\n",
    "            \"text\": 'Extrahiere alle Informationen zu den folgenden Themen: Art der baulichen Nutzung, Maß der baulichen Nutzung, Bauweise, überbaubare Grundstücksfläche.'\n",
    "            # Optional: Zusätzlich Dach, Garage, Stelltung und Stellplatz\n",
    "        }\n",
    "    ])\n",
    "    return message\n",
    "\n",
    "messages = await asyncio.gather(run(ze_tt_path), run(tt_path))\n",
    "for msg in messages:\n",
    "    print(\"#############################################\")\n",
    "    print(msg)"
   ]
  },
  {
   "cell_type": "code",
   "execution_count": 3,
   "metadata": {},
   "outputs": [
    {
     "name": "stdout",
     "output_type": "stream",
     "text": [
      "3\n"
     ]
    }
   ],
   "source": [
    "# B) Textteil – Mehrere Spalten\n",
    "folder_path = \"../data/processed/bpläne/1_alles_in_einem_dokument\"\n",
    "img_name = \"/L22-01-TT-crop\"\n",
    "tt_prompts = parser.img2prompts(folder_path, img_name)\n",
    "\n",
    "msg = jarvis.request([\n",
    "    *tt_prompts,\n",
    "    {\n",
    "        \"type\": \"text\",\n",
    "        \"text\": 'Extrahiere alle Informationen zu den folgenden Themen: Art der baulichen Nutzung, Maß der baulichen Nutzung, Bauweise, überbaubare Grundstücksfläche. Liste am Ende die jeweiligen Seitenzahlen als Referenz auf. Output-Format: ###<Thema>: <Informationen> ### Referenzen: <Seitenzahlen>)'\n",
    "        # Optional: Zusätzlich Dach, Garage, Stelltung und Stellplatz\n",
    "    }\n",
    "])\n",
    "\n",
    "print(msg)\n"
   ]
  }
 ],
 "metadata": {
  "kernelspec": {
   "display_name": "masterarbeit_stage_1",
   "language": "python",
   "name": "python3"
  },
  "language_info": {
   "codemirror_mode": {
    "name": "ipython",
    "version": 3
   },
   "file_extension": ".py",
   "mimetype": "text/x-python",
   "name": "python",
   "nbconvert_exporter": "python",
   "pygments_lexer": "ipython3",
   "version": "3.1.-1"
  }
 },
 "nbformat": 4,
 "nbformat_minor": 2
}
