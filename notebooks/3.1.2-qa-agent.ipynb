{
 "cells": [
  {
   "cell_type": "markdown",
   "metadata": {},
   "source": [
    "# 3.1.2 QA Agent – F11-01 (GPT-4o)\n",
    "\n",
    "Alle erarbeiteten Ergebnisse aus Kapitel 2 und 3 sind mögliche Vorverarbeitungsschritte. Diese Informationen können z.B. via QA-Prompts zugänglich gemacht werden. RAG ermöglicht domänenspezifische Aufgaben zu lösen, ganz ohne Fine-Tuning.\n",
    "\n",
    "* Bebauungsplan\n",
    "* BauNVO\n",
    "\n",
    "Ziel: Tabelle ausfüllen via KI-System (QA)."
   ]
  },
  {
   "cell_type": "markdown",
   "metadata": {},
   "source": [
    "* GPT-4o ist in der Lage Informationen zu extrahieren (Zero-Shot)\n",
    "* ZIEL: Wie Daten miteinander vorverarbeiten + verbinden, sodass QA bzgl. Bebauungsplan funktioniert.\n",
    "\n",
    "1. OCR-Agent (Pre-Processing-Pipeline)\n",
    "e.g. 'Du bist ein OCR-Programm, was alle textlichen Informationen aus einem Bild extrahiert'\n",
    "\n",
    "2. QA-Agent (Chat-Bot)\n",
    "e.g. 'Du bist ein Chat-Bot, der mithilfe der gegebenen Informationen, Fragen beantwortet. Helfen die gegeben Informationen nicht um eine Antwort zu formulieren, antworte mit \"Das ist mir nicht bekannt\"'"
   ]
  },
  {
   "cell_type": "code",
   "execution_count": 2,
   "metadata": {},
   "outputs": [],
   "source": [
    "from utils.openai import OpenAI\n",
    "from utils.parser import Parser\n",
    "from utils.pprint import pprint\n",
    "\n",
    "instructions = \"Du bist ein Assistent zur getreuen Wiedergabe von Informationen aus einem Bebauungsplan. Achte auf Vollständigkeit.\"\n",
    "gerty = OpenAI(instructions)\n",
    "parser = Parser()"
   ]
  },
  {
   "cell_type": "markdown",
   "metadata": {},
   "source": [
    "### Question/Answering"
   ]
  },
  {
   "cell_type": "code",
   "execution_count": null,
   "metadata": {},
   "outputs": [],
   "source": [
    "# 1) Bebauungsplan L04-01\n",
    "%store -r msg211_l04_nz msg211_l04_ze msg221_l04_nz msg231_l04_tt\n",
    "context = parser.text2prompts([f'Zeichenerklärung: {msg211_l04_nz}, {msg211_l04_ze}', f'Planzeichnung: {msg221_l04_nz}', f'Textliche Festsetzungen: {msg231_l04_tt}'])\n",
    "gerty.addContext(context)\n",
    "msg1 = gerty.request([\n",
    "    {\n",
    "        \"type\": \"text\", \n",
    "        \"text\": \"Wieviel Nutzungsschablonen enthält der Bebauungsplan?\"\n",
    "    },\n",
    "    {\n",
    "        \"type\": \"text\", \n",
    "        \"text\": \"Gebe alle Nutzungsschablonen aus. Format JSON.\"\n",
    "    },\n",
    "    {\n",
    "        \"type\": \"text\", \n",
    "        \"text\": \"Begründe die Parameter der Nutzungsschablone.\"\n",
    "    }\n",
    "])\n",
    "pprint(msg1)\n",
    "gerty.clearContext()"
   ]
  },
  {
   "cell_type": "code",
   "execution_count": 17,
   "metadata": {},
   "outputs": [
    {
     "name": "stdout",
     "output_type": "stream",
     "text": [
      "Der Bebauungsplan enthält insgesamt vier Nutzungsschablonen. Hier sind alle Nutzungsschablonen im JSON-Format:\n",
      "\n",
      "```json\n",
      "[\n",
      "  {\n",
      "    \"Art der Nutzung\": \"GEE*\",\n",
      "    \"Gebäudehöhe\": \"max. 12,00\",\n",
      "    \"Grundflächenzahl\": \"0,6\",\n",
      "    \"Geschossflächenzahl\": \"1,2\",\n",
      "    \"Bauweise\": \"a\"\n",
      "  },\n",
      "  {\n",
      "    \"Art der Nutzung\": \"GEE\",\n",
      "    \"Gebäudehöhe\": \"max. 12,00\",\n",
      "    \"Grundflächenzahl\": \"0,6\",\n",
      "    \"Geschossflächenzahl\": \"1,2\",\n",
      "    \"Bauweise\": \"a\"\n",
      "  },\n",
      "  {\n",
      "    \"Art der Nutzung\": \"GE\",\n",
      "    \"Gebäudehöhe\": \"max. 12,00\",\n",
      "    \"Grundflächenzahl\": \"0,6\",\n",
      "    \"Geschossflächenzahl\": \"1,2\",\n",
      "    \"Bauweise\": \"a\"\n",
      "  },\n",
      "  {\n",
      "    \"Art der Nutzung\": \"GE\",\n",
      "    \"Gebäudehöhe\": \"max. 12,00\",\n",
      "    \"Grundflächenzahl\": \"0,6\",\n",
      "    \"Geschossflächenzahl\": \"1,2\",\n",
      "    \"Bauweise\": \"a\"\n",
      "  }\n",
      "]\n",
      "```\n",
      "\n",
      "### Begründung der Parameter der Nutzungsschablone:\n",
      "\n",
      "1. **Art der Nutzung**:\n",
      "   - **GEE***: Eingeschränktes Gewerbegebiet mit besonderen Einschränkungen.\n",
      "   - **GEE**: Eingeschränktes Gewerbegebiet gemäß § 8 BauNVO.\n",
      "   - **GE**: Gewerbegebiet gemäß § 8 BauNVO.\n",
      "\n",
      "2. **Gebäudehöhe**:\n",
      "   - **max. 12,00**: Die maximale zulässige Gebäudehöhe beträgt 12,00 Meter über der Erdgeschossfußbodenhöhe.\n",
      "\n",
      "3. **Grundflächenzahl (GRZ)**:\n",
      "   - **0,6**: Die Grundflächenzahl gibt das Verhältnis der bebauten Fläche zur Grundstücksfläche an. Eine GRZ von 0,6 bedeutet, dass 60% der Grundstücksfläche bebaut werden dürfen.\n",
      "\n",
      "4. **Geschossflächenzahl (GFZ)**:\n",
      "   - **1,2**: Die Geschossflächenzahl gibt das Verhältnis der gesamten Geschossfläche zur Grundstücksfläche an. Eine GFZ von 1,2 bedeutet, dass die gesamte Geschossfläche das 1,2-fache der Grundstücksfläche betragen darf.\n",
      "\n",
      "5. **Bauweise**:\n",
      "   - **a**: Allgemeine Bauweise gemäß § 22 BauNVO.\n"
     ]
    }
   ],
   "source": [
    "# 2) Bebauungsplan F11-01\n",
    "%store -r msg212_f11_nz msg212_f11_ze msg222_f11_nz msg232_f11_tt\n",
    "context = parser.text2prompts([f'Zeichenerklärung: {msg212_f11_nz}, {msg212_f11_ze}', f'Planzeichnung: {msg222_f11_nz}', f'Textliche Festsetzungen: {msg232_f11_tt}'])\n",
    "gerty.addContext(context)\n",
    "msg2 = gerty.request([\n",
    "    {\n",
    "        \"type\": \"text\", \n",
    "        \"text\": \"Wieviel Nutzungsschablonen enthält der Bebauungsplan?\"\n",
    "    },\n",
    "    {\n",
    "        \"type\": \"text\", \n",
    "        \"text\": \"Gebe alle Nutzungsschablonen aus. Format JSON.\"\n",
    "    },\n",
    "    {\n",
    "        \"type\": \"text\", \n",
    "        \"text\": \"Begründe die Parameter der Nutzungsschablone.\"\n",
    "    }\n",
    "])\n",
    "pprint(msg2)\n",
    "gerty.clearContext()"
   ]
  },
  {
   "cell_type": "code",
   "execution_count": null,
   "metadata": {},
   "outputs": [],
   "source": [
    "# 3) Bebauungsplan BP-872A\n",
    "%store -r msg213_bp872_nz msg213_bp872_ze msg233_bp872_tt_art msg233_bp872_tt_maß msg233_bp872_tt_bp\n",
    "context = parser.text2prompts([f'Zeichenerklärung: {msg213_bp872_nz}, {msg213_bp872_ze}', f'Textliche Festsetzungen: {msg233_bp872_tt_art}, {msg233_bp872_tt_maß},{msg233_bp872_tt_bp}'])\n",
    "gerty.addContext(context)\n",
    "msg3 = gerty.request([\n",
    "    {\n",
    "        \"type\": \"text\", \n",
    "        \"text\": \"Gebe das Schema der Nutzungsschablonen aus.\"\n",
    "    },\n",
    "    {\n",
    "        \"type\": \"text\", \n",
    "        \"text\": \"Erkläre die Parameter der Nutzungsschablone in einem Satz.\"\n",
    "    }\n",
    "])\n",
    "pprint(msg3)\n",
    "gerty.clearContext()"
   ]
  }
 ],
 "metadata": {
  "kernelspec": {
   "display_name": "masterarbeit_stage_1",
   "language": "python",
   "name": "python3"
  },
  "language_info": {
   "codemirror_mode": {
    "name": "ipython",
    "version": 3
   },
   "file_extension": ".py",
   "mimetype": "text/x-python",
   "name": "python",
   "nbconvert_exporter": "python",
   "pygments_lexer": "ipython3",
   "version": "3.11.8"
  }
 },
 "nbformat": 4,
 "nbformat_minor": 2
}
