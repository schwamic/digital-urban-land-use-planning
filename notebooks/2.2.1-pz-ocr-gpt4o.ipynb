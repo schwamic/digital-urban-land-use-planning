{
 "cells": [
  {
   "cell_type": "markdown",
   "metadata": {},
   "source": [
    "# 2.2.1 Planzeichnung OCR – (GPT4o)\n",
    "\n",
    "* Zero-Shot\n",
    "* Chain-Of-Thought"
   ]
  },
  {
   "cell_type": "code",
   "execution_count": 14,
   "metadata": {},
   "outputs": [],
   "source": [
    "from utils.parser import Parser\n",
    "from utils.openai import OpenAI\n",
    "import asyncio\n",
    "\n",
    "instructions = \"Du bist ein Assistent um Textinformationen aus einer Planzeichnung eines Bebauungsplans zu extrahieren. Achte auf Vollständigkeit.\"\n",
    "ava = OpenAI(instructions)\n",
    "parser = Parser()"
   ]
  },
  {
   "cell_type": "code",
   "execution_count": 18,
   "metadata": {},
   "outputs": [],
   "source": [
    "ava.clearContext()\n",
    "ava.addContext([\n",
    "    # Output (best-case-scenario)\n",
    "    {\n",
    "        \"type\": \"text\",\n",
    "        \"text\": \"Zur Lösung jeder Aufgabe ist die bereitgestellte Zeichenerklärung zu verwenden, um alle vorkommenden Zeichen korrekt erkennen bzw. interpretieren zu können.\"\n",
    "    }\n",
    "])"
   ]
  },
  {
   "cell_type": "code",
   "execution_count": 19,
   "metadata": {},
   "outputs": [],
   "source": [
    "# Planzeichnung: Nutzungsschablone – VISUAL SEARCH + CROPPING\n",
    "base64_ze, img_size = parser.imageToBase64(\"../data/processed/bpläne/1_alles_in_einem_dokument/L04-01-ZE-bb-crop.png\")\n",
    "image_url_prompts = []\n",
    "for index in range(20):\n",
    "    base64_nz, img_size = parser.imageToBase64(f'../data/processed/bpläne/1_alles_in_einem_dokument/L04-01-PZ-nz{index+1}-crop.png')\n",
    "    image_url_prompts.append({\n",
    "        \"type\": \"image_url\",\n",
    "        \"image_url\": {\n",
    "            \"url\": f\"data:image/jpeg;base64,{base64_nz}\",\n",
    "            \"detail\": \"high\"\n",
    "        }\n",
    "    })\n",
    "\n",
    "message = ava.request([\n",
    "    {\n",
    "        \"type\": \"text\",\n",
    "        \"text\": 'Hier ist die Zeichenerklärung:'\n",
    "    },\n",
    "    {\n",
    "        \"type\": \"image_url\",\n",
    "        \"image_url\": {\n",
    "            \"url\": f\"data:image/jpeg;base64,{base64_ze}\",\n",
    "            \"detail\": \"high\"\n",
    "        }\n",
    "    },\n",
    "    {\n",
    "        \"type\": \"text\",\n",
    "        \"text\": 'Hier sind die vorkommenden Nutzungsschablonen der Planzeichnung:'\n",
    "    },\n",
    "    *image_url_prompts,\n",
    "    {\n",
    "        \"type\": \"text\",\n",
    "        \"text\": 'Gebe die Werte der jeweiligen Nutzungsschablonen strukturiert im JSON-Format aus: {<Parameter>:<Wert>}'\n",
    "    }\n",
    "])\n",
    "\n",
    "print(message)"
   ]
  }
 ],
 "metadata": {
  "kernelspec": {
   "display_name": "masterarbeit_stage_1",
   "language": "python",
   "name": "python3"
  },
  "language_info": {
   "codemirror_mode": {
    "name": "ipython",
    "version": 3
   },
   "file_extension": ".py",
   "mimetype": "text/x-python",
   "name": "python",
   "nbconvert_exporter": "python",
   "pygments_lexer": "ipython3",
   "version": "3.11.8"
  }
 },
 "nbformat": 4,
 "nbformat_minor": 2
}
