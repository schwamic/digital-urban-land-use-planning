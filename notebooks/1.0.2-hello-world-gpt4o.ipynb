{
 "cells": [
  {
   "cell_type": "markdown",
   "metadata": {},
   "source": [
    "# 1.0.2 Zeichnerischer Teil Bebauungsplan – OCR (GPT-4o)\n",
    "\n",
    "* Zero-Shot\n",
    "* Chain-Of-Thought"
   ]
  },
  {
   "cell_type": "code",
   "execution_count": 9,
   "metadata": {},
   "outputs": [
    {
     "ename": "NameError",
     "evalue": "name 'test3' is not defined",
     "output_type": "error",
     "traceback": [
      "\u001b[0;31m---------------------------------------------------------------------------\u001b[0m",
      "\u001b[0;31mNameError\u001b[0m                                 Traceback (most recent call last)",
      "Cell \u001b[0;32mIn[9], line 10\u001b[0m\n\u001b[1;32m      7\u001b[0m parser \u001b[38;5;241m=\u001b[39m Parser()\n\u001b[1;32m      9\u001b[0m get_ipython()\u001b[38;5;241m.\u001b[39mrun_line_magic(\u001b[38;5;124m'\u001b[39m\u001b[38;5;124mstore\u001b[39m\u001b[38;5;124m'\u001b[39m, \u001b[38;5;124m'\u001b[39m\u001b[38;5;124m-r test1 test2\u001b[39m\u001b[38;5;124m'\u001b[39m)\n\u001b[0;32m---> 10\u001b[0m \u001b[38;5;28mprint\u001b[39m(\u001b[43mtest3\u001b[49m)\n",
      "\u001b[0;31mNameError\u001b[0m: name 'test3' is not defined"
     ]
    }
   ],
   "source": [
    "\n",
    "from utils.parser import Parser\n",
    "from utils.openai import OpenAI\n",
    "from utils.pprint import pprint\n",
    "\n",
    "instructions = \"Du bist ein Assistent um Textinformationen aus einer Planzeichnung eines Bebauungsplans zu extrahieren.\"\n",
    "chatGPT = OpenAI(instructions)\n",
    "parser = Parser()"
   ]
  },
  {
   "cell_type": "code",
   "execution_count": 3,
   "metadata": {},
   "outputs": [
    {
     "name": "stdout",
     "output_type": "stream",
     "text": [
      "```json\n",
      "{\"Gültig seit\": 1979}\n",
      "```\n",
      "#############################################\n",
      "```json\n",
      "{\"Gültig seit\": 2000}\n",
      "```\n",
      "#############################################\n"
     ]
    }
   ],
   "source": [
    "img_path = \"../data/processed/bpläne/1_alles_in_einem_dokument/L04-01-ZE-TT-crop.png\"\n",
    "pdf_path = \"../data/raw/bpläne/2_zeichnung_textteil_getrennt/F11-01-PZ-ZE.pdf\"\n",
    "\n",
    "instruction = 'In welchem Jahr ist der vorliegende Bebauungsplan in Kraft getreten? Ausgabe im JSON-Format: {\"Gültig seit\": <YYYY>}'\n",
    "\n",
    "msg1 = await chatGPT.extractTextFromImage(instruction, img_path)\n",
    "msg2 = await chatGPT.extractTextFromImage(instruction, pdf_path, \"pdf\")\n",
    "pprint([msg1, msg2])"
   ]
  }
 ],
 "metadata": {
  "kernelspec": {
   "display_name": "masterarbeit_stage_1",
   "language": "python",
   "name": "python3"
  },
  "language_info": {
   "codemirror_mode": {
    "name": "ipython",
    "version": 3
   },
   "file_extension": ".py",
   "mimetype": "text/x-python",
   "name": "python",
   "nbconvert_exporter": "python",
   "pygments_lexer": "ipython3",
   "version": "3.11.8"
  }
 },
 "nbformat": 4,
 "nbformat_minor": 2
}
