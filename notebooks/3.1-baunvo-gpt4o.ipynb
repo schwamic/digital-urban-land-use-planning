{
 "cells": [
  {
   "cell_type": "markdown",
   "metadata": {},
   "source": [
    "# 3.1 BauNVO (GPT-4o)\n",
    "\n",
    "* Zero-Shot\n",
    "* Chain-Of-Thought"
   ]
  },
  {
   "cell_type": "code",
   "execution_count": 1,
   "metadata": {},
   "outputs": [],
   "source": [
    "from utils.parser import Parser\n",
    "from utils.openai import OpenAI\n",
    "\n",
    "instructions = \"Du bist ein Assistent zur getreuen Wiedergabe von Informationen aus einem Gesetzbuch. Achte auf Vollständigkeit.\"\n",
    "gerty = OpenAI(instructions)\n",
    "parser = Parser()"
   ]
  },
  {
   "cell_type": "code",
   "execution_count": 2,
   "metadata": {},
   "outputs": [
    {
     "name": "stdout",
     "output_type": "stream",
     "text": [
      "16\n"
     ]
    }
   ],
   "source": [
    "# BauNVO\n",
    "pdf_path = \"../data/raw/gesetze/BauNVO.pdf\"\n",
    "pdf_prompts = parser.pdf2prompts(pdf_path)\n",
    "print(len(pdf_prompts))"
   ]
  },
  {
   "cell_type": "code",
   "execution_count": 3,
   "metadata": {},
   "outputs": [
    {
     "name": "stdout",
     "output_type": "stream",
     "text": [
      "### Abschnitt \"Art der baulichen Nutzung\"\n",
      "\n",
      "- § 1 Allgemeine Vorschriften für Bauflächen und Baugebiete\n",
      "- § 2 Kleinsiedlungsgebiete\n",
      "- § 3 Reine Wohngebiete\n",
      "- § 4 Allgemeine Wohngebiete\n",
      "- § 4a Gebiete zur Erhaltung und Entwicklung der Wohnnutzung (besondere Wohngebiete)\n",
      "- § 5 Dorfgebiete\n",
      "- § 5a Dörfliche Wohngebiete\n",
      "- § 6 Mischgebiete\n",
      "- § 6a Urbane Gebiete\n",
      "- § 7 Kerngebiete\n",
      "- § 8 Gewerbegebiete\n",
      "- § 9 Industriegebiete\n",
      "- § 10 Sondergebiete, die der Erholung dienen\n",
      "- § 11 Sonstige Sondergebiete\n",
      "- § 12 Stellplätze und Garagen\n",
      "- § 13 Gebäude und Räume für freie Berufe\n",
      "- § 13a Ferienwohnungen\n",
      "- § 14 Nebenanlagen; Anlagen zur Nutzung solarer Strahlungsenergie und Kraft-Wärme-Kopplungsanlagen\n",
      "- § 15 Allgemeine Voraussetzungen für die Zulässigkeit baulicher und sonstiger Anlagen\n",
      "\n",
      "### Abschnitt \"Maß der baulichen Nutzung\"\n",
      "\n",
      "- § 16 Bestimmung des Maßes der baulichen Nutzung\n",
      "- § 17 Orientierungswerte für die Bestimmung des Maßes der baulichen Nutzung\n",
      "- § 18 Höhe baulicher Anlagen\n",
      "- § 19 Grundflächenzahl, zulässige Grundfläche\n",
      "- § 20 Vollgeschosse, Geschossflächenzahl, Geschossfläche\n",
      "- § 21 Baumassenzahl, Baumasse\n",
      "- § 21a Stellplätze, Garagen und Gemeinschaftsanlagen\n",
      "\n",
      "### Abschnitt \"Bauweise, überbaubare Grundstücksfläche\"\n",
      "\n",
      "- § 22 Bauweise\n",
      "- § 23 Überbaubare Grundstücksfläche\n"
     ]
    }
   ],
   "source": [
    "# Extract relevant paragraphs\n",
    "msg = gerty.request([\n",
    "        *pdf_prompts,\n",
    "        {\n",
    "            \"type\": \"text\",\n",
    "            \"text\": 'Extrahiere alle Paragraphen zum Abschnitt \"Art der baulichen Nutzung\".'\n",
    "        },\n",
    "        {\n",
    "            \"type\": \"text\",\n",
    "            \"text\": 'Extrahiere alle Paragraphen zum Abschnitt \"Maß der baulichen Nutzung\".'\n",
    "        },\n",
    "        {\n",
    "            \"type\": \"text\",\n",
    "            \"text\": 'Extrahiere alle Paragraphen zum Abschnitt \"Bauweise, überbaubare Grundstücksfläche\".'\n",
    "        }\n",
    "    ])\n",
    "\n",
    "print(msg)"
   ]
  }
 ],
 "metadata": {
  "kernelspec": {
   "display_name": "masterarbeit_stage_1",
   "language": "python",
   "name": "python3"
  },
  "language_info": {
   "codemirror_mode": {
    "name": "ipython",
    "version": 3
   },
   "file_extension": ".py",
   "mimetype": "text/x-python",
   "name": "python",
   "nbconvert_exporter": "python",
   "pygments_lexer": "ipython3",
   "version": "3.1.-1"
  }
 },
 "nbformat": 4,
 "nbformat_minor": 2
}
